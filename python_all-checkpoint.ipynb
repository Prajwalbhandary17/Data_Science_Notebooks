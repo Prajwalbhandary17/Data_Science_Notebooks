{
 "cells": [
  {
   "cell_type": "code",
   "execution_count": null,
   "metadata": {},
   "outputs": [],
   "source": [
    "class IOstring():\n",
    "    def __init__(self):\n",
    "        pass\n",
    "\n",
    "    def getString(self):\n",
    "        self.s = input()\n",
    "\n",
    "    def printString(self):\n",
    "        print(self.s.upper())\n",
    "\n",
    "xx = IOstring()\n",
    "xx.getString()\n",
    "xx.printString()"
   ]
  },
  {
   "cell_type": "code",
   "execution_count": 5,
   "metadata": {},
   "outputs": [
    {
     "ename": "KeyboardInterrupt",
     "evalue": "",
     "output_type": "error",
     "traceback": [
      "\u001b[1;31m---------------------------------------------------------------------------\u001b[0m",
      "\u001b[1;31mKeyboardInterrupt\u001b[0m                         Traceback (most recent call last)",
      "\u001b[1;32m<ipython-input-5-221b18db0ced>\u001b[0m in \u001b[0;36m<module>\u001b[1;34m\u001b[0m\n\u001b[0;32m      7\u001b[0m     \u001b[1;32mreturn\u001b[0m \u001b[0ml\u001b[0m\u001b[1;33m\u001b[0m\u001b[1;33m\u001b[0m\u001b[0m\n\u001b[0;32m      8\u001b[0m \u001b[0ml\u001b[0m\u001b[1;33m=\u001b[0m\u001b[1;33m[\u001b[0m\u001b[1;36m1\u001b[0m\u001b[1;33m,\u001b[0m\u001b[1;36m2\u001b[0m\u001b[1;33m,\u001b[0m\u001b[1;36m3\u001b[0m\u001b[1;33m,\u001b[0m\u001b[1;36m4\u001b[0m\u001b[1;33m,\u001b[0m\u001b[1;36m5\u001b[0m\u001b[1;33m,\u001b[0m\u001b[1;36m6\u001b[0m\u001b[1;33m]\u001b[0m\u001b[1;33m\u001b[0m\u001b[1;33m\u001b[0m\u001b[0m\n\u001b[1;32m----> 9\u001b[1;33m \u001b[0mprint\u001b[0m\u001b[1;33m(\u001b[0m\u001b[0mgj\u001b[0m\u001b[1;33m(\u001b[0m\u001b[0ml\u001b[0m\u001b[1;33m)\u001b[0m\u001b[1;33m)\u001b[0m\u001b[1;33m\u001b[0m\u001b[1;33m\u001b[0m\u001b[0m\n\u001b[0m",
      "\u001b[1;32m<ipython-input-5-221b18db0ced>\u001b[0m in \u001b[0;36mgj\u001b[1;34m(l)\u001b[0m\n\u001b[0;32m      3\u001b[0m     \u001b[0mn\u001b[0m \u001b[1;33m=\u001b[0m\u001b[0mlen\u001b[0m\u001b[1;33m(\u001b[0m\u001b[0ml\u001b[0m\u001b[1;33m)\u001b[0m\u001b[1;33m\u001b[0m\u001b[1;33m\u001b[0m\u001b[0m\n\u001b[0;32m      4\u001b[0m     \u001b[1;32mwhile\u001b[0m\u001b[1;33m(\u001b[0m\u001b[0mlen\u001b[0m\u001b[1;33m(\u001b[0m\u001b[0ml\u001b[0m\u001b[1;33m)\u001b[0m\u001b[1;33m>\u001b[0m\u001b[0mn\u001b[0m\u001b[1;33m//\u001b[0m\u001b[1;36m2\u001b[0m\u001b[1;33m)\u001b[0m\u001b[1;33m:\u001b[0m\u001b[1;33m\u001b[0m\u001b[1;33m\u001b[0m\u001b[0m\n\u001b[1;32m----> 5\u001b[1;33m         \u001b[0mi\u001b[0m \u001b[1;33m=\u001b[0m \u001b[0mrandom\u001b[0m\u001b[1;33m.\u001b[0m\u001b[0mrandint\u001b[0m\u001b[1;33m(\u001b[0m\u001b[1;36m0\u001b[0m\u001b[1;33m,\u001b[0m\u001b[0mlen\u001b[0m\u001b[1;33m(\u001b[0m\u001b[0ml\u001b[0m\u001b[1;33m)\u001b[0m\u001b[1;33m)\u001b[0m\u001b[1;33m\u001b[0m\u001b[1;33m\u001b[0m\u001b[0m\n\u001b[0m\u001b[0;32m      6\u001b[0m         \u001b[1;31m#l.pop(i)\u001b[0m\u001b[1;33m\u001b[0m\u001b[1;33m\u001b[0m\u001b[1;33m\u001b[0m\u001b[0m\n\u001b[0;32m      7\u001b[0m     \u001b[1;32mreturn\u001b[0m \u001b[0ml\u001b[0m\u001b[1;33m\u001b[0m\u001b[1;33m\u001b[0m\u001b[0m\n",
      "\u001b[1;32m~\\.conda\\envs\\tf3.7\\lib\\random.py\u001b[0m in \u001b[0;36mrandint\u001b[1;34m(self, a, b)\u001b[0m\n\u001b[0;32m    220\u001b[0m         \"\"\"\n\u001b[0;32m    221\u001b[0m \u001b[1;33m\u001b[0m\u001b[0m\n\u001b[1;32m--> 222\u001b[1;33m         \u001b[1;32mreturn\u001b[0m \u001b[0mself\u001b[0m\u001b[1;33m.\u001b[0m\u001b[0mrandrange\u001b[0m\u001b[1;33m(\u001b[0m\u001b[0ma\u001b[0m\u001b[1;33m,\u001b[0m \u001b[0mb\u001b[0m\u001b[1;33m+\u001b[0m\u001b[1;36m1\u001b[0m\u001b[1;33m)\u001b[0m\u001b[1;33m\u001b[0m\u001b[1;33m\u001b[0m\u001b[0m\n\u001b[0m\u001b[0;32m    223\u001b[0m \u001b[1;33m\u001b[0m\u001b[0m\n\u001b[0;32m    224\u001b[0m     def _randbelow(self, n, int=int, maxsize=1<<BPF, type=type,\n",
      "\u001b[1;32m~\\.conda\\envs\\tf3.7\\lib\\random.py\u001b[0m in \u001b[0;36mrandrange\u001b[1;34m(self, start, stop, step, _int)\u001b[0m\n\u001b[0;32m    196\u001b[0m         \u001b[0mwidth\u001b[0m \u001b[1;33m=\u001b[0m \u001b[0mistop\u001b[0m \u001b[1;33m-\u001b[0m \u001b[0mistart\u001b[0m\u001b[1;33m\u001b[0m\u001b[1;33m\u001b[0m\u001b[0m\n\u001b[0;32m    197\u001b[0m         \u001b[1;32mif\u001b[0m \u001b[0mstep\u001b[0m \u001b[1;33m==\u001b[0m \u001b[1;36m1\u001b[0m \u001b[1;32mand\u001b[0m \u001b[0mwidth\u001b[0m \u001b[1;33m>\u001b[0m \u001b[1;36m0\u001b[0m\u001b[1;33m:\u001b[0m\u001b[1;33m\u001b[0m\u001b[1;33m\u001b[0m\u001b[0m\n\u001b[1;32m--> 198\u001b[1;33m             \u001b[1;32mreturn\u001b[0m \u001b[0mistart\u001b[0m \u001b[1;33m+\u001b[0m \u001b[0mself\u001b[0m\u001b[1;33m.\u001b[0m\u001b[0m_randbelow\u001b[0m\u001b[1;33m(\u001b[0m\u001b[0mwidth\u001b[0m\u001b[1;33m)\u001b[0m\u001b[1;33m\u001b[0m\u001b[1;33m\u001b[0m\u001b[0m\n\u001b[0m\u001b[0;32m    199\u001b[0m         \u001b[1;32mif\u001b[0m \u001b[0mstep\u001b[0m \u001b[1;33m==\u001b[0m \u001b[1;36m1\u001b[0m\u001b[1;33m:\u001b[0m\u001b[1;33m\u001b[0m\u001b[1;33m\u001b[0m\u001b[0m\n\u001b[0;32m    200\u001b[0m             \u001b[1;32mraise\u001b[0m \u001b[0mValueError\u001b[0m\u001b[1;33m(\u001b[0m\u001b[1;34m\"empty range for randrange() (%d,%d, %d)\"\u001b[0m \u001b[1;33m%\u001b[0m \u001b[1;33m(\u001b[0m\u001b[0mistart\u001b[0m\u001b[1;33m,\u001b[0m \u001b[0mistop\u001b[0m\u001b[1;33m,\u001b[0m \u001b[0mwidth\u001b[0m\u001b[1;33m)\u001b[0m\u001b[1;33m)\u001b[0m\u001b[1;33m\u001b[0m\u001b[1;33m\u001b[0m\u001b[0m\n",
      "\u001b[1;32m~\\.conda\\envs\\tf3.7\\lib\\random.py\u001b[0m in \u001b[0;36m_randbelow\u001b[1;34m(self, n, int, maxsize, type, Method, BuiltinMethod)\u001b[0m\n\u001b[0;32m    230\u001b[0m         \u001b[1;31m# Only call self.getrandbits if the original random() builtin method\u001b[0m\u001b[1;33m\u001b[0m\u001b[1;33m\u001b[0m\u001b[1;33m\u001b[0m\u001b[0m\n\u001b[0;32m    231\u001b[0m         \u001b[1;31m# has not been overridden or if a new getrandbits() was supplied.\u001b[0m\u001b[1;33m\u001b[0m\u001b[1;33m\u001b[0m\u001b[1;33m\u001b[0m\u001b[0m\n\u001b[1;32m--> 232\u001b[1;33m         \u001b[1;32mif\u001b[0m \u001b[0mtype\u001b[0m\u001b[1;33m(\u001b[0m\u001b[0mrandom\u001b[0m\u001b[1;33m)\u001b[0m \u001b[1;32mis\u001b[0m \u001b[0mBuiltinMethod\u001b[0m \u001b[1;32mor\u001b[0m \u001b[0mtype\u001b[0m\u001b[1;33m(\u001b[0m\u001b[0mgetrandbits\u001b[0m\u001b[1;33m)\u001b[0m \u001b[1;32mis\u001b[0m \u001b[0mMethod\u001b[0m\u001b[1;33m:\u001b[0m\u001b[1;33m\u001b[0m\u001b[1;33m\u001b[0m\u001b[0m\n\u001b[0m\u001b[0;32m    233\u001b[0m             \u001b[0mk\u001b[0m \u001b[1;33m=\u001b[0m \u001b[0mn\u001b[0m\u001b[1;33m.\u001b[0m\u001b[0mbit_length\u001b[0m\u001b[1;33m(\u001b[0m\u001b[1;33m)\u001b[0m  \u001b[1;31m# don't use (n-1) here because n can be 1\u001b[0m\u001b[1;33m\u001b[0m\u001b[1;33m\u001b[0m\u001b[0m\n\u001b[0;32m    234\u001b[0m             \u001b[0mr\u001b[0m \u001b[1;33m=\u001b[0m \u001b[0mgetrandbits\u001b[0m\u001b[1;33m(\u001b[0m\u001b[0mk\u001b[0m\u001b[1;33m)\u001b[0m          \u001b[1;31m# 0 <= r < 2**k\u001b[0m\u001b[1;33m\u001b[0m\u001b[1;33m\u001b[0m\u001b[0m\n",
      "\u001b[1;31mKeyboardInterrupt\u001b[0m: "
     ]
    }
   ],
   "source": [
    "import random\n",
    "def gj(l):\n",
    "    n =len(l)\n",
    "    while(len(l)>n//2):\n",
    "        i = random.randint(0,len(l))\n",
    "        l.pop(i)\n",
    "    return l\n",
    "l=[1,2,3,4,5,6]\n",
    "print(gj(l))"
   ]
  },
  {
   "cell_type": "code",
   "execution_count": 782,
   "metadata": {},
   "outputs": [
    {
     "name": "stdout",
     "output_type": "stream",
     "text": [
      "2,3,4,5,6\n",
      "3,3,4,4,4\n"
     ]
    }
   ],
   "source": [
    "from math import * # importing all math functions\n",
    "\n",
    "C,H = 50,30\n",
    "\n",
    "def calc(D):\n",
    "    return sqrt((2*C*D)/H)\n",
    "\n",
    "D = input().split(',')                     # splits in comma position and set up in list\n",
    "D = [str(round(calc(int(i)))) for i in D]  # using comprehension method. It works in order of the previous code\n",
    "print(\",\".join(D))"
   ]
  },
  {
   "cell_type": "code",
   "execution_count": 8,
   "metadata": {},
   "outputs": [
    {
     "name": "stdout",
     "output_type": "stream",
     "text": [
      "2,3,4,5,6\n",
      "3,3,4,4,4\n"
     ]
    }
   ],
   "source": [
    "from math import sqrt\n",
    "\n",
    "C,H = 50,30\n",
    "def cal(d):\n",
    "    return sqrt((2*C*d)/H)\n",
    "\n",
    "n=input().split(',')\n",
    "x=[str(round(cal(int(d)))) for d in n]\n",
    "print(\",\".join(x))"
   ]
  },
  {
   "cell_type": "code",
   "execution_count": null,
   "metadata": {},
   "outputs": [],
   "source": [
    "## from math import * # importing all math functions\n",
    "C,H = 50,30\n",
    "\n",
    "def calc(D):\n",
    "    D = int(D)\n",
    "    return str(int(sqrt((2*C*D)/H)))\n",
    "\n",
    "D = input().split(',')\n",
    "D = list(map(calc,D))   # applying calc function on D and storing as a list\n",
    "print(\",\".join(D))"
   ]
  },
  {
   "cell_type": "code",
   "execution_count": 11,
   "metadata": {},
   "outputs": [
    {
     "name": "stdout",
     "output_type": "stream",
     "text": [
      "3,4\n",
      "[[0, 0, 0, 0], [0, 1, 2, 3], [0, 2, 4, 6]]\n"
     ]
    }
   ],
   "source": [
    "x,y = map(int,input().split(','))\n",
    "lst = [[i*j for j in range(y)] for i in range(x)]  \n",
    "print(lst)"
   ]
  },
  {
   "cell_type": "code",
   "execution_count": 14,
   "metadata": {},
   "outputs": [
    {
     "name": "stdout",
     "output_type": "stream",
     "text": [
      "3,4\n"
     ]
    },
    {
     "data": {
      "text/plain": [
       "[[0, 0, 0, 0], [0, 1, 2, 3], [0, 2, 4, 6]]"
      ]
     },
     "execution_count": 14,
     "metadata": {},
     "output_type": "execute_result"
    }
   ],
   "source": [
    "x,y = map(int,input().split(','))\n",
    "[[i*j for j in range(y)]for i in range(x)]"
   ]
  },
  {
   "cell_type": "code",
   "execution_count": null,
   "metadata": {},
   "outputs": [],
   "source": [
    "x,y=map(int,input().split(','))\n",
    "q=[[i*j for j in range(y)]for i in range(x)]\n",
    "q"
   ]
  },
  {
   "cell_type": "code",
   "execution_count": 19,
   "metadata": {},
   "outputs": [
    {
     "name": "stdout",
     "output_type": "stream",
     "text": [
      "df\n",
      "fg\n",
      "\n",
      "DF\n",
      "FG\n"
     ]
    }
   ],
   "source": [
    "ls=[]\n",
    "\n",
    "while True:\n",
    "    x=input()\n",
    "    if len(x)==0:\n",
    "        break;\n",
    "    ls.append(x.upper())\n",
    "    \n",
    "    \n",
    "for i in ls:\n",
    "    print(i)"
   ]
  },
  {
   "cell_type": "code",
   "execution_count": null,
   "metadata": {},
   "outputs": [],
   "source": [
    "lst = []\n",
    "\n",
    "while True:\n",
    "    x = input()\n",
    "    if len(x)==0:\n",
    "        break;\n",
    "    lst.append(x.upper())\n",
    "\n",
    "for line in lst:\n",
    "    print(line)"
   ]
  },
  {
   "cell_type": "code",
   "execution_count": 28,
   "metadata": {
    "collapsed": true
   },
   "outputs": [
    {
     "name": "stdout",
     "output_type": "stream",
     "text": [
      "ghj\n"
     ]
    },
    {
     "ename": "TypeError",
     "evalue": "'int' object is not iterable",
     "output_type": "error",
     "traceback": [
      "\u001b[1;31m---------------------------------------------------------------------------\u001b[0m",
      "\u001b[1;31mTypeError\u001b[0m                                 Traceback (most recent call last)",
      "\u001b[1;32m<ipython-input-28-498f04ec8f82>\u001b[0m in \u001b[0;36m<module>\u001b[1;34m\u001b[0m\n\u001b[0;32m      1\u001b[0m \u001b[0mword\u001b[0m \u001b[1;33m=\u001b[0m \u001b[0minput\u001b[0m\u001b[1;33m(\u001b[0m\u001b[1;33m)\u001b[0m\u001b[1;33m.\u001b[0m\u001b[0msplit\u001b[0m\u001b[1;33m(\u001b[0m\u001b[1;33m)\u001b[0m\u001b[1;33m\u001b[0m\u001b[1;33m\u001b[0m\u001b[0m\n\u001b[1;32m----> 2\u001b[1;33m \u001b[1;33m[\u001b[0m\u001b[0mword\u001b[0m\u001b[1;33m.\u001b[0m\u001b[0mremove\u001b[0m\u001b[1;33m(\u001b[0m\u001b[0mi\u001b[0m\u001b[1;33m)\u001b[0m \u001b[1;32mfor\u001b[0m \u001b[0mi\u001b[0m \u001b[1;32min\u001b[0m \u001b[0mlen\u001b[0m\u001b[1;33m(\u001b[0m\u001b[0mword\u001b[0m\u001b[1;33m)\u001b[0m \u001b[1;32mif\u001b[0m \u001b[0mi\u001b[0m \u001b[1;33m>\u001b[0m \u001b[1;36m1\u001b[0m \u001b[1;33m]\u001b[0m   \u001b[1;31m# removal operation with comprehension method\u001b[0m\u001b[1;33m\u001b[0m\u001b[1;33m\u001b[0m\u001b[0m\n\u001b[0m\u001b[0;32m      3\u001b[0m \u001b[0mword\u001b[0m\u001b[1;33m.\u001b[0m\u001b[0msort\u001b[0m\u001b[1;33m(\u001b[0m\u001b[1;33m)\u001b[0m\u001b[1;33m\u001b[0m\u001b[1;33m\u001b[0m\u001b[0m\n\u001b[0;32m      4\u001b[0m \u001b[0mprint\u001b[0m\u001b[1;33m(\u001b[0m\u001b[1;34m\" \"\u001b[0m\u001b[1;33m.\u001b[0m\u001b[0mjoin\u001b[0m\u001b[1;33m(\u001b[0m\u001b[0mword\u001b[0m\u001b[1;33m)\u001b[0m\u001b[1;33m)\u001b[0m\u001b[1;33m\u001b[0m\u001b[1;33m\u001b[0m\u001b[0m\n",
      "\u001b[1;31mTypeError\u001b[0m: 'int' object is not iterable"
     ]
    }
   ],
   "source": [
    "word = input().split()\n",
    "[word.remove(i) for i in len(word) if i > 1 ]   # removal operation with comprehension method\n",
    "word.sort()\n",
    "print(\" \".join(word))"
   ]
  },
  {
   "cell_type": "code",
   "execution_count": null,
   "metadata": {},
   "outputs": [],
   "source": [
    "n='hello world and practice makes perfect and hello world again'\n",
    "n=n.split()\n",
    "print(' '.join(sorted(list((set(n))))))"
   ]
  },
  {
   "cell_type": "code",
   "execution_count": null,
   "metadata": {},
   "outputs": [],
   "source": [
    "inp=list(map(int,input().split(',')))\n",
    "for i in inp:\n",
    "    if i%5==0:\n",
    "        print(i)\n",
    "        "
   ]
  },
  {
   "cell_type": "code",
   "execution_count": 30,
   "metadata": {},
   "outputs": [
    {
     "name": "stdout",
     "output_type": "stream",
     "text": [
      "2,3,4\n",
      "\n"
     ]
    }
   ],
   "source": [
    "data = input().split(',')\n",
    "data = list(filter(lambda i:int(i)%5==0,data))    # lambda is an operator that helps to write function of one line\n",
    "print(\",\".join(data))"
   ]
  },
  {
   "cell_type": "code",
   "execution_count": null,
   "metadata": {},
   "outputs": [],
   "source": [
    "def check(x):                   # check function returns true if divisible by 5\n",
    "    return int(x,2)%5 == 0      # int(x,b) takes x as string and b as base from which\n",
    "                                # it will be converted to decimal\n",
    "data = input().split(',')\n",
    "\n",
    "data = list(filter(check,data)) # in filter(func,object) function, elements are picked from 'data' if found True by 'check' function\n",
    "print(\",\".join(data))"
   ]
  },
  {
   "cell_type": "code",
   "execution_count": 787,
   "metadata": {},
   "outputs": [
    {
     "name": "stdout",
     "output_type": "stream",
     "text": [
      "2000,2002,2004,2006,2008,2020,2022,2024,2026,2028,2040,2042,2044,2046,2048,2060,2062,2064,2066,2068,2080,2082,2084,2086,2088,2200,2202,2204,2206,2208,2220,2222,2224,2226,2228,2240,2242,2244,2246,2248,2260,2262,2264,2266,2268,2280,2282,2284,2286,2288,2400,2402,2404,2406,2408,2420,2422,2424,2426,2428,2440,2442,2444,2446,2448,2460,2462,2464,2466,2468,2480,2482,2484,2486,2488,2600,2602,2604,2606,2608,2620,2622,2624,2626,2628,2640,2642,2644,2646,2648,2660,2662,2664,2666,2668,2680,2682,2684,2686,2688,2800,2802,2804,2806,2808,2820,2822,2824,2826,2828,2840,2842,2844,2846,2848,2860,2862,2864,2866,2868,2880,2882,2884,2886,2888\n"
     ]
    }
   ],
   "source": [
    "lst = [str(i) for i in range(1000,3001)]\n",
    "lst = list(filter(lambda i: all(ord(j)%2 == 0 for j in i),lst ))   # using lambda to define function inside filter function\n",
    "print(\",\".join(lst))"
   ]
  },
  {
   "cell_type": "code",
   "execution_count": null,
   "metadata": {},
   "outputs": [],
   "source": [
    "def check(element):\n",
    "    return all(ord(i)%2 == 0 for i in element)  # all returns True if all digits i is even in element\n",
    "\n",
    "lst = [str(i) for i in range(1000,3001)]        # creates list of all given numbers with string data type\n",
    "lst = list(filter(check,lst))                   # filter removes element from list if check condition fails\n",
    "print(\",\".join(lst))"
   ]
  },
  {
   "cell_type": "code",
   "execution_count": null,
   "metadata": {},
   "outputs": [],
   "source": [
    "lst = [str(i) for i in range(1000,3001)]\n",
    "lst = list(filter(lambda i: all(ord(j)%2 == 0 for j in i),lst ))   # using lambda to define function inside filter function\n",
    "print(\",\".join(lst))"
   ]
  },
  {
   "cell_type": "code",
   "execution_count": 788,
   "metadata": {},
   "outputs": [
    {
     "name": "stdout",
     "output_type": "stream",
     "text": [
      "sdfg345sdf\n",
      "LETTERS 7\n",
      "DIGITS 3\n"
     ]
    }
   ],
   "source": [
    "word = input()\n",
    "letter,digit = 0,0\n",
    "\n",
    "for i in word:\n",
    "    letter+=i.isalpha()         # returns True if alphabet\n",
    "    digit+=i.isnumeric()        # returns True if numeric\n",
    "\n",
    "print(\"LETTERS %d\\nDIGITS %d\"%(letter,digit))  "
   ]
  },
  {
   "cell_type": "code",
   "execution_count": null,
   "metadata": {},
   "outputs": [],
   "source": [
    "word = input()\n",
    "upper = sum(1 for i in word if i.isupper())           # sum function cumulatively sum up 1's if the condition is True\n",
    "lower = sum(1 for i in word if i.islower())\n",
    "\n",
    "print(\"UPPER CASE {0}\\nLOWER CASE {1}\".format(upper,lower))"
   ]
  },
  {
   "cell_type": "code",
   "execution_count": 791,
   "metadata": {},
   "outputs": [
    {
     "name": "stdout",
     "output_type": "stream",
     "text": [
      "5 7\n",
      "\n",
      "0\n"
     ]
    }
   ],
   "source": [
    "total = 0\n",
    "while True:\n",
    "    s = input().split()\n",
    "    if not s:            # break if the string is empty\n",
    "        break\n",
    "    cm,num = map(str,s)    # two inputs are distributed in cm and num in string data type\n",
    "\n",
    "    if cm=='D':\n",
    "        total+=int(num)\n",
    "    if cm=='W':\n",
    "        total-=int(num)\n",
    "\n",
    "print(total)"
   ]
  },
  {
   "cell_type": "code",
   "execution_count": null,
   "metadata": {},
   "outputs": [],
   "source": [
    "s = input().split()\n",
    "cm,num = map(str,s)"
   ]
  },
  {
   "cell_type": "code",
   "execution_count": null,
   "metadata": {},
   "outputs": [],
   "source": [
    "from operator import itemgetter, attrgetter\n",
    "\n",
    "l = []\n",
    "while True:\n",
    "    s = input()\n",
    "    if not s:\n",
    "        break\n",
    "    l.append(tuple(s.split(\",\")))\n",
    "\n",
    "print(sorted(l, key=itemgetter(0,1,2)))"
   ]
  },
  {
   "cell_type": "code",
   "execution_count": null,
   "metadata": {},
   "outputs": [],
   "source": [
    "n=input()\n",
    "for j in n:\n",
    "    if j.isalpha():\n",
    "        count=count+1\n",
    "    elif j.isnumeric():\n",
    "        count1=count1+1\n",
    "    else:\n",
    "        pass\n",
    "print(count,count1)    "
   ]
  },
  {
   "cell_type": "code",
   "execution_count": null,
   "metadata": {},
   "outputs": [],
   "source": [
    "n=input()\n",
    "alp=sum(1 for i in n if i.isalpha())\n",
    "num=sum(1 for i in n if i.isnumeric())"
   ]
  },
  {
   "cell_type": "code",
   "execution_count": null,
   "metadata": {},
   "outputs": [],
   "source": [
    "n=input()\n",
    "alp=sum(1 for i in n if i.isspace())\n",
    "alp"
   ]
  },
  {
   "cell_type": "code",
   "execution_count": null,
   "metadata": {},
   "outputs": [],
   "source": [
    "lst = [str(int(i)**2) for i in input().split(',') if int(i) % 2]\n",
    "print(\",\".join(lst))"
   ]
  },
  {
   "cell_type": "code",
   "execution_count": null,
   "metadata": {},
   "outputs": [],
   "source": [
    "n=New to Python or choosing between Python 2 and Python 3? Read Python 2 or Python 3."
   ]
  },
  {
   "cell_type": "code",
   "execution_count": null,
   "metadata": {},
   "outputs": [],
   "source": [
    "freq={}\n",
    "line=input()\n",
    "for word in line.split():\n",
    "    freq[word] = freq.get(word,0)+1\n",
    "    \n",
    "words = freq.keys()\n",
    "words=sorted(freq.items())\n"
   ]
  },
  {
   "cell_type": "code",
   "execution_count": 43,
   "metadata": {},
   "outputs": [
    {
     "name": "stdout",
     "output_type": "stream",
     "text": [
      "[('i', 3), ('o', 3), ('p', 4), ('t', 3), ('u', 5), ('y', 3)]\n"
     ]
    }
   ],
   "source": [
    "freq = {}\n",
    "word = 'ptyuioptuuyuioptyuiop'\n",
    "for i in word:\n",
    "    freq[i] = freq.get(i,0)+1\n",
    "print(sorted(freq.items()))"
   ]
  },
  {
   "cell_type": "code",
   "execution_count": null,
   "metadata": {},
   "outputs": [],
   "source": [
    "# pprint import pprint\n",
    "p=input().split()\n",
    "print({i:p.count(i) for i in p})"
   ]
  },
  {
   "cell_type": "code",
   "execution_count": 44,
   "metadata": {},
   "outputs": [
    {
     "name": "stdout",
     "output_type": "stream",
     "text": [
      "{'p': 4, 't': 3, 'y': 3, 'u': 5, 'i': 3, 'o': 3}\n"
     ]
    }
   ],
   "source": [
    "print({i:word.count(i) for i in word})"
   ]
  },
  {
   "cell_type": "code",
   "execution_count": null,
   "metadata": {},
   "outputs": [],
   "source": [
    "###palindrom numkber it will same if we write ultaaa\n",
    "\n",
    "def pal(n):\n",
    "    x=n[::-1]\n",
    "    if x==n:\n",
    "        print(\"paliii\")\n",
    "    else:\n",
    "        print(\"not_pali\")\n",
    "print(pal('bob'))"
   ]
  },
  {
   "cell_type": "code",
   "execution_count": 104,
   "metadata": {},
   "outputs": [
    {
     "name": "stdout",
     "output_type": "stream",
     "text": [
      "120\n"
     ]
    }
   ],
   "source": [
    "def factor(x):\n",
    "    if x==1:\n",
    "        return 1\n",
    "    else:\n",
    "        return x*factor(x-1)\n",
    "print(factor(5))"
   ]
  },
  {
   "cell_type": "code",
   "execution_count": 794,
   "metadata": {},
   "outputs": [
    {
     "name": "stdout",
     "output_type": "stream",
     "text": [
      "5\n",
      "0 1 1 2 3 5 8 "
     ]
    }
   ],
   "source": [
    "n=int(input())\n",
    "a,b=0,1\n",
    "print(a,b,end=\" \")\n",
    "while n>0:\n",
    "    c = a+b\n",
    "    a = b\n",
    "    b = c\n",
    "    print(c,end=' ')\n",
    "    n-=1"
   ]
  },
  {
   "cell_type": "code",
   "execution_count": null,
   "metadata": {},
   "outputs": [],
   "source": [
    "###Fibonacci Series\n",
    "\n",
    "a=int(input(\"Enter a number\"))\n",
    "b= int(input(\"enter a second number\"))\n",
    "n= int(input('enter  a number required'))\n",
    "print(a,b,end=\" \")\n",
    "while n-2: ### i am printing 2 trems i am minusing\n",
    "    c= a+b\n",
    "    a=b\n",
    "    b=c\n",
    "    print(c,end=\" \")\n",
    "    n=n-1"
   ]
  },
  {
   "cell_type": "code",
   "execution_count": null,
   "metadata": {},
   "outputs": [],
   "source": [
    "# Python program to display the Fibonacci sequence\n",
    "\n",
    "def recur_fibo(n):\n",
    "   if n <= 1:\n",
    "       return n\n",
    "   else:\n",
    "       return(recur_fibo(n-1) + recur_fibo(n-2))\n",
    "\n",
    "nterms = 10\n",
    "\n",
    "# check if the number of terms is valid\n",
    "if nterms <= 0:\n",
    "   print(\"Plese enter a positive integer\")\n",
    "else:\n",
    "   print(\"Fibonacci sequence:\")\n",
    "   for i in range(nterms):\n",
    "       print(recur_fibo(i))"
   ]
  },
  {
   "cell_type": "code",
   "execution_count": 47,
   "metadata": {},
   "outputs": [
    {
     "name": "stdout",
     "output_type": "stream",
     "text": [
      "0 1 1 2 3 5 8 13 21 34 "
     ]
    }
   ],
   "source": [
    "def recur_fibo(n):\n",
    "    if n <= 1:\n",
    "           return n\n",
    "    else:\n",
    "           return(recur_fibo(n-1) + recur_fibo(n-2))   \n",
    "n= 10\n",
    "for i in range(n):\n",
    "    print(recur_fibo(i),end=' ')"
   ]
  },
  {
   "cell_type": "code",
   "execution_count": null,
   "metadata": {},
   "outputs": [],
   "source": [
    "# Python program for implementation of Bubble Sort\n",
    " \n",
    "def bubbleSort(arr):\n",
    "    n = len(arr)\n",
    " \n",
    "    # Traverse through all array elements\n",
    "    for i in range(n):\n",
    " \n",
    "        # Last i elements are already in place\n",
    "        for j in range(0, n-i-1):\n",
    " \n",
    "            # traverse the array from 0 to n-i-1\n",
    "            # Swap if the element found is greater\n",
    "            # than the next element\n",
    "            if arr[j] > arr[j+1] :\n",
    "                arr[j], arr[j+1] = arr[j+1], arr[j]\n",
    " \n",
    "# Driver code to test above\n",
    "arr = [64, 34, 25, 12, 22, 11, 90]\n",
    " \n",
    "bubbleSort(arr)\n",
    " \n",
    "print (\"Sorted array is:\")\n",
    "for i in range(len(arr)):\n",
    "    print (\"%d\" %arr[i]), "
   ]
  },
  {
   "cell_type": "code",
   "execution_count": 797,
   "metadata": {},
   "outputs": [
    {
     "name": "stdout",
     "output_type": "stream",
     "text": [
      "[11, 12, 22, 25, 34, 64, 90]\n"
     ]
    }
   ],
   "source": [
    "arr = [64, 34, 25, 12, 22, 11, 90]\n",
    "n = len(arr)\n",
    "for i in range(n):\n",
    "    for j in range(n-1):\n",
    "        if arr[j]>arr[j+1]:\n",
    "            arr[j],arr[j+1]=arr[j+1],arr[j]\n",
    "print(arr)"
   ]
  },
  {
   "cell_type": "code",
   "execution_count": 798,
   "metadata": {},
   "outputs": [
    {
     "name": "stdout",
     "output_type": "stream",
     "text": [
      "[11, 12, 22, 25, 34, 64, 90]\n"
     ]
    }
   ],
   "source": [
    "arr = [64, 34, 25, 12, 22, 11, 90]\n",
    "n=len(arr)\n",
    "for i in range(n):\n",
    "    for j in range(0,n-1-i):\n",
    "        if arr[j]>arr[j+1]:\n",
    "            arr[j],arr[j+1]=arr[j+1],arr[j]\n",
    "print(arr)"
   ]
  },
  {
   "cell_type": "code",
   "execution_count": null,
   "metadata": {},
   "outputs": [],
   "source": [
    "\n",
    "n= int(input())\n",
    "a,b=0,1\n",
    "print(a,b,end=\" \")\n",
    "while n-2:\n",
    "    c=a+b\n",
    "    a = b\n",
    "    b = c\n",
    "    print(c,end=\" \")\n",
    "    n= n-1"
   ]
  },
  {
   "cell_type": "code",
   "execution_count": null,
   "metadata": {},
   "outputs": [],
   "source": [
    "class human:\n",
    "    name=None\n",
    "    age=None\n",
    "    def get_name(self):\n",
    "        self.name=input()\n",
    "    def get_age(self):\n",
    "        self.age= input()\n",
    "    def display_name(self):\n",
    "        print(\"u name is\",self.name)\n",
    "        ### once we creat class we have to create object"
   ]
  },
  {
   "cell_type": "code",
   "execution_count": null,
   "metadata": {},
   "outputs": [],
   "source": [
    "person=human()#### Craeting the object "
   ]
  },
  {
   "cell_type": "code",
   "execution_count": null,
   "metadata": {},
   "outputs": [],
   "source": [
    "person.get_name()"
   ]
  },
  {
   "cell_type": "code",
   "execution_count": null,
   "metadata": {},
   "outputs": [],
   "source": [
    "person.display_name()"
   ]
  },
  {
   "cell_type": "code",
   "execution_count": null,
   "metadata": {},
   "outputs": [],
   "source": [
    "person.get_name()"
   ]
  },
  {
   "cell_type": "code",
   "execution_count": null,
   "metadata": {},
   "outputs": [],
   "source": [
    "person.display_name()"
   ]
  },
  {
   "cell_type": "code",
   "execution_count": null,
   "metadata": {},
   "outputs": [],
   "source": [
    "##Creating a student class init method\n",
    " ### It is a constructor\n",
    "    \n",
    "class student:\n",
    "    def __init__(self,name,age,branch):\n",
    "        self.name=name\n",
    "        self.age=age\n",
    "        self.branch=branch\n",
    "    def print_student(self):\n",
    "        print(\"Name\",self.name)\n",
    "        print(\"Name\",self.age)\n",
    "        print(\"Name\",self.branch)\n",
    "    \n",
    "    \n",
    "    "
   ]
  },
  {
   "cell_type": "code",
   "execution_count": null,
   "metadata": {},
   "outputs": [],
   "source": [
    "student1=student(\"sd\",\"56\",\"gg\")"
   ]
  },
  {
   "cell_type": "code",
   "execution_count": null,
   "metadata": {},
   "outputs": [],
   "source": [
    "student1.print_student()"
   ]
  },
  {
   "cell_type": "code",
   "execution_count": null,
   "metadata": {},
   "outputs": [],
   "source": [
    "###INhertitence method\n",
    "##example like paternts or grand parents things\n",
    "\n",
    "class fruit:\n",
    "    def __init__(self):\n",
    "        print(\"i am fruit\")###Parents\n",
    "class citrus(fruit):\n",
    "    def __init__(self):\n",
    "        super().__init__()\n",
    "        print(\"i am citrus\")###Child\n",
    "lemon= citrus()        "
   ]
  },
  {
   "cell_type": "code",
   "execution_count": 805,
   "metadata": {},
   "outputs": [
    {
     "name": "stdout",
     "output_type": "stream",
     "text": [
      "sdfg ghjsdfg\n"
     ]
    },
    {
     "data": {
      "text/plain": [
       "[('ghjsdfg', 1), ('sdfg', 1)]"
      ]
     },
     "execution_count": 805,
     "metadata": {},
     "output_type": "execute_result"
    }
   ],
   "source": [
    "from collections import Counter\n",
    "n=input().split()\n",
    "s=Counter(n)\n",
    "sorted(s.items())"
   ]
  },
  {
   "cell_type": "code",
   "execution_count": null,
   "metadata": {},
   "outputs": [],
   "source": [
    "n= input().split()\n",
    "feed={}\n",
    "for i in n:\n",
    "    feed[i]=feed.get(i,0)+1\n",
    "feed    "
   ]
  },
  {
   "cell_type": "code",
   "execution_count": null,
   "metadata": {},
   "outputs": [],
   "source": [
    "cov = lambda x: str(x)\n",
    "n= cov(10)\n",
    "print(n)\n",
    "print(type(n))"
   ]
  },
  {
   "cell_type": "code",
   "execution_count": 807,
   "metadata": {},
   "outputs": [
    {
     "name": "stdout",
     "output_type": "stream",
     "text": [
      "sdfqwrf\n"
     ]
    }
   ],
   "source": [
    "func = lambda a,b: print(max((a,b),key=len)) if len(a)!=len(b) else print(a+'\\n'+b)\n",
    "a='gehhte'\n",
    "b=\"sdfqwrf\"\n",
    "func(a,b)"
   ]
  },
  {
   "cell_type": "code",
   "execution_count": null,
   "metadata": {},
   "outputs": [],
   "source": [
    "print(max((a,b),key=len))"
   ]
  },
  {
   "cell_type": "code",
   "execution_count": 808,
   "metadata": {},
   "outputs": [
    {
     "name": "stdout",
     "output_type": "stream",
     "text": [
      "5\n"
     ]
    },
    {
     "data": {
      "text/plain": [
       "{1: 1, 2: 4, 3: 9, 4: 16, 5: 25}"
      ]
     },
     "execution_count": 808,
     "metadata": {},
     "output_type": "execute_result"
    }
   ],
   "source": [
    "n=int(input())\n",
    "sqr={}\n",
    "for i in range(1,n+1):\n",
    "    sqr[i]=i**2\n",
    "sqr    "
   ]
  },
  {
   "cell_type": "code",
   "execution_count": null,
   "metadata": {},
   "outputs": [],
   "source": [
    "{i:i**2 for i in range(1,int(input())+1)}"
   ]
  },
  {
   "cell_type": "code",
   "execution_count": null,
   "metadata": {},
   "outputs": [],
   "source": [
    "print([i**2 for i in range(1,21)][:5])"
   ]
  },
  {
   "cell_type": "code",
   "execution_count": 816,
   "metadata": {},
   "outputs": [
    {
     "name": "stdout",
     "output_type": "stream",
     "text": [
      "Enter a number153\n",
      "Amst\n"
     ]
    }
   ],
   "source": [
    "n=int(input(\"Enter a number\"))\n",
    "temp=n\n",
    "s=0\n",
    "while temp>0:\n",
    "    c = temp % 10\n",
    "    s+= c**3\n",
    "    temp=temp//10\n",
    "if n==s:\n",
    "        print(\"Amst\")\n",
    "else:\n",
    "        print(\"not\")"
   ]
  },
  {
   "cell_type": "code",
   "execution_count": 828,
   "metadata": {},
   "outputs": [
    {
     "name": "stdout",
     "output_type": "stream",
     "text": [
      "   1\n",
      "  121\n",
      " 12321\n",
      "1234321\n"
     ]
    }
   ],
   "source": [
    "###Printing pyramid\n",
    "\n",
    "#n= int(input(\"enter a pyramid depth\"))\n",
    "p=0\n",
    "for i in range(4):\n",
    "    for j in range(4-i):\n",
    "        if j<4-i-1:\n",
    "            print(' ',end='')\n",
    "        else:   \n",
    "            p=10**i+p\n",
    "            print(p**2)     "
   ]
  },
  {
   "cell_type": "markdown",
   "metadata": {},
   "source": [
    "### 5\n"
   ]
  },
  {
   "cell_type": "code",
   "execution_count": 838,
   "metadata": {},
   "outputs": [
    {
     "name": "stdout",
     "output_type": "stream",
     "text": [
      "     ^ \n",
      "    ^ ^ \n",
      "   ^ ^ ^ \n",
      "  ^ ^ ^ ^ \n",
      " ^ ^ ^ ^ ^ \n"
     ]
    }
   ],
   "source": [
    "n=5\n",
    "for i in range(n):\n",
    "    for j in range(n-i):\n",
    "        print(end= ' ')\n",
    "    for j in range(i+1):\n",
    "        print(\"^\",end=' ')\n",
    "    print()    "
   ]
  },
  {
   "cell_type": "code",
   "execution_count": 831,
   "metadata": {},
   "outputs": [
    {
     "name": "stdout",
     "output_type": "stream",
     "text": [
      "       *  \n",
      "      * *  \n",
      "     * * *  \n",
      "    * * * *  \n",
      "   * * * * *  \n",
      "  * * * * * *  \n",
      " * * * * * * *  \n"
     ]
    }
   ],
   "source": [
    "n=7\n",
    "for i in range(n):\n",
    "    for j in range(n-i):\n",
    "        print(end=\" \")\n",
    "    for j in range(i+1):\n",
    "        print(\"*\",end=' ')\n",
    "    print(\" \")    "
   ]
  },
  {
   "cell_type": "code",
   "execution_count": null,
   "metadata": {},
   "outputs": [],
   "source": [
    "n= int(input())\n",
    "if n % 400==0:\n",
    "    print(\"Leap Year\")\n",
    "elif n% 4==0:\n",
    "    print(\"Leap Year\")\n",
    "elif n% 100==0:\n",
    "    print(\"Not A Leap Year\")\n",
    "else:\n",
    "    print(\"Not A Leap Year\")"
   ]
  },
  {
   "cell_type": "code",
   "execution_count": 839,
   "metadata": {},
   "outputs": [
    {
     "name": "stdout",
     "output_type": "stream",
     "text": [
      "5\n",
      "Prime\n"
     ]
    }
   ],
   "source": [
    "n= int(input())\n",
    "count=0\n",
    "for i in range(2,n):\n",
    "    if n % i==0:\n",
    "        count+=1\n",
    "    else:\n",
    "        break\n",
    "if count!=0:\n",
    "    print(\"Not A Prime\")\n",
    "else:\n",
    "    print(\"Prime\")"
   ]
  },
  {
   "cell_type": "code",
   "execution_count": null,
   "metadata": {},
   "outputs": [],
   "source": [
    "### prime no has 2 factor \n",
    "\n",
    "n= int(input())\n",
    "for i in range(2,n):\n",
    "    if n % i==0:\n",
    "        \n",
    "        print(\"not aPrime\")\n",
    "        break\n",
    "    else:\n",
    "        print(\"Prime\")"
   ]
  },
  {
   "cell_type": "code",
   "execution_count": null,
   "metadata": {},
   "outputs": [],
   "source": [
    "area of circle =pi*r*r\n",
    "area of a cube = 6*a*a\n",
    "area of a cylinder = 2Pi*r*h+2*pi*r*r\n",
    "area of sphere = 4*pi*r*r"
   ]
  },
  {
   "cell_type": "code",
   "execution_count": null,
   "metadata": {},
   "outputs": [],
   "source": [
    ">>> import re\n",
    ">>> e=re.search(r'[0-9a-zA-Z.]+@[a-zA-Z]+\\.(com|co\\.in)$','abc@gmail.com')\n",
    ">>> e.group()"
   ]
  },
  {
   "cell_type": "code",
   "execution_count": null,
   "metadata": {},
   "outputs": [],
   "source": [
    "import turtle as tt\n",
    "from random import randint, sample\n",
    "\n",
    "def draw():\n",
    "\tsize = randint(40, 300)\n",
    "\tangles = (144, 150, 157.5, 160, 165)\n",
    "\tangle = sample(angles, 1)[0]\n",
    "\t\n",
    "\tcolors = [\n",
    "\t\t('#922B21', '#E6B0AA'), ('#76448A', '#D2B4DE'), ('#1F618D', '#AED6F1'), ('#515A5A', '#EAEDED'),\n",
    "\t\t('#148F77', '#D1F2EB'), ('#B7950B', '#F7DC6F'), ('#F39C12', '#FDEBD0'), ('#BA4A00', '#F6DDCC')]\n",
    "\tcolor = sample(colors, 1)[0]\n",
    "\ttt.color(color[0], color[1])\n",
    "\t\n",
    "\tx_pos = randint(-200,200)\n",
    "\ty_pos = randint(-200,200)\n",
    "\ttt.pu()\n",
    "\ttt.setpos(x_pos, y_pos)\n",
    "\tstart_position = tt.pos()\n",
    "\ttt.pd()\n",
    "\t\n",
    "\ttt.begin_fill()\n",
    "\twhile True:\n",
    "\t\ttt.forward(size)\n",
    "\t\ttt.left(angle)\n",
    "\t\tif abs(tt.pos() - start_position) < 1:\n",
    "\t\t\tbreak\n",
    "\ttt.end_fill()\n",
    "\t\n",
    "tt.circle(100)\n",
    "for i in range(3):\n",
    "\ttt.pensize(i%3)\n",
    "\tdraw()\n"
   ]
  },
  {
   "cell_type": "code",
   "execution_count": 840,
   "metadata": {},
   "outputs": [
    {
     "ename": "NameError",
     "evalue": "name 'draw' is not defined",
     "output_type": "error",
     "traceback": [
      "\u001b[1;31m---------------------------------------------------------------------------\u001b[0m",
      "\u001b[1;31mNameError\u001b[0m                                 Traceback (most recent call last)",
      "\u001b[1;32m<ipython-input-840-1106859c35fc>\u001b[0m in \u001b[0;36m<module>\u001b[1;34m\u001b[0m\n\u001b[0;32m      3\u001b[0m \u001b[1;32mfor\u001b[0m \u001b[0mi\u001b[0m \u001b[1;32min\u001b[0m \u001b[0mrange\u001b[0m\u001b[1;33m(\u001b[0m\u001b[1;36m3\u001b[0m\u001b[1;33m)\u001b[0m\u001b[1;33m:\u001b[0m\u001b[1;33m\u001b[0m\u001b[1;33m\u001b[0m\u001b[0m\n\u001b[0;32m      4\u001b[0m         \u001b[0mtt\u001b[0m\u001b[1;33m.\u001b[0m\u001b[0mpensize\u001b[0m\u001b[1;33m(\u001b[0m\u001b[0mi\u001b[0m\u001b[1;33m%\u001b[0m\u001b[1;36m3\u001b[0m\u001b[1;33m)\u001b[0m\u001b[1;33m\u001b[0m\u001b[1;33m\u001b[0m\u001b[0m\n\u001b[1;32m----> 5\u001b[1;33m         \u001b[0mdraw\u001b[0m\u001b[1;33m(\u001b[0m\u001b[1;33m)\u001b[0m\u001b[1;33m\u001b[0m\u001b[1;33m\u001b[0m\u001b[0m\n\u001b[0m",
      "\u001b[1;31mNameError\u001b[0m: name 'draw' is not defined"
     ]
    }
   ],
   "source": [
    "import turtle as tt\n",
    "tt.circle(100)\n",
    "for i in range(3):\n",
    "\ttt.pensize(i%3)\n",
    "\tdraw()"
   ]
  },
  {
   "cell_type": "code",
   "execution_count": 3,
   "metadata": {},
   "outputs": [
    {
     "name": "stdout",
     "output_type": "stream",
     "text": [
      "******\n",
      "******\n",
      "******\n",
      "******\n",
      "******\n",
      "******\n"
     ]
    }
   ],
   "source": [
    "for i in range(6):\n",
    "    for j in range(6):\n",
    "        print(\"*\",end=\"\")\n",
    "    print()        "
   ]
  },
  {
   "cell_type": "code",
   "execution_count": 2,
   "metadata": {},
   "outputs": [
    {
     "name": "stdout",
     "output_type": "stream",
     "text": [
      "1234\n",
      "1234\n",
      "1234\n",
      "1234\n"
     ]
    }
   ],
   "source": [
    "for i in range(1,5):\n",
    "    for j in range(1,5):\n",
    "        print(j,end=\"\")\n",
    "    print()"
   ]
  },
  {
   "cell_type": "code",
   "execution_count": 1,
   "metadata": {},
   "outputs": [
    {
     "name": "stdout",
     "output_type": "stream",
     "text": [
      "AAAA\n",
      "BBBB\n",
      "CCCC\n",
      "DDDD\n",
      "EEEE\n"
     ]
    }
   ],
   "source": [
    "for i in range(65,70):\n",
    "    for j in range(1,5):\n",
    "        print(chr(i),end=\"\")\n",
    "    print()"
   ]
  },
  {
   "cell_type": "code",
   "execution_count": 4,
   "metadata": {},
   "outputs": [
    {
     "name": "stdout",
     "output_type": "stream",
     "text": [
      "5432\n",
      "5432\n",
      "5432\n",
      "5432\n"
     ]
    }
   ],
   "source": [
    "for i in range(1,5):\n",
    "    for j in range(5,1,-1):\n",
    "        print(j,end=\"\")\n",
    "    print()"
   ]
  },
  {
   "cell_type": "code",
   "execution_count": 5,
   "metadata": {},
   "outputs": [
    {
     "name": "stdout",
     "output_type": "stream",
     "text": [
      "5555\n",
      "4444\n",
      "3333\n",
      "2222\n"
     ]
    }
   ],
   "source": [
    "for i in range(5,1,-1):\n",
    "    for j in range(1,5):\n",
    "        print(i,end=\"\")\n",
    "    print()"
   ]
  },
  {
   "cell_type": "code",
   "execution_count": 8,
   "metadata": {},
   "outputs": [
    {
     "name": "stdout",
     "output_type": "stream",
     "text": [
      "***** \n",
      "****  \n",
      "***   \n",
      "**    \n",
      "*     \n"
     ]
    }
   ],
   "source": [
    "n=5\n",
    "m=n\n",
    "for i in range(n):\n",
    "    for j in range(m):\n",
    "        print(end=\"*\")\n",
    "    for j in range(i+1):\n",
    "        print(end=\" \")\n",
    "    m-=1    \n",
    "    print()    "
   ]
  },
  {
   "cell_type": "code",
   "execution_count": 9,
   "metadata": {},
   "outputs": [
    {
     "name": "stdout",
     "output_type": "stream",
     "text": [
      "     * \n",
      "    * * \n",
      "   * * * \n",
      "  * * * * \n",
      " * * * * * \n"
     ]
    }
   ],
   "source": [
    "n=5\n",
    "m=n\n",
    "for i in range(n):\n",
    "    for j in range(m):\n",
    "        print(end=\" \")\n",
    "    for j in range(i+1):\n",
    "        print(\"*\",end=\" \")\n",
    "    m-=1    \n",
    "    print()"
   ]
  },
  {
   "cell_type": "code",
   "execution_count": null,
   "metadata": {},
   "outputs": [],
   "source": [
    "n=5\n",
    "m=n\n",
    "for i in range(n):\n",
    "    for j in range(m):\n",
    "        print(end=\"\")\n",
    "    for j in range(i+1):\n",
    "        print(\"*\",end=\"\")\n",
    "    m-=1    \n",
    "    print()"
   ]
  },
  {
   "cell_type": "code",
   "execution_count": null,
   "metadata": {},
   "outputs": [],
   "source": [
    "n=5\n",
    "m=n\n",
    "for i in range(n):\n",
    "    for j in range(m):\n",
    "        print(end=\"\")\n",
    "    for j in range(m,i,-1):\n",
    "        print(j, end=\" \")\n",
    "    print()    "
   ]
  },
  {
   "cell_type": "code",
   "execution_count": 10,
   "metadata": {},
   "outputs": [
    {
     "name": "stdout",
     "output_type": "stream",
     "text": [
      "5 5 5 5 5 \n",
      "4 4 4 4 \n",
      "3 3 3 \n",
      "2 2 \n",
      "1 \n"
     ]
    }
   ],
   "source": [
    "n=5\n",
    "m=n\n",
    "for i in range(n,0,-1):\n",
    "    for j in range(i):\n",
    "        print(i, end=\" \")\n",
    "        \n",
    "    print()"
   ]
  },
  {
   "cell_type": "code",
   "execution_count": null,
   "metadata": {},
   "outputs": [],
   "source": [
    "n=5\n",
    "m=n\n",
    "for i in range(n):\n",
    "    for j in range(m,0,-1):\n",
    "        print(end=\" \")\n",
    "    for j in range(i+1):\n",
    "        print(\"*\",end=\"\")\n",
    "    m-=1\n",
    "    print()    "
   ]
  },
  {
   "cell_type": "code",
   "execution_count": null,
   "metadata": {},
   "outputs": [],
   "source": [
    "n=5\n",
    "m=n\n",
    "for i in range(n):\n",
    "    for j in range(m):\n",
    "        print(end=\" \")\n",
    "    for j in range(i+1):\n",
    "        print(i+1,end=\" \")\n",
    "    m-=1    \n",
    "    print()"
   ]
  },
  {
   "cell_type": "code",
   "execution_count": 14,
   "metadata": {},
   "outputs": [
    {
     "name": "stdout",
     "output_type": "stream",
     "text": [
      "     1 \n",
      "    3 3 \n",
      "   5 5 5 \n",
      "  7 7 7 7 \n",
      " 9 9 9 9 9 \n"
     ]
    }
   ],
   "source": [
    "n=5\n",
    "a=1\n",
    "for i in range(n):\n",
    "    for j in range(n-i):\n",
    "        print(end=' ')\n",
    "    for j in range(i+1):\n",
    "        print(a,end=' ')\n",
    "    a+=2\n",
    "    print()   "
   ]
  },
  {
   "cell_type": "code",
   "execution_count": 20,
   "metadata": {},
   "outputs": [
    {
     "name": "stdout",
     "output_type": "stream",
     "text": [
      "    1\n",
      "   212\n",
      "  32123\n",
      " 4321234\n",
      "543212345\n"
     ]
    }
   ],
   "source": [
    "n=5\n",
    "for i in range(1,n+1):\n",
    "    for z in range(1,n-i+1):\n",
    "        print(end=\" \")\n",
    "    for z in range(i,0,-1):\n",
    "        print(z,end=\"\")\n",
    "    for z in range(2,i+1):\n",
    "        print(z,end=\"\")\n",
    "    print()"
   ]
  },
  {
   "cell_type": "code",
   "execution_count": 18,
   "metadata": {},
   "outputs": [],
   "source": [
    "for z in range(2,1+1):\n",
    "        print(z,end=\"\")"
   ]
  },
  {
   "cell_type": "code",
   "execution_count": 24,
   "metadata": {},
   "outputs": [
    {
     "name": "stdout",
     "output_type": "stream",
     "text": [
      "     \n",
      "    1\n",
      "   212\n",
      "  32123\n",
      " 4321234\n"
     ]
    }
   ],
   "source": [
    "n=5\n",
    "for i in range(n):\n",
    "    for j in range(n-i):\n",
    "        print(end=\" \")\n",
    "    for j in range(i,0,-1):\n",
    "        print(j,end=\"\")\n",
    "    for j in range(2,i+1):\n",
    "        print(j,end=\"\")\n",
    "    print()    \n",
    "    "
   ]
  },
  {
   "cell_type": "code",
   "execution_count": 21,
   "metadata": {},
   "outputs": [
    {
     "name": "stdout",
     "output_type": "stream",
     "text": [
      "     1\n",
      "    321\n",
      "   54321\n",
      "  7654321\n"
     ]
    }
   ],
   "source": [
    "n=1\n",
    "for i in range(5,1,-1):\n",
    "    for j in range(i,0,-1):\n",
    "        print(\" \",end=\"\")\n",
    "    for z in range(n,0,-1):\n",
    "        print(z,end=\"\")\n",
    "    n+=2\n",
    "    print()"
   ]
  },
  {
   "cell_type": "code",
   "execution_count": 22,
   "metadata": {},
   "outputs": [
    {
     "name": "stdout",
     "output_type": "stream",
     "text": [
      "     1\n",
      "    123\n",
      "   12345\n",
      "  1234567\n",
      " 123456789\n"
     ]
    }
   ],
   "source": [
    "n=1\n",
    "for i in range(5,0,-1):\n",
    "    for j in range(i,0,-1):\n",
    "        print(\" \",end=\"\")\n",
    "    for z in range(1,n+1):\n",
    "        print(z,end=\"\")\n",
    "    n+=2\n",
    "    print()"
   ]
  },
  {
   "cell_type": "code",
   "execution_count": 23,
   "metadata": {},
   "outputs": [
    {
     "name": "stdout",
     "output_type": "stream",
     "text": [
      "* * * * * \n",
      " * * * * \n",
      "  * * * \n",
      "   * * \n",
      "    * \n"
     ]
    }
   ],
   "source": [
    "for i in range(5,0,-1):\n",
    "    for j in range(0,5-i):\n",
    "        print(end=\" \")\n",
    "    for j in range(i,0,-1):    \n",
    "        print(\"*\",end=\" \")     \n",
    "    print()"
   ]
  },
  {
   "cell_type": "code",
   "execution_count": 48,
   "metadata": {},
   "outputs": [
    {
     "name": "stdout",
     "output_type": "stream",
     "text": [
      "omp\n",
      "opt\n",
      "puter\n",
      "compu\n",
      "r\n",
      "ter\n",
      "comput\n",
      "retupmoc\n",
      "rtpo\n",
      "compute\n"
     ]
    }
   ],
   "source": [
    "\n",
    "x = 'computer'\n",
    "print(x[1:4])\n",
    "print(x[1:6:2])\n",
    "print(x[3:])\n",
    "print(x[:5])\n",
    "print(x[-1])\n",
    "print(x[-3:])\n",
    "print(x[:-2])\n",
    "print(x[::-1])\n",
    "print(x[::-2])\n",
    "print(x[:-1])"
   ]
  },
  {
   "cell_type": "code",
   "execution_count": null,
   "metadata": {},
   "outputs": [],
   "source": [
    "a=\" asd\"+\"sff\"\n",
    "a"
   ]
  },
  {
   "cell_type": "code",
   "execution_count": null,
   "metadata": {},
   "outputs": [],
   "source": [
    "a=['dg']+['dfg'][0:]\n",
    "a"
   ]
  },
  {
   "cell_type": "code",
   "execution_count": null,
   "metadata": {},
   "outputs": [],
   "source": [
    "a  = \"dff \"*3\n",
    "a"
   ]
  },
  {
   "cell_type": "code",
   "execution_count": null,
   "metadata": {},
   "outputs": [],
   "source": [
    "[4,6]*2"
   ]
  },
  {
   "cell_type": "code",
   "execution_count": null,
   "metadata": {},
   "outputs": [],
   "source": [
    "\n",
    "x=list(np.array([4,6])*2)\n",
    "x"
   ]
  },
  {
   "cell_type": "code",
   "execution_count": null,
   "metadata": {},
   "outputs": [],
   "source": [
    "for i,m in enumerate([7,8,9],100):\n",
    "    print(i,m)"
   ]
  },
  {
   "cell_type": "code",
   "execution_count": null,
   "metadata": {},
   "outputs": [],
   "source": [
    "y =['pva','ast','dfgg']\n",
    "sorted(y)"
   ]
  },
  {
   "cell_type": "code",
   "execution_count": null,
   "metadata": {},
   "outputs": [],
   "source": [
    "p='prajwal'\n",
    "x={}\n",
    "p.count('a')"
   ]
  },
  {
   "cell_type": "code",
   "execution_count": null,
   "metadata": {},
   "outputs": [],
   "source": [
    "x='hippo'\n",
    "x.index('p')"
   ]
  },
  {
   "cell_type": "code",
   "execution_count": null,
   "metadata": {},
   "outputs": [],
   "source": [
    "\n",
    "x = ['pig', 'cow', 'horse']\n",
    "a, b, c = x\n",
    "print(a, b, c)"
   ]
  },
  {
   "cell_type": "code",
   "execution_count": null,
   "metadata": {},
   "outputs": [],
   "source": [
    "x = [5, 3, 8, 6]\n",
    "x.insert(1, 7)\n",
    "print(x)\n",
    "x.insert(1, ['a', 'm'])\n",
    "print(x)"
   ]
  },
  {
   "cell_type": "code",
   "execution_count": null,
   "metadata": {},
   "outputs": [],
   "source": [
    "x = [5, 3, 8, 6]\n",
    "x.pop()    # pop off the 6\n",
    "print(x)\n",
    "print(x.pop())"
   ]
  },
  {
   "cell_type": "code",
   "execution_count": null,
   "metadata": {},
   "outputs": [],
   "source": [
    "tp = (1,2,3,4,5,6,7,8,9,10)\n",
    "tp1 = tp[:5]\n",
    "tp1"
   ]
  },
  {
   "cell_type": "code",
   "execution_count": null,
   "metadata": {},
   "outputs": [],
   "source": [
    "tpl = (1,2,3,4,5,6,7,8,9,10)\n",
    "tuple(filter(lambda x: x%2==0,tpl))"
   ]
  },
  {
   "cell_type": "code",
   "execution_count": null,
   "metadata": {},
   "outputs": [],
   "source": [
    "tpl = (1,2,3,4,5,6,7,8,9,10)\n",
    "tpl1 = tuple(filter(lambda x : x%2==0,tpl))  # Lambda function returns True if found even element.\n",
    "                                             # Filter removes data for which function returns False\n",
    "print(tpl1)"
   ]
  },
  {
   "cell_type": "code",
   "execution_count": null,
   "metadata": {},
   "outputs": [],
   "source": [
    "li = [1,2,3,4,5,6,7,8,9,10]\n",
    "evenNumbers = tuple(map(lambda x: x**2, filter(lambda x: x%2==0, li)))\n",
    "evenNumbers"
   ]
  },
  {
   "cell_type": "code",
   "execution_count": null,
   "metadata": {},
   "outputs": [],
   "source": [
    "li = [1,2,3,4,5,6,7,8,9,10]\n",
    "tuple(map(lambda x: x*2,filter(lambda x: x%2==0,li)))"
   ]
  },
  {
   "cell_type": "code",
   "execution_count": null,
   "metadata": {},
   "outputs": [],
   "source": [
    "evenNumbers = tuple(filter(lambda x: x%2==0, range(1,21)))\n",
    "evenNumbers"
   ]
  },
  {
   "cell_type": "code",
   "execution_count": null,
   "metadata": {},
   "outputs": [],
   "source": [
    "class circle():\n",
    "    r=None\n",
    "    def __init__(self,r):\n",
    "        self.radius=r\n",
    "    def area(self):\n",
    "        return self.radius**2*3.14"
   ]
  },
  {
   "cell_type": "code",
   "execution_count": null,
   "metadata": {},
   "outputs": [],
   "source": [
    "circle(5).area()"
   ]
  },
  {
   "cell_type": "code",
   "execution_count": null,
   "metadata": {},
   "outputs": [],
   "source": [
    "class rectangle():\n",
    "    def __init__(self,l,w):\n",
    "        self.length=l\n",
    "        self.width=w\n",
    "    def area(self):\n",
    "        return self.length*self.width"
   ]
  },
  {
   "cell_type": "code",
   "execution_count": null,
   "metadata": {},
   "outputs": [],
   "source": [
    "rectangle(5,7).area()"
   ]
  },
  {
   "cell_type": "code",
   "execution_count": null,
   "metadata": {},
   "outputs": [],
   "source": [
    "raise RuntimeError('something wrong')"
   ]
  },
  {
   "cell_type": "code",
   "execution_count": null,
   "metadata": {},
   "outputs": [],
   "source": [
    "z = 'john@google.com'\n",
    "import re\n",
    "pattern =\"^[a-z]+\"\n",
    "re.findall(pattern,z)\n"
   ]
  },
  {
   "cell_type": "code",
   "execution_count": null,
   "metadata": {},
   "outputs": [],
   "source": [
    "z = \"john@google.com elise@python.com\"\n",
    "import re\n",
    "pattern =\"(\\w+)@\\w+\\.com\"\n",
    "re.findall(pattern,z)"
   ]
  },
  {
   "cell_type": "code",
   "execution_count": null,
   "metadata": {},
   "outputs": [],
   "source": [
    "s = input()\n",
    "u = s.encode('utf-8')\n",
    "print(u)"
   ]
  },
  {
   "cell_type": "code",
   "execution_count": null,
   "metadata": {},
   "outputs": [],
   "source": [
    "def f(n):\n",
    "    if n < 2:\n",
    "        return n\n",
    "    return f(n-1) + f(n-2)\n",
    "\n",
    "n = int(input())\n",
    "for i in range(n):\n",
    "    print(f(i),end=\" \")"
   ]
  },
  {
   "cell_type": "code",
   "execution_count": null,
   "metadata": {},
   "outputs": [],
   "source": [
    "li = [2,4,6,8]\n",
    "for i in li:\n",
    "    assert i%2==0,\"{} is not an even number\".format(i)"
   ]
  },
  {
   "cell_type": "code",
   "execution_count": 25,
   "metadata": {},
   "outputs": [
    {
     "name": "stdout",
     "output_type": "stream",
     "text": [
      "Array Length: 14\n",
      "Middle Value: 7\n",
      "Middle Value: 10\n",
      "The Value Found at Index: 10\n"
     ]
    }
   ],
   "source": [
    "def binary_search_Ascending(array, target):\n",
    "    lower = 0\n",
    "    upper = len(array)\n",
    "    print('Array Length:',upper)\n",
    "    while lower < upper:\n",
    "        x = (lower + upper) // 2\n",
    "        print('Middle Value:',x)\n",
    "        value = array[x]\n",
    "        if target == value:\n",
    "            return x\n",
    "        elif target > value:\n",
    "            lower = x\n",
    "        elif target < value:\n",
    "            upper = x\n",
    "\n",
    "Array = [1,5,8,10,12,13,55,66,73,78,82,85,88,99]\n",
    "print('The Value Found at Index:',binary_search_Ascending(Array, 82))"
   ]
  },
  {
   "cell_type": "code",
   "execution_count": null,
   "metadata": {},
   "outputs": [],
   "source": [
    "import random\n",
    "resp = [i for i in range(10,151) if i % 35 == 0 ]\n",
    "print(random.choice(resp))"
   ]
  },
  {
   "cell_type": "code",
   "execution_count": null,
   "metadata": {},
   "outputs": [],
   "source": [
    "from sklearn.ensemble import RandomForestRegressor"
   ]
  },
  {
   "cell_type": "code",
   "execution_count": 30,
   "metadata": {},
   "outputs": [],
   "source": [
    "a=np.array([[1,2,3,4],[5,6,7,8],[9,8,7,6]])"
   ]
  },
  {
   "cell_type": "code",
   "execution_count": 31,
   "metadata": {},
   "outputs": [
    {
     "name": "stdout",
     "output_type": "stream",
     "text": [
      "[[1 2]\n",
      " [5 6]]\n",
      "[[2 3]\n",
      " [6 7]]\n",
      "[[3 4]\n",
      " [7 8]]\n",
      "[[5 6]\n",
      " [9 8]]\n",
      "[[6 7]\n",
      " [8 7]]\n",
      "[[7 8]\n",
      " [7 6]]\n",
      "[[9 8]]\n",
      "[[8 7]]\n",
      "[[7 6]]\n"
     ]
    }
   ],
   "source": [
    "for i in range(4-1):\n",
    "    for j in range(4-1):\n",
    "        print(a[i:i+2,j:j+2])\n",
    "        "
   ]
  },
  {
   "cell_type": "code",
   "execution_count": null,
   "metadata": {},
   "outputs": [],
   "source": [
    "np.random.rand(3,2)"
   ]
  },
  {
   "cell_type": "code",
   "execution_count": null,
   "metadata": {},
   "outputs": [],
   "source": [
    "np.random.randint(0,4,(3,2))"
   ]
  },
  {
   "cell_type": "code",
   "execution_count": null,
   "metadata": {},
   "outputs": [],
   "source": [
    " ?np.random.choice"
   ]
  },
  {
   "cell_type": "code",
   "execution_count": null,
   "metadata": {},
   "outputs": [],
   "source": [
    "a =np.arange(10)\n",
    "np.random.shuffle(a)\n",
    "a"
   ]
  },
  {
   "cell_type": "code",
   "execution_count": null,
   "metadata": {},
   "outputs": [],
   "source": [
    "np.random.permutation(10)"
   ]
  },
  {
   "cell_type": "code",
   "execution_count": null,
   "metadata": {},
   "outputs": [],
   "source": [
    "a=np.arange(10).reshape(5,2)\n",
    "a"
   ]
  },
  {
   "cell_type": "code",
   "execution_count": null,
   "metadata": {},
   "outputs": [],
   "source": [
    "np.amin(a,1)"
   ]
  },
  {
   "cell_type": "code",
   "execution_count": null,
   "metadata": {},
   "outputs": [],
   "source": [
    "np.amin(a,0)"
   ]
  },
  {
   "cell_type": "code",
   "execution_count": null,
   "metadata": {},
   "outputs": [],
   "source": [
    "np.amax(a,1,keepdims=True)"
   ]
  },
  {
   "cell_type": "code",
   "execution_count": null,
   "metadata": {},
   "outputs": [],
   "source": [
    "x = np.array([[1, 4], [5, 6]])\n",
    "y = np.array([[4, 1], [2, 2]])\n",
    "print(np.dot(x, y))\n",
    "print(np.vdot(y, x))\n",
    "print(np.dot(x.flatten(), y.flatten()))\n",
    "print(np.inner(x.flatten(), y.flatten()))\n",
    "print((x*y).sum())"
   ]
  },
  {
   "cell_type": "code",
   "execution_count": null,
   "metadata": {},
   "outputs": [],
   "source": [
    "np.inner(x,y)"
   ]
  },
  {
   "cell_type": "code",
   "execution_count": null,
   "metadata": {},
   "outputs": [],
   "source": [
    "x = np.array(['a', 'b'], dtype=object)\n",
    "y = np.array([2, 3])\n",
    "print(np.inner(x, y))\n",
    "print(np.inner(y, x))\n",
    "print(np.outer(x, y))\n",
    "print(np.outer(y, x))"
   ]
  },
  {
   "cell_type": "code",
   "execution_count": null,
   "metadata": {},
   "outputs": [],
   "source": [
    "x = np.array([1, 2], dtype=object)\n",
    "y = np.array([2, 3])\n",
    "print(np.inner(x, y))\n",
    "print(np.inner(y, x))\n",
    "print(np.outer(x, y))\n",
    "print(np.outer(y, x))"
   ]
  },
  {
   "cell_type": "code",
   "execution_count": null,
   "metadata": {},
   "outputs": [],
   "source": [
    "n = int(input(\"enter a number\"))\n",
    "t = n\n",
    "res = 0\n",
    "while n>0:\n",
    "    c = n%10\n",
    "    res=res+c**3\n",
    "    n = n//10\n",
    "if t==res:\n",
    "    print('amst')\n",
    "else:\n",
    "    print('not amst')\n",
    "    \n",
    "    \n",
    "    \n",
    "    "
   ]
  },
  {
   "cell_type": "code",
   "execution_count": null,
   "metadata": {},
   "outputs": [],
   "source": [
    "n = int(input(\"enter a number\"))\n",
    "t = n\n",
    "res = 0\n",
    "while n>0:\n",
    "    c = n%10\n",
    "    res=res*10+c\n",
    "    n = n//10\n",
    "if t==res:\n",
    "    print('amst')\n",
    "else:\n",
    "    print('not amst')"
   ]
  },
  {
   "cell_type": "code",
   "execution_count": null,
   "metadata": {},
   "outputs": [],
   "source": [
    "n = int(input(\"enter a number\"))\n",
    "t =  n\n",
    "\n",
    "sum = 0\n",
    "while n:\n",
    "    p =1\n",
    "    i =1\n",
    "    c = n%10\n",
    "    while (i<=c):\n",
    "        p = p*i\n",
    "        i+=1\n",
    "    n = n//10\n",
    "    sum=sum+p\n",
    "if t==sum:\n",
    "    print('amst')\n",
    "else:\n",
    "    print('not amst')"
   ]
  },
  {
   "cell_type": "code",
   "execution_count": 36,
   "metadata": {},
   "outputs": [
    {
     "name": "stdout",
     "output_type": "stream",
     "text": [
      "enter a number145\n",
      "st\n"
     ]
    }
   ],
   "source": [
    "n = int(input(\"enter a number\"))\n",
    "t =  n\n",
    "\n",
    "sum = 0\n",
    "while n:\n",
    "    p =1\n",
    "    c = n%10\n",
    "    for i in range(c,0,-1):\n",
    "        p = p*i\n",
    "    n = n//10\n",
    "    sum=sum+p\n",
    "if t==sum:\n",
    "    print('st')\n",
    "else:\n",
    "    print('not st')"
   ]
  },
  {
   "cell_type": "code",
   "execution_count": 42,
   "metadata": {},
   "outputs": [
    {
     "name": "stdout",
     "output_type": "stream",
     "text": [
      "145\n",
      "Hurrrrey\n"
     ]
    }
   ],
   "source": [
    "n = int(input())\n",
    "temp = n\n",
    "sum = 0\n",
    "while temp:\n",
    "    c = temp % 10\n",
    "    p = 1\n",
    "    for i in range(1,c+1):\n",
    "        p = p*i\n",
    "    sum = sum + p\n",
    "    temp = temp//10\n",
    "if (sum== n):\n",
    "    print('Hurrrrey')\n",
    "else:\n",
    "    print('not st')\n",
    "    \n"
   ]
  },
  {
   "cell_type": "code",
   "execution_count": 64,
   "metadata": {},
   "outputs": [
    {
     "name": "stdout",
     "output_type": "stream",
     "text": [
      "    1\n",
      "   121\n",
      "  12321\n",
      " 1234321\n"
     ]
    }
   ],
   "source": [
    "n =5\n",
    "for i in range(1,n):\n",
    "    for j in range(5,i,-1):\n",
    "        print(\" \",end='')\n",
    "    for z in range(i-1,-i,-1):\n",
    "        print(i-abs(z),end='')\n",
    "    print()    "
   ]
  },
  {
   "cell_type": "code",
   "execution_count": 71,
   "metadata": {},
   "outputs": [
    {
     "name": "stdout",
     "output_type": "stream",
     "text": [
      "    10\n",
      "   1098\n",
      "  109876\n",
      " 10987654\n",
      "1098765432\n"
     ]
    }
   ],
   "source": [
    "inc =1\n",
    "for i in range(1,6):\n",
    "    for j in range(5,i,-1):\n",
    "        print(\" \",end='')\n",
    "    for z in range(1,inc+1):\n",
    "        print(abs(z-x),end='')\n",
    "    inc+=2    \n",
    "    print()    "
   ]
  },
  {
   "cell_type": "code",
   "execution_count": 60,
   "metadata": {},
   "outputs": [
    {
     "name": "stdout",
     "output_type": "stream",
     "text": [
      "123454321"
     ]
    }
   ],
   "source": [
    "i=5\n",
    "for z in range(i-1,-i,-1):\n",
    "        print(i-abs(z),end='')"
   ]
  },
  {
   "cell_type": "code",
   "execution_count": null,
   "metadata": {},
   "outputs": [],
   "source": [
    "##neon mumber\n",
    "n = int(input())\n",
    "num = n**2\n",
    "res= 0\n",
    "while num>0:\n",
    "    c = num %10\n",
    "    res = res+c\n",
    "    num = num//10\n",
    "res    "
   ]
  },
  {
   "cell_type": "code",
   "execution_count": 76,
   "metadata": {},
   "outputs": [
    {
     "name": "stdout",
     "output_type": "stream",
     "text": [
      "60\n",
      "48\n",
      "12\n"
     ]
    }
   ],
   "source": [
    "##gcd/hcf\n",
    "\n",
    "def gcd(a,b):\n",
    "    if b==0:\n",
    "        return a\n",
    "    else:\n",
    "        return gcd(b,a%b)\n",
    "\n",
    "n=int(input())\n",
    "m=int(input())\n",
    "print(gcd(m,n))\n"
   ]
  },
  {
   "cell_type": "code",
   "execution_count": 81,
   "metadata": {},
   "outputs": [
    {
     "name": "stdout",
     "output_type": "stream",
     "text": [
      "60\n",
      "48\n"
     ]
    },
    {
     "data": {
      "text/plain": [
       "12"
      ]
     },
     "execution_count": 81,
     "metadata": {},
     "output_type": "execute_result"
    }
   ],
   "source": [
    "## Lcm\n",
    "\n",
    "def lcm(n,m):\n",
    "    if m>n:\n",
    "        max=n\n",
    "    else:\n",
    "        max=m\n",
    "    for i in range(1,max+1) :\n",
    "        if ((m % i ==0) and (n % i==0)):\n",
    "            gcd =i\n",
    "    return gcd       \n",
    "        \n",
    "n=int(input())\n",
    "m=int(input())\n",
    "lcm(n,m)"
   ]
  },
  {
   "cell_type": "code",
   "execution_count": null,
   "metadata": {},
   "outputs": [],
   "source": [
    "## Lcm\n",
    "\n",
    "def lcm(n,m):\n",
    "    if m>n:\n",
    "        max=m\n",
    "    else:\n",
    "        max=n\n",
    "    while (1):\n",
    "        if (max % m ==0 and max % n==0):\n",
    "            print(max)\n",
    "            break\n",
    "        max= max+1\n",
    "n=int(input())\n",
    "m=int(input())\n",
    "lcm(n,m)"
   ]
  },
  {
   "cell_type": "code",
   "execution_count": null,
   "metadata": {},
   "outputs": [],
   "source": [
    "a = [71,15,7,18,99]\n",
    "n=len(a)\n",
    "for j in range(n):\n",
    "    for i in range(n-1-j):\n",
    "        if a[i]>a[i+1]:\n",
    "            a[i],a[i+1] =a[i+1],a[i]\n",
    "a        "
   ]
  },
  {
   "cell_type": "code",
   "execution_count": null,
   "metadata": {},
   "outputs": [],
   "source": [
    "n = int(input())\n",
    "if (n%4==0 and n%100!=0 or n%400==0):\n",
    "    print('leap_year')\n",
    "else:\n",
    "    print('not')"
   ]
  },
  {
   "cell_type": "code",
   "execution_count": 82,
   "metadata": {},
   "outputs": [
    {
     "name": "stdout",
     "output_type": "stream",
     "text": [
      "1 \n",
      "1 1 \n",
      "1 2 1 \n",
      "1 3 3 1 \n",
      "1 4 6 4 1 \n"
     ]
    }
   ],
   "source": [
    "# Pascal function  \n",
    "def printPascal(n):   \n",
    "    for line in range(1, n+1 ):  \n",
    "        C = 1 # used to represent C(line, i)  \n",
    "        for i in range(1, line +1):  \n",
    "            print(C, end = \" \")\n",
    "            C = int(C * (line - i) / i)\n",
    "        print()   \n",
    "n = 5  \n",
    "printPascal(n) "
   ]
  },
  {
   "cell_type": "code",
   "execution_count": 54,
   "metadata": {},
   "outputs": [
    {
     "name": "stdout",
     "output_type": "stream",
     "text": [
      "1\n",
      "11\n",
      "111\n",
      "1111\n",
      "11111\n"
     ]
    }
   ],
   "source": [
    "p=0\n",
    "for i in range(5):\n",
    "    p = 10**i+p\n",
    "    print(p)"
   ]
  },
  {
   "cell_type": "code",
   "execution_count": null,
   "metadata": {},
   "outputs": [],
   "source": [
    "##### import zlib\n",
    "s = 'hello world!hello world!hello world!hello world!'\n",
    "t = zlib.compress(s)\n",
    "print(t)\n",
    "print(zlib.decompress(t))"
   ]
  },
  {
   "cell_type": "code",
   "execution_count": null,
   "metadata": {},
   "outputs": [],
   "source": [
    "li = [12,24,35,70,88,120,155]\n",
    "li = [li[i] for i in range(len(li)) if i%2 != 0]\n",
    "print(li)"
   ]
  },
  {
   "cell_type": "code",
   "execution_count": null,
   "metadata": {},
   "outputs": [],
   "source": [
    "array = [[ [0 for col in range(8)] for col in range(5)] for row in range(3)]\n",
    "print(array)"
   ]
  },
  {
   "cell_type": "code",
   "execution_count": null,
   "metadata": {},
   "outputs": [],
   "source": [
    "[[i*j for j in range(1,11)] for i in range(7,9)]"
   ]
  },
  {
   "cell_type": "code",
   "execution_count": null,
   "metadata": {},
   "outputs": [],
   "source": [
    "li = [12,24,35,70,88,120,155]\n",
    "[x for i,x in enumerate(li) if i not in (0,4,5)]"
   ]
  },
  {
   "cell_type": "code",
   "execution_count": null,
   "metadata": {},
   "outputs": [],
   "source": [
    "li = [12,24,35,70,88,120,155]\n",
    "li = [x for (i,x) in enumerate(li) if i not in (0,4,5)]\n",
    "print(li)"
   ]
  },
  {
   "cell_type": "code",
   "execution_count": null,
   "metadata": {},
   "outputs": [],
   "source": [
    "def removeDuplicate( li ):\n",
    "    newli=[]\n",
    "    seen = set()\n",
    "    for item in li:\n",
    "        if item not in seen:\n",
    "            seen.add( item )\n",
    "            newli.append(item)\n",
    "\n",
    "    return newli\n",
    "\n",
    "li=[12,24,35,24,88,120,155,88,120,155]\n",
    "print(removeDuplicate(li))"
   ]
  },
  {
   "cell_type": "code",
   "execution_count": null,
   "metadata": {},
   "outputs": [],
   "source": [
    "list(sorted(set([12,24,35,24,88,120,155,88,120,155])))"
   ]
  },
  {
   "cell_type": "code",
   "execution_count": null,
   "metadata": {},
   "outputs": [],
   "source": [
    "a = 'abcdefgabc'\n",
    "frq= {}\n",
    "for i in a:\n",
    "    frq[i] = frq.get(i,0)+1\n",
    "for j,k in frq.items():\n",
    "    print(\"{},{}\".format(j,k))"
   ]
  },
  {
   "cell_type": "code",
   "execution_count": null,
   "metadata": {},
   "outputs": [],
   "source": [
    "import itertools\n",
    "print(list(itertools.permutations([1,2,3])))"
   ]
  },
  {
   "cell_type": "code",
   "execution_count": null,
   "metadata": {},
   "outputs": [],
   "source": [
    "s = \"H1e2l3l4o5w6o7r8l9d\"\n",
    "s = [ s[i] for i in range(len(s)) if i%2 ==0 ]\n",
    "print(''.join(s))"
   ]
  },
  {
   "cell_type": "code",
   "execution_count": null,
   "metadata": {},
   "outputs": [],
   "source": [
    "import timeit\n",
    "\n",
    "%timeit\n",
    "s = \"H1e2l3l4o5w6o7r8l9d\"\n",
    "st = [ s[i] for i in range(len(s)) if i%2==0]\n",
    "print(''.join(st))"
   ]
  },
  {
   "cell_type": "code",
   "execution_count": null,
   "metadata": {},
   "outputs": [],
   "source": [
    "import string\n",
    "\n",
    "s = input()\n",
    "for letter in string.ascii_lowercase:\n",
    "    cnt = s.count(letter)\n",
    "    if cnt > 0:\n",
    "        print(\"{},{}\".format(letter,cnt))"
   ]
  },
  {
   "cell_type": "code",
   "execution_count": null,
   "metadata": {},
   "outputs": [],
   "source": [
    "s = input()\n",
    "for letter in range(ord('a'),ord('z')+1):    # ord() gets the ascii value of a char\n",
    "    letter = chr(letter)                     # chr() gets the char of an ascii value\n",
    "    cnt = s.count(letter)\n",
    "    if cnt > 0:\n",
    "        print(\"{},{}\".format(letter,cnt))"
   ]
  },
  {
   "cell_type": "code",
   "execution_count": null,
   "metadata": {},
   "outputs": [],
   "source": [
    "s = input()\n",
    "s = ''.join(reversed(s))\n",
    "print(s)"
   ]
  },
  {
   "cell_type": "code",
   "execution_count": 68,
   "metadata": {},
   "outputs": [
    {
     "data": {
      "text/plain": [
       "['h1', 'l', '4o', 'w6', '7', '8d']"
      ]
     },
     "execution_count": 68,
     "metadata": {},
     "output_type": "execute_result"
    }
   ],
   "source": [
    "a=['h1','e2','l','3l','4o','5','w6','o','7','r','8d']\n",
    "a[::2]"
   ]
  },
  {
   "cell_type": "code",
   "execution_count": null,
   "metadata": {},
   "outputs": [],
   "source": [
    "s=input()\n",
    "s = s[::2]\n",
    "print (s)"
   ]
  },
  {
   "cell_type": "code",
   "execution_count": null,
   "metadata": {},
   "outputs": [],
   "source": [
    "s='h1e2l3l4o5w6o7r8d9'\n",
    "s = s[::2]\n",
    "print (s)"
   ]
  },
  {
   "cell_type": "code",
   "execution_count": null,
   "metadata": {},
   "outputs": [],
   "source": [
    "def solve(numheads,numlegs):\n",
    "    ns='No solutions!'\n",
    "    for i in range(numheads+1):\n",
    "        j=numheads-i\n",
    "        if 2*i+4*j==numlegs:\n",
    "            return i,j\n",
    "    return ns,ns\n",
    "\n",
    "numheads=35\n",
    "numlegs=94\n",
    "solutions=solve(numheads,numlegs)\n",
    "print(solutions)"
   ]
  },
  {
   "cell_type": "code",
   "execution_count": null,
   "metadata": {},
   "outputs": [],
   "source": [
    "n =int(input())\n",
    "m=list(map(int,input().split()))\n",
    "m = sorted(set(m))\n",
    "print(f'The runner up is {m[-2]}')"
   ]
  },
  {
   "cell_type": "code",
   "execution_count": null,
   "metadata": {},
   "outputs": [],
   "source": [
    "import textwrap\n",
    "\n",
    "string = input()\n",
    "width = int(input())\n",
    "\n",
    "print(textwrap.fill(string,width))"
   ]
  },
  {
   "cell_type": "code",
   "execution_count": null,
   "metadata": {},
   "outputs": [],
   "source": [
    "3 2\n",
    "1 5 3\n",
    "3 1\n",
    "5 7"
   ]
  },
  {
   "cell_type": "code",
   "execution_count": 2,
   "metadata": {},
   "outputs": [
    {
     "name": "stdout",
     "output_type": "stream",
     "text": [
      "2 4 6\n",
      "3 1\n",
      "5 7\n",
      "0\n"
     ]
    }
   ],
   "source": [
    "#m,n = input().split()\n",
    "arr = input().split()\n",
    "\n",
    "a = set(input().split())\n",
    "b = set(input().split())\n",
    "print(sum([(i in a) - (i in b) for i in arr]))"
   ]
  },
  {
   "cell_type": "code",
   "execution_count": null,
   "metadata": {},
   "outputs": [],
   "source": [
    "print(sum([(i in [1,2,3]) - (i in [2,3,4]) for i in [1,2,3,4,5]]))\n"
   ]
  },
  {
   "cell_type": "code",
   "execution_count": null,
   "metadata": {},
   "outputs": [],
   "source": [
    "if __name__ == '__main__':\n",
    "    n = int(input())\n",
    "    set1 = set(map(int,input().split()))\n",
    "\n",
    "    m = int(input())\n",
    "    set2 = set(map(int, input().split()))\n",
    "\n",
    "    ans = list(set1 ^ set2)\n",
    "    ans.sort()\n",
    "    for i in ans:\n",
    "        print(i)"
   ]
  },
  {
   "cell_type": "code",
   "execution_count": null,
   "metadata": {},
   "outputs": [],
   "source": [
    "numbers = [1, 2, 3, 4, 5, 6, 7, 8, 9, 10]\n",
    "[0 if i%2==0 else 1 if i%3==0 else i for i in numbers]"
   ]
  },
  {
   "cell_type": "code",
   "execution_count": null,
   "metadata": {},
   "outputs": [],
   "source": [
    "[ letter for letter in 'human' ]"
   ]
  },
  {
   "cell_type": "code",
   "execution_count": null,
   "metadata": {},
   "outputs": [],
   "source": [
    "letters = list(map(lambda x: x, 'human'))\n",
    "print(letters)"
   ]
  },
  {
   "cell_type": "code",
   "execution_count": null,
   "metadata": {},
   "outputs": [],
   "source": [
    "numbers=[0,1,2,3,4,5,6,7,8,9,10]\n",
    "list(filter(lambda x: x%2==0,numbers))### it takes 2 argument function and list"
   ]
  },
  {
   "cell_type": "code",
   "execution_count": null,
   "metadata": {},
   "outputs": [],
   "source": [
    "numbers=[0,1,2,3,4,5,6,7,8,9,10]\n",
    "list(map(lambda x: x%2==0,numbers))### im map"
   ]
  },
  {
   "cell_type": "code",
   "execution_count": null,
   "metadata": {},
   "outputs": [],
   "source": [
    "[y for y in range(100) if y % 2 == 0 if y % 5 == 0]"
   ]
  },
  {
   "cell_type": "code",
   "execution_count": null,
   "metadata": {},
   "outputs": [],
   "source": [
    "[y for y in range(100) if y % 2 == 0 | y % 5 == 0]"
   ]
  },
  {
   "cell_type": "code",
   "execution_count": null,
   "metadata": {},
   "outputs": [],
   "source": [
    "[y for y in range(100) if y % 2 == 0 and y % 5 == 0]"
   ]
  },
  {
   "cell_type": "code",
   "execution_count": null,
   "metadata": {},
   "outputs": [],
   "source": [
    "from functools import reduce\n",
    "reduce(lambda x,y:y-x,numbers)"
   ]
  },
  {
   "cell_type": "code",
   "execution_count": null,
   "metadata": {},
   "outputs": [],
   "source": [
    "list(map(lambda x:x%3==0,numbers))"
   ]
  },
  {
   "cell_type": "code",
   "execution_count": null,
   "metadata": {},
   "outputs": [],
   "source": [
    "def div(p,q):\n",
    "        assert q!=0, \"You cannot divide a number by zero\\nPlease try again\"\n",
    "        return p/q\n",
    "div(2,0)"
   ]
  },
  {
   "cell_type": "code",
   "execution_count": null,
   "metadata": {},
   "outputs": [],
   "source": [
    "print(re.match('center','centr'))## it will check if not found then none"
   ]
  },
  {
   "cell_type": "code",
   "execution_count": null,
   "metadata": {},
   "outputs": [],
   "source": [
    "match=re.search('aa?yushi','ayushi')\n",
    "match.group()"
   ]
  },
  {
   "cell_type": "code",
   "execution_count": null,
   "metadata": {},
   "outputs": [],
   "source": [
    "match=re.search('\\w*end\\?','Hey! What are your plans for the weekend?')\n",
    "match.group()"
   ]
  },
  {
   "cell_type": "code",
   "execution_count": null,
   "metadata": {},
   "outputs": [],
   "source": [
    "match=re.search('^\\w*end','Hey! What are your plans for the weekend?')\n",
    "match.group()"
   ]
  },
  {
   "cell_type": "code",
   "execution_count": null,
   "metadata": {},
   "outputs": [],
   "source": [
    "match=re.search('[^!Hey]+(\\w)*','Hey! What are your plans for the weekend?')\n",
    "match.group()"
   ]
  },
  {
   "cell_type": "code",
   "execution_count": null,
   "metadata": {},
   "outputs": [],
   "source": [
    "match=re.search('\\w+c{2}\\w*','Occam\\'s Razor')\n",
    "match.group()"
   ]
  },
  {
   "cell_type": "code",
   "execution_count": null,
   "metadata": {},
   "outputs": [],
   "source": [
    "match=re.search('^[(\\w*)]+','Hey! What are your plans for the weekend?')\n",
    "match.group()"
   ]
  },
  {
   "cell_type": "code",
   "execution_count": null,
   "metadata": {},
   "outputs": [],
   "source": [
    "match=re.search(r'[\\w.-]+@[\\w-]+\\.[\\w]+','Please mail it to ayushiwasthere@gmail.com')\n",
    "match.group()"
   ]
  },
  {
   "cell_type": "code",
   "execution_count": null,
   "metadata": {},
   "outputs": [],
   "source": [
    "match=re.search(r'(\\w)+\\@(\\w)+\\.(\\w)*','Please mail it to ayushiwasthere@gmail.com')\n",
    "match.group()"
   ]
  },
  {
   "cell_type": "code",
   "execution_count": null,
   "metadata": {},
   "outputs": [],
   "source": [
    "match=re.search(r'([\\w.-]+)@([\\w-]+)\\.([\\w]+)','Please mail it to ayushiwasthere@gmail.com')\n",
    "match.group(1)    ### we dividing pattern using paranthesis"
   ]
  },
  {
   "cell_type": "code",
   "execution_count": null,
   "metadata": {},
   "outputs": [],
   "source": [
    "match=re.search(r'(\\w)+\\s(\\w)+\\@(\\w)+\\.(\\w)*','Please mail it to ayushiwasthere@gmail.com')\n",
    "match.group()"
   ]
  },
  {
   "cell_type": "code",
   "execution_count": null,
   "metadata": {},
   "outputs": [],
   "source": [
    "match=re.findall(r'([\\w]+)\\s([\\w]+)','Ayushi Sharma, Fluffy Sharma, Leo Sharma, Candy Sharma')\n",
    "for i in match:\n",
    "    print(i)"
   ]
  },
  {
   "cell_type": "code",
   "execution_count": null,
   "metadata": {},
   "outputs": [],
   "source": [
    "match=re.findall(r'hi','Hi, did you ship it, Hillary?',re.IGNORECASE)\n",
    "for i in match:\n",
    "      print(i)"
   ]
  },
  {
   "cell_type": "code",
   "execution_count": null,
   "metadata": {},
   "outputs": [],
   "source": [
    "match=re.findall(r'^Hi','Hi, did you ship it, Hillary?\\nNo, I didn\\'t, but Hi',re.MULTILINE)\n",
    "for i in match:\n",
    "      print(i)"
   ]
  },
  {
   "cell_type": "code",
   "execution_count": null,
   "metadata": {},
   "outputs": [],
   "source": [
    "match=re.findall(r'.*','Hi, did you ship it, Hillary?\\nNo, I didn\\'t, but Hi',re.DOTALL)\n",
    "for i in match:\n",
    "     print(i)"
   ]
  },
  {
   "cell_type": "code",
   "execution_count": null,
   "metadata": {},
   "outputs": [],
   "source": [
    "match=re.findall(r'(<.*?>)','<em>Strong</em> <i>Italic</i>')\n",
    "for i in match:\n",
    "       print(i)"
   ]
  },
  {
   "cell_type": "code",
   "execution_count": null,
   "metadata": {},
   "outputs": [],
   "source": [
    "re.sub('^a','an','a apple')  ### observe ^init"
   ]
  },
  {
   "cell_type": "code",
   "execution_count": null,
   "metadata": {},
   "outputs": [],
   "source": [
    "from itertools import count\n",
    "for i in count(10,2):\n",
    "    print(i)\n",
    "    if i>25:\n",
    "        break"
   ]
  },
  {
   "cell_type": "code",
   "execution_count": null,
   "metadata": {},
   "outputs": [],
   "source": [
    "for i in count():\n",
    "    print(i)\n",
    "    if i!=5:\n",
    "        break"
   ]
  },
  {
   "cell_type": "code",
   "execution_count": 170,
   "metadata": {},
   "outputs": [
    {
     "name": "stdout",
     "output_type": "stream",
     "text": [
      "10\n",
      "['Geeks ', ' for ', 'Geeks ']\n",
      "50\n"
     ]
    }
   ],
   "source": [
    "x, *y, z = (10, \"Geeks \", \" for \", \"Geeks \", 50) \n",
    "  \n",
    "# print details \n",
    "print(x) \n",
    "print(y) \n",
    "print(z) "
   ]
  },
  {
   "cell_type": "code",
   "execution_count": 171,
   "metadata": {},
   "outputs": [
    {
     "name": "stdout",
     "output_type": "stream",
     "text": [
      "[10, 'Geeks ', ' for ']\n",
      "Geeks \n",
      "50\n"
     ]
    }
   ],
   "source": [
    "*x, y, z = (10, \"Geeks \", \" for \", \"Geeks \", 50) \n",
    "  \n",
    "# print details \n",
    "print(x) \n",
    "print(y) \n",
    "print(z) "
   ]
  },
  {
   "cell_type": "code",
   "execution_count": null,
   "metadata": {},
   "outputs": [],
   "source": [
    "from itertools import cycle\n",
    "for i in cycle(['red','green','blue']):\n",
    "    print(i)"
   ]
  },
  {
   "cell_type": "code",
   "execution_count": 756,
   "metadata": {},
   "outputs": [
    {
     "name": "stdout",
     "output_type": "stream",
     "text": [
      "Red\n",
      "Red\n",
      "Red\n"
     ]
    }
   ],
   "source": [
    "from itertools import repeat\n",
    "for i in repeat('Red',3):\n",
    "          print(i)"
   ]
  },
  {
   "cell_type": "code",
   "execution_count": 757,
   "metadata": {},
   "outputs": [
    {
     "name": "stdout",
     "output_type": "stream",
     "text": [
      "(1, 4)\n",
      "(1, 5)\n",
      "(1, 6)\n",
      "(2, 4)\n",
      "(2, 5)\n",
      "(2, 6)\n",
      "(3, 4)\n",
      "(3, 5)\n",
      "(3, 6)\n"
     ]
    }
   ],
   "source": [
    "for i in ((i,j) for i in [1,2,3] for j in [4,5,6]):\n",
    "    print(i)\n"
   ]
  },
  {
   "cell_type": "code",
   "execution_count": 758,
   "metadata": {},
   "outputs": [
    {
     "data": {
      "text/plain": [
       "[(1, 4), (1, 5), (1, 6), (2, 4), (2, 5), (2, 6), (3, 4), (3, 5), (3, 6)]"
      ]
     },
     "execution_count": 758,
     "metadata": {},
     "output_type": "execute_result"
    }
   ],
   "source": [
    "[(i,j) for i in [1,2,3] for j in [4,5,6]]"
   ]
  },
  {
   "cell_type": "code",
   "execution_count": 762,
   "metadata": {},
   "outputs": [
    {
     "name": "stdout",
     "output_type": "stream",
     "text": [
      "(1, 4)\n",
      "(1, 5)\n",
      "(1, 6)\n",
      "(2, 4)\n",
      "(2, 5)\n",
      "(2, 6)\n",
      "(3, 4)\n",
      "(3, 5)\n",
      "(3, 6)\n"
     ]
    }
   ],
   "source": [
    "from itertools import product \n",
    "for i in product([1,2,3],[4,5,6]):\n",
    "    print(i)\n"
   ]
  },
  {
   "cell_type": "code",
   "execution_count": 764,
   "metadata": {},
   "outputs": [
    {
     "name": "stdout",
     "output_type": "stream",
     "text": [
      "('A', 'B', 'C')\n",
      "('A', 'B', 'D')\n",
      "('A', 'C', 'B')\n",
      "('A', 'C', 'D')\n",
      "('A', 'D', 'B')\n",
      "('A', 'D', 'C')\n",
      "('B', 'A', 'C')\n",
      "('B', 'A', 'D')\n",
      "('B', 'C', 'A')\n",
      "('B', 'C', 'D')\n",
      "('B', 'D', 'A')\n",
      "('B', 'D', 'C')\n",
      "('C', 'A', 'B')\n",
      "('C', 'A', 'D')\n",
      "('C', 'B', 'A')\n",
      "('C', 'B', 'D')\n",
      "('C', 'D', 'A')\n",
      "('C', 'D', 'B')\n",
      "('D', 'A', 'B')\n",
      "('D', 'A', 'C')\n",
      "('D', 'B', 'A')\n",
      "('D', 'B', 'C')\n",
      "('D', 'C', 'A')\n",
      "('D', 'C', 'B')\n"
     ]
    }
   ],
   "source": [
    "from itertools import permutations\n",
    "for i in permutations('ABCD',3):\n",
    "                print(i)"
   ]
  },
  {
   "cell_type": "code",
   "execution_count": 765,
   "metadata": {},
   "outputs": [
    {
     "name": "stdout",
     "output_type": "stream",
     "text": [
      "('A', 'A', 'A')\n",
      "('A', 'A', 'B')\n",
      "('A', 'A', 'C')\n",
      "('A', 'A', 'D')\n",
      "('A', 'B', 'B')\n",
      "('A', 'B', 'C')\n",
      "('A', 'B', 'D')\n",
      "('A', 'C', 'C')\n",
      "('A', 'C', 'D')\n",
      "('A', 'D', 'D')\n",
      "('B', 'B', 'B')\n",
      "('B', 'B', 'C')\n",
      "('B', 'B', 'D')\n",
      "('B', 'C', 'C')\n",
      "('B', 'C', 'D')\n",
      "('B', 'D', 'D')\n",
      "('C', 'C', 'C')\n",
      "('C', 'C', 'D')\n",
      "('C', 'D', 'D')\n",
      "('D', 'D', 'D')\n"
     ]
    }
   ],
   "source": [
    "from itertools import combinations_with_replacement\n",
    "for i in combinations_with_replacement('ABCD',3):\n",
    "                print(i)"
   ]
  },
  {
   "cell_type": "code",
   "execution_count": 766,
   "metadata": {},
   "outputs": [
    {
     "name": "stdout",
     "output_type": "stream",
     "text": [
      "H\n",
      "e\n",
      "l\n",
      "l\n",
      "o\n",
      "W\n",
      "o\n",
      "r\n",
      "l\n",
      "d\n",
      "B\n",
      "y\n",
      "e\n"
     ]
    }
   ],
   "source": [
    "from itertools import chain\n",
    "for i in chain('Hello','World','Bye'):\n",
    "                print(i)"
   ]
  },
  {
   "cell_type": "code",
   "execution_count": 768,
   "metadata": {},
   "outputs": [
    {
     "name": "stdout",
     "output_type": "stream",
     "text": [
      "7\n",
      "9\n",
      "5\n",
      "3\n",
      "2\n",
      "9\n"
     ]
    }
   ],
   "source": [
    "from itertools import dropwhile\n",
    "for i in dropwhile(lambda x:x<7,[1,2,7,9,5,3,2,9]):\n",
    "    print(i)\n"
   ]
  },
  {
   "cell_type": "code",
   "execution_count": 775,
   "metadata": {},
   "outputs": [
    {
     "name": "stdout",
     "output_type": "stream",
     "text": [
      "['A', 'A', 'A', 'A', 'A']\n",
      "['B', 'B']\n",
      "['C', 'C', 'C', 'C', 'C']\n",
      "['D', 'D', 'D']\n",
      "['C', 'C', 'C']\n",
      "['B', 'B']\n",
      "['A']\n"
     ]
    }
   ],
   "source": [
    "from itertools import groupby\n",
    "for i,j in groupby('AAAAABBCCCCCDDDCCCBBA'):\n",
    "                print(list(j))"
   ]
  },
  {
   "cell_type": "code",
   "execution_count": 776,
   "metadata": {},
   "outputs": [
    {
     "name": "stdout",
     "output_type": "stream",
     "text": [
      "7\n",
      "9\n",
      "9\n"
     ]
    }
   ],
   "source": [
    "from itertools import filterfalse\n",
    "for i in filterfalse(lambda x:x<7,[1,2,7,9,5,3,2,9]):\n",
    "                print(i)"
   ]
  },
  {
   "cell_type": "code",
   "execution_count": null,
   "metadata": {},
   "outputs": [],
   "source": [
    "### https://data-flair.training/blogs/python-itertools-tutorial/"
   ]
  },
  {
   "cell_type": "code",
   "execution_count": 59,
   "metadata": {},
   "outputs": [
    {
     "name": "stdout",
     "output_type": "stream",
     "text": [
      "dfghjkhj\n",
      "h 2\n",
      "j 2\n",
      "d 1\n",
      "f 1\n",
      "g 1\n",
      "k 1\n"
     ]
    }
   ],
   "source": [
    "word = input()\n",
    "dct = {}\n",
    "for i in word:\n",
    "    dct[i] = dct.get(i,0) + 1\n",
    "\n",
    "dct = sorted(dct.items(),key=lambda x: (-x[1],x[0]))\n",
    "for i in dct:\n",
    "    print(i[0],i[1])"
   ]
  },
  {
   "cell_type": "code",
   "execution_count": 87,
   "metadata": {},
   "outputs": [
    {
     "name": "stdout",
     "output_type": "stream",
     "text": [
      "d 145\n",
      "f 456\n",
      "\n",
      "0\n"
     ]
    }
   ],
   "source": [
    "total = 0\n",
    "while True:\n",
    "    s = input().split()\n",
    "    if not s:            # break if the string is empty\n",
    "        break\n",
    "    cm,num = map(str,s)    # two inputs are distributed in cm and num in string data type\n",
    "\n",
    "    if cm=='D':\n",
    "        total+=int(num)\n",
    "    if cm=='W':\n",
    "        total-=int(num)\n",
    "\n",
    "print(total)"
   ]
  },
  {
   "cell_type": "code",
   "execution_count": 91,
   "metadata": {},
   "outputs": [
    {
     "name": "stdout",
     "output_type": "stream",
     "text": [
      "\n"
     ]
    }
   ],
   "source": [
    "while True:\n",
    "    s = input().split()\n",
    "    if not s:\n",
    "        break\n",
    "    alp,s = map(str,s)    "
   ]
  },
  {
   "cell_type": "code",
   "execution_count": 93,
   "metadata": {},
   "outputs": [],
   "source": [
    "from mlxtend.feature_selection import SequentialFeatureSelector"
   ]
  },
  {
   "cell_type": "code",
   "execution_count": 97,
   "metadata": {},
   "outputs": [
    {
     "name": "stdout",
     "output_type": "stream",
     "text": [
      "dfg\n",
      "dfg:1\n"
     ]
    }
   ],
   "source": [
    "ss = input().split()\n",
    "dict = {}\n",
    "for i in ss:\n",
    "    i = dict.setdefault(i,ss.count(i))    # setdefault() function takes key & value to set it as dictionary.\n",
    "\n",
    "dict = sorted(dict.items())               # items() function returns both key & value of dictionary as a list\n",
    "                                          # and then sorted. The sort by default occurs in order of 1st -> 2nd key\n",
    "for i in dict:\n",
    "    print(\"%s:%d\"%(i[0],i[1]))"
   ]
  },
  {
   "cell_type": "code",
   "execution_count": 98,
   "metadata": {},
   "outputs": [
    {
     "name": "stdout",
     "output_type": "stream",
     "text": [
      "{'a': 10, 'b': 8, 'd': 6, 'c': 4}\n"
     ]
    }
   ],
   "source": [
    "def Merge(dict1, dict2): \n",
    "    res = {**dict1, **dict2} \n",
    "    return res \n",
    "      \n",
    "# Driver code \n",
    "dict1 = {'a': 10, 'b': 8} \n",
    "dict2 = {'d': 6, 'c': 4} \n",
    "dict3 = Merge(dict1, dict2) \n",
    "print(dict3) "
   ]
  },
  {
   "cell_type": "code",
   "execution_count": 103,
   "metadata": {},
   "outputs": [
    {
     "name": "stdout",
     "output_type": "stream",
     "text": [
      "{'a': 10, 'b': 8, 'd': 6, 'c': 4}\n"
     ]
    }
   ],
   "source": [
    "def Merge(dict1, dict2): \n",
    "    return (dict1.update(dict2))\n",
    "         \n",
    "# Driver code \n",
    "dict1 = {'a': 10, 'b': 8} \n",
    "dict2 = {'d': 6, 'c': 4} \n",
    "dict3 = Merge(dict1, dict2) \n",
    "print(dict1) "
   ]
  },
  {
   "cell_type": "code",
   "execution_count": 111,
   "metadata": {},
   "outputs": [
    {
     "name": "stdout",
     "output_type": "stream",
     "text": [
      "[{'roll_no': ['123445', '1212'], 'school_id': 1}, {'roll_no': ['HA-4848231', '473427'], 'school_id': 2}, {'roll_no': ['092112'], 'school_id': 5}]\n"
     ]
    }
   ],
   "source": [
    "\n",
    "# Python code to  merge two list of dictionaries  \n",
    "# based on some value. \n",
    "  \n",
    "from collections import defaultdict \n",
    "  \n",
    "# List intialization \n",
    "Input1 = [{'roll_no': ['123445', '1212'], 'school_id': 1}, \n",
    "          {'roll_no': ['HA-4848231'], 'school_id': 2}] \n",
    "  \n",
    "Input2 = [{'roll_no': ['473427'], 'school_id': 2}, \n",
    "          {'roll_no': ['092112'], 'school_id': 5}] \n",
    "  \n",
    "  \n",
    "# Using defaultdic \n",
    "temp = defaultdict(list)  \n",
    "  \n",
    "# Using extend \n",
    "for elem in Input1: \n",
    "    temp[elem['school_id']].extend(elem['roll_no']) \n",
    "for elem in Input2: \n",
    "    temp[elem['school_id']].extend(elem['roll_no']) \n",
    "Output = [{\"roll_no\":y, \"school_id\":x} for x, y in temp.items()] \n",
    "  \n",
    "# printing \n",
    "print(Output)"
   ]
  },
  {
   "cell_type": "code",
   "execution_count": 123,
   "metadata": {},
   "outputs": [
    {
     "name": "stdout",
     "output_type": "stream",
     "text": [
      "The original dictionary 1 : {'gfg': 6, 'is': 4, 'best': 7}\n",
      "The original dictionary 2 : {'gfg': 10, 'is': 6, 'best': 10}\n",
      "The difference dictionary is : {'gfg': 4, 'is': 2, 'best': 3}\n"
     ]
    }
   ],
   "source": [
    "# Subtraction of dictionaries \n",
    "# Using dictionary comprehension + keys() \n",
    "  \n",
    "# Initialize dictionaries \n",
    "test_dict1 = {'gfg' : 6, 'is' : 4, 'best' : 7} \n",
    "test_dict2 = {'gfg' : 10, 'is' : 6, 'best' : 10} \n",
    "  \n",
    "# printing original dictionaries  \n",
    "print(\"The original dictionary 1 : \" +  str(test_dict1)) \n",
    "print(\"The original dictionary 2 : \" +  str(test_dict2)) \n",
    "  \n",
    "# Using dictionary comprehension + keys() \n",
    "# Subtraction of dictionaries \n",
    "res = {key: test_dict2[key] - test_dict1.get(key, 0) \n",
    "                       for key in test_dict2.keys()} \n",
    "  \n",
    "# printing result  \n",
    "print(\"The difference dictionary is : \" + str(res))"
   ]
  },
  {
   "cell_type": "code",
   "execution_count": 169,
   "metadata": {},
   "outputs": [
    {
     "name": "stdout",
     "output_type": "stream",
     "text": [
      "initial dictionary [{'a': 1}, {'b': 2}, {'c': 3}]\n",
      "result ChainMap({'a': 1}, {'b': 2}, {'c': 3})\n"
     ]
    }
   ],
   "source": [
    "# Python code to demonstrate \n",
    "# to flatten list of  \n",
    "# dictionaries \n",
    "  \n",
    "from collections import ChainMap\n",
    "  \n",
    "# Initialising dictionary \n",
    "ini_dict = [{'a':1}, {'b':2}, {'c':3}] \n",
    "  \n",
    "# printing initial dictionary \n",
    "print (\"initial dictionary\", str(ini_dict)) \n",
    "  \n",
    "# code to flatten lit of dictionary \n",
    "res = ChainMap(*ini_dict) \n",
    "      \n",
    "# printing result \n",
    "print (\"result\", str(res))"
   ]
  },
  {
   "cell_type": "code",
   "execution_count": 125,
   "metadata": {},
   "outputs": [
    {
     "name": "stdout",
     "output_type": "stream",
     "text": [
      "initial dictionary [{'a': 1}, {'b': 2}, {'c': 3}]\n",
      "result {'a': 1, 'b': 2, 'c': 3}\n"
     ]
    }
   ],
   "source": [
    "# to flatten list of dictionaries \n",
    "  \n",
    "# Initialising dictionary \n",
    "ini_dict = [{'a':1}, {'b':2}, {'c':3}] \n",
    "  \n",
    "# printing initial dictionary \n",
    "print (\"initial dictionary\", str(ini_dict)) \n",
    "  \n",
    "# code to flatten lit of dictionary \n",
    "res = {k: v for d in ini_dict for k, v in d.items()} \n",
    "      \n",
    "# printing result \n",
    "print (\"result\", str(res)) "
   ]
  },
  {
   "cell_type": "code",
   "execution_count": 131,
   "metadata": {},
   "outputs": [
    {
     "data": {
      "text/plain": [
       "[1, 2, 3, 3, 6, 7, 7, 5, 4]"
      ]
     },
     "execution_count": 131,
     "metadata": {},
     "output_type": "execute_result"
    }
   ],
   "source": [
    "\n",
    "ini_list = [[1, 2, 3], \n",
    "            [3, 6, 7], \n",
    "            [7, 5, 4]] \n",
    "[ j for i in ini_list) for j in i]"
   ]
  },
  {
   "cell_type": "code",
   "execution_count": 136,
   "metadata": {},
   "outputs": [
    {
     "name": "stdout",
     "output_type": "stream",
     "text": [
      "The List after flattening : ['gfg', 1, 5, 6, 'geeks', 67.4, 5, 'best']\n"
     ]
    }
   ],
   "source": [
    "# Flatten List to individual elements \n",
    "# using chain() + isinstance() \n",
    "from itertools import chain \n",
    "  \n",
    "# Initializing list \n",
    "test_list = ['gfg', 1, [5, 6, 'geeks'], 67.4, [5], 'best'] \n",
    "  \n",
    "# Flatten List to individual elements \n",
    "# using chain() + isinstance() \n",
    "res = list(chain(*[ele if isinstance(ele, list) else [ele] for ele in test_list])) \n",
    "              \n",
    "# printing result  \n",
    "print (\"The List after flattening : \" + str(res)) "
   ]
  },
  {
   "cell_type": "code",
   "execution_count": 143,
   "metadata": {},
   "outputs": [
    {
     "data": {
      "text/plain": [
       "'1 4 6 5 8 2 9 1 10'"
      ]
     },
     "execution_count": 143,
     "metadata": {},
     "output_type": "execute_result"
    }
   ],
   "source": [
    "test_list = [('1', '4', '6'), ('5', '8'), ('2', '9'), ('1', '10')] \n",
    "' '.join([j for i in test_list for j in i])"
   ]
  },
  {
   "cell_type": "code",
   "execution_count": 144,
   "metadata": {},
   "outputs": [
    {
     "data": {
      "text/plain": [
       "'1 4 6 5 8 2 9 1 10'"
      ]
     },
     "execution_count": 144,
     "metadata": {},
     "output_type": "execute_result"
    }
   ],
   "source": [
    "res =  ' '.join(chain(*test_list)) \n",
    "res"
   ]
  },
  {
   "cell_type": "code",
   "execution_count": 145,
   "metadata": {},
   "outputs": [
    {
     "data": {
      "text/plain": [
       "[('gfg', 1), ('is', 2), ('best', 3)]"
      ]
     },
     "execution_count": 145,
     "metadata": {},
     "output_type": "execute_result"
    }
   ],
   "source": [
    "##string to list\n",
    "test_list = [\"('gfg', 1)\", \"('is', 2)\", \"('best', 3)\"] \n",
    "[eval(i) for i in test_list]"
   ]
  },
  {
   "cell_type": "code",
   "execution_count": 146,
   "metadata": {},
   "outputs": [
    {
     "data": {
      "text/plain": [
       "[('gfg', 1), ('is', 2), ('best', 3)]"
      ]
     },
     "execution_count": 146,
     "metadata": {},
     "output_type": "execute_result"
    }
   ],
   "source": [
    "# Converting string tuples to list tuples  \n",
    "# using map() + eval() \n",
    "res = list(map(eval, test_list))\n",
    "res"
   ]
  },
  {
   "cell_type": "code",
   "execution_count": 147,
   "metadata": {},
   "outputs": [
    {
     "data": {
      "text/plain": [
       "[('GFG', 'is'), ('best', 'Computer'), ('Science', 'Portal')]"
      ]
     },
     "execution_count": 147,
     "metadata": {},
     "output_type": "execute_result"
    }
   ],
   "source": [
    "test_string = \"GFG is best Computer Science Portal\"\n",
    "temp = iter(test_string.split()) \n",
    "res = [(ele, next(temp)) for ele in temp]\n",
    "res"
   ]
  },
  {
   "cell_type": "code",
   "execution_count": 151,
   "metadata": {},
   "outputs": [
    {
     "data": {
      "text/plain": [
       "Counter({('hi', 'bye'): 2, ('Geeks', 'forGeeks'): 1, ('a', 'b'): 2})"
      ]
     },
     "execution_count": 151,
     "metadata": {},
     "output_type": "execute_result"
    }
   ],
   "source": [
    "from collections import Counter \n",
    "from itertools import chain \n",
    "  \n",
    "# List initialization \n",
    "Input = [[('hi', 'bye')], [('Geeks', 'forGeeks')], \n",
    "         [('a', 'b')], [('hi', 'bye')], [('a', 'b')]]\n",
    "Counter(chain(*Input))"
   ]
  },
  {
   "cell_type": "code",
   "execution_count": 155,
   "metadata": {},
   "outputs": [
    {
     "data": {
      "text/plain": [
       "{'a': 140, 'b': 88, 'c': 100}"
      ]
     },
     "execution_count": 155,
     "metadata": {},
     "output_type": "execute_result"
    }
   ],
   "source": [
    "import collections\n",
    "# Initialising list of dictionary \n",
    "ini_dict = [{'a':5, 'b':10, 'c':90},  \n",
    "            {'a':45, 'b':78}, \n",
    "            {'a':90, 'c':10}] \n",
    "  \n",
    "result = {} \n",
    "for d in ini_dict: \n",
    "    for k in d.keys(): \n",
    "        result[k] = result.get(k, 0) + d[k]\n",
    "result        "
   ]
  },
  {
   "cell_type": "code",
   "execution_count": 166,
   "metadata": {},
   "outputs": [
    {
     "name": "stdout",
     "output_type": "stream",
     "text": [
      "[(1, 2), (5, 7), (3, 6)]\n"
     ]
    }
   ],
   "source": [
    "def removeDuplicates(lst): \n",
    "      \n",
    "    return [t for t in (set(tuple(i) for i in lst))] \n",
    "          \n",
    "# Driver code \n",
    "lst = [(1, 2), (5, 7), (3, 6), (1, 2)] \n",
    "print(removeDuplicates(lst)) "
   ]
  },
  {
   "cell_type": "code",
   "execution_count": 167,
   "metadata": {},
   "outputs": [
    {
     "data": {
      "text/plain": [
       "[{'name': 'Nikhil', 'age': 19},\n",
       " {'name': 'Nandini', 'age': 20},\n",
       " {'name': 'Manjeet', 'age': 20}]"
      ]
     },
     "execution_count": 167,
     "metadata": {},
     "output_type": "execute_result"
    }
   ],
   "source": [
    "lis = [{ \"name\" : \"Nandini\", \"age\" : 20},  \n",
    "{ \"name\" : \"Manjeet\", \"age\" : 20 }, \n",
    "{ \"name\" : \"Nikhil\" , \"age\" : 19 }]\n",
    "sorted(lis, key = lambda i: i['age'])"
   ]
  },
  {
   "cell_type": "code",
   "execution_count": 175,
   "metadata": {},
   "outputs": [
    {
     "data": {
      "text/plain": [
       "[(([1, 2, 3], 'gfg'), [1, 2, 3]),\n",
       " (([1, 2, 3], 'gfg'), 'gfg'),\n",
       " (([5, 4, 3], 'cs'), [5, 4, 3]),\n",
       " (([5, 4, 3], 'cs'), 'cs')]"
      ]
     },
     "execution_count": 175,
     "metadata": {},
     "output_type": "execute_result"
    }
   ],
   "source": [
    "test_list = [([1, 2, 3], 'gfg'), ([5, 4, 3], 'cs')] \n",
    "res = [ (tup1, tup2) for i, tup2 in test_list for tup1 in i ] "
   ]
  },
  {
   "cell_type": "code",
   "execution_count": 178,
   "metadata": {},
   "outputs": [
    {
     "data": {
      "text/plain": [
       "[(1, 'gfg'), (2, 'gfg'), (3, 'gfg'), (5, 'cs'), (4, 'cs'), (3, 'cs')]"
      ]
     },
     "execution_count": 178,
     "metadata": {},
     "output_type": "execute_result"
    }
   ],
   "source": [
    "[(z,j) for i,j in test_list for z in i]"
   ]
  },
  {
   "cell_type": "code",
   "execution_count": 180,
   "metadata": {},
   "outputs": [
    {
     "data": {
      "text/plain": [
       "[('c', 45), ('e', 75)]"
      ]
     },
     "execution_count": 180,
     "metadata": {},
     "output_type": "execute_result"
    }
   ],
   "source": [
    "ini_tuple = [('b', 100), ('c', 200), ('c', 45), \n",
    "                         ('d', 876), ('e', 75)] \n",
    "[(i,j)for i,j in ini_tuple if j<100]\n",
    "# removing tuples for condition met \n",
    "result = list(filter(lambda x: x[1] <= 100, ini_tuple))   "
   ]
  },
  {
   "cell_type": "code",
   "execution_count": 182,
   "metadata": {},
   "outputs": [
    {
     "data": {
      "text/plain": [
       "[('b', 100), ('c', 45), ('e', 75)]"
      ]
     },
     "execution_count": 182,
     "metadata": {},
     "output_type": "execute_result"
    }
   ],
   "source": [
    "list(filter(lambda x: x[1]<=100,ini_tuple))"
   ]
  },
  {
   "cell_type": "code",
   "execution_count": 185,
   "metadata": {},
   "outputs": [
    {
     "data": {
      "text/plain": [
       "[(11, 22), (11, 44)]"
      ]
     },
     "execution_count": 185,
     "metadata": {},
     "output_type": "execute_result"
    }
   ],
   "source": [
    "Input: n = 11\n",
    "list_ = [(11, 22), (33, 55), (55, 77), (11, 44)]\n",
    "Output: [(11, 22), (11, 44)]\n",
    "    \n",
    "list(filter(lambda x: x[0]==Input,list_))    "
   ]
  },
  {
   "cell_type": "code",
   "execution_count": 194,
   "metadata": {},
   "outputs": [
    {
     "data": {
      "text/plain": [
       "'Manjeet'"
      ]
     },
     "execution_count": 194,
     "metadata": {},
     "output_type": "execute_result"
    }
   ],
   "source": [
    "test_list = [('Rash', 143), ('Manjeet', 200), ('Varsha', 100)]\n",
    "max(test_list,key=lambda x: x[1])[0]"
   ]
  },
  {
   "cell_type": "code",
   "execution_count": 198,
   "metadata": {},
   "outputs": [
    {
     "data": {
      "text/plain": [
       "9"
      ]
     },
     "execution_count": 198,
     "metadata": {},
     "output_type": "execute_result"
    }
   ],
   "source": [
    "test_list = [2, 3, 5, 7, 9, 10, 8, 6] \n",
    "i,j = 2,5\n",
    "res = [] \n",
    "for idx, ele in enumerate(test_list): \n",
    "    if idx >= i and idx < j: \n",
    "        res.append(ele) \n",
    "res = max(res) \n",
    "res"
   ]
  },
  {
   "cell_type": "code",
   "execution_count": 206,
   "metadata": {},
   "outputs": [
    {
     "data": {
      "text/plain": [
       "9"
      ]
     },
     "execution_count": 206,
     "metadata": {},
     "output_type": "execute_result"
    }
   ],
   "source": [
    "max([ele for idx, ele in enumerate(test_list) if idx>=2 and idx<5])\n"
   ]
  },
  {
   "cell_type": "code",
   "execution_count": 228,
   "metadata": {},
   "outputs": [
    {
     "data": {
      "text/plain": [
       "{'A': 3, 'B': 2, 'C': 1}"
      ]
     },
     "execution_count": 228,
     "metadata": {},
     "output_type": "execute_result"
    }
   ],
   "source": [
    "lst = [['A'], ['A', 'B'], ['A', 'B', 'C']]\n",
    "ls={}\n",
    "count= 0\n",
    "for i in lst:\n",
    "    for j in i:\n",
    "        #if j in ls:\n",
    "        ls[j]=ls.get(j,0)+1\n",
    "ls"
   ]
  },
  {
   "cell_type": "code",
   "execution_count": 235,
   "metadata": {},
   "outputs": [
    {
     "data": {
      "text/plain": [
       "[4, 5, 3]"
      ]
     },
     "execution_count": 235,
     "metadata": {},
     "output_type": "execute_result"
    }
   ],
   "source": [
    "test_matrix = [[1, 3, 1], [4, 5, 3], [1, 2, 4]] \n",
    "max(test_matrix)#,key=lambda x: sum(x))"
   ]
  },
  {
   "cell_type": "code",
   "execution_count": 243,
   "metadata": {},
   "outputs": [
    {
     "name": "stdout",
     "output_type": "stream",
     "text": [
      "Rash_Varsha_Kil_"
     ]
    }
   ],
   "source": [
    "test_list = [(1, 'Rash', 21), (2, 'Varsha', 20), (3, 'Kil', 19)] \n",
    "\n",
    "for i in range(len(test_list)):\n",
    "    print(\"\".join(test_list[i][1]),end=\"_\")"
   ]
  },
  {
   "cell_type": "code",
   "execution_count": 251,
   "metadata": {},
   "outputs": [
    {
     "data": {
      "text/plain": [
       "[(5, 7, 8), (6, 8, 10), (7, 12, 5)]"
      ]
     },
     "execution_count": 251,
     "metadata": {},
     "output_type": "execute_result"
    }
   ],
   "source": [
    "test_list = [(1, 3, 4), (2, 4, 6), (3, 8, 1)]\n",
    "[tuple(j+4  for j in i) for i in test_list]"
   ]
  },
  {
   "cell_type": "code",
   "execution_count": 69,
   "metadata": {},
   "outputs": [
    {
     "name": "stdout",
     "output_type": "stream",
     "text": [
      "1 2 3 4  \n",
      "11 11 12 5  \n",
      "11 14 13 6  \n",
      "10 9 8 7  \n"
     ]
    }
   ],
   "source": [
    "def spiralfill(m,n,a):\n",
    "    val = 1\n",
    "    k,l = 0,0\n",
    "    while (k<m  and l<n):\n",
    "        for i in range(l,n):\n",
    "            a[k][i] =val\n",
    "            val =val+1\n",
    "        k +=1 \n",
    "        \n",
    "        for i in range(k,m):\n",
    "            a[i][n-1] =val\n",
    "            val +=1\n",
    "        n=n-1\n",
    "        if(k<m):\n",
    "                for i in range(n-1,l-1,-1):\n",
    "                    a[m-1][i] =val\n",
    "                    val+=1\n",
    "                m-=1\n",
    "        if (l<n):\n",
    "            for i in range(m-1,k-1,-1):\n",
    "                a[i][l] =val\n",
    "            l+=1\n",
    "            \n",
    "if __name__=='__main__':\n",
    "    m,n =4,4\n",
    "    a = [[0 for j in range(m)] for i in range(n)]\n",
    "    spiralfill(m,n,a)\n",
    "    for i in range(m):\n",
    "        for j in range(n):\n",
    "            print(a[i][j],end= ' ')\n",
    "        print(\" \")    \n",
    "                       "
   ]
  },
  {
   "cell_type": "code",
   "execution_count": 49,
   "metadata": {},
   "outputs": [
    {
     "data": {
      "text/plain": [
       "4"
      ]
     },
     "execution_count": 49,
     "metadata": {},
     "output_type": "execute_result"
    }
   ],
   "source": [
    "a = [[0,0,0,0],[0,0,0,0],[0,0,0,0],[0,0,0,0]]\n",
    "val=1\n",
    "k,m,n=1,4,3\n",
    "if(k<m):\n",
    "    for i in range(n-1,l-1,-1):\n",
    "        a[m-1][i] =val\n",
    "        val+=1\n",
    "    m-=1\n",
    "val"
   ]
  },
  {
   "cell_type": "code",
   "execution_count": 63,
   "metadata": {},
   "outputs": [
    {
     "data": {
      "text/plain": [
       "17"
      ]
     },
     "execution_count": 63,
     "metadata": {},
     "output_type": "execute_result"
    }
   ],
   "source": [
    "a = [[0,0,0,0],[0,0,0,0],[0,0,0,0],[0,0,0,0]]\n",
    "v = 1\n",
    "k,l,m,n = 0,0,4,4\n",
    "while (k<m  and l<n):\n",
    "    for i in range(l,n):\n",
    "        a[k][i] =v\n",
    "        v =v+1\n",
    "    k +=1\n",
    "        \n",
    "    for i in range(k,m):\n",
    "        a[i][n-1] =v\n",
    "        v +=1\n",
    "    n=n-1\n",
    "v"
   ]
  },
  {
   "cell_type": "code",
   "execution_count": 44,
   "metadata": {},
   "outputs": [
    {
     "data": {
      "text/plain": [
       "17"
      ]
     },
     "execution_count": 44,
     "metadata": {},
     "output_type": "execute_result"
    }
   ],
   "source": [
    "val = 1\n",
    "k,l,m,n = 0,0,4,4\n",
    "while (k<m  and l<n):\n",
    "    for i in range(l,n):\n",
    "        a[k][i] =val\n",
    "        val =val+1\n",
    "    k +=1\n",
    "val  "
   ]
  },
  {
   "cell_type": "code",
   "execution_count": 65,
   "metadata": {},
   "outputs": [
    {
     "data": {
      "text/plain": [
       "[[0, 0, 0, 0], [0, 0, 0, 0], [0, 0, 0, 0], [10, 9, 8, 0]]"
      ]
     },
     "execution_count": 65,
     "metadata": {},
     "output_type": "execute_result"
    }
   ],
   "source": [
    "a = [[0,0,0,0],[0,0,0,0],[0,0,0,0],[0,0,0,0]]\n",
    "x,k,m,n =8,1,4,3\n",
    "if(k<m):\n",
    "    for i in range(n-1,l-1,-1):\n",
    "        a[m-1][i] =x\n",
    "        x+=1\n",
    "    m-=1\n",
    "a   "
   ]
  },
  {
   "cell_type": "code",
   "execution_count": 76,
   "metadata": {},
   "outputs": [
    {
     "data": {
      "text/plain": [
       "[2, 3, 3, 4, 6, 7, 9]"
      ]
     },
     "execution_count": 76,
     "metadata": {},
     "output_type": "execute_result"
    }
   ],
   "source": [
    "a =[3,2,7,4,6,9,3]\n",
    "n =len(a)\n",
    "\n",
    "for i in range(n):\n",
    "    for i in range(n-1):\n",
    "        if a[i]>a[i+1]:\n",
    "            a[i],a[i+1]=a[i+1],a[i]\n",
    "a "
   ]
  },
  {
   "cell_type": "code",
   "execution_count": 92,
   "metadata": {},
   "outputs": [
    {
     "name": "stdout",
     "output_type": "stream",
     "text": [
      "2 3 5 7 11 13 17 19 23 29 "
     ]
    }
   ],
   "source": [
    "start,end=1,29\n",
    "for i in range(start,end+1):\n",
    "    if i>1:\n",
    "        for j in range(2,i):\n",
    "            if i%j==0:\n",
    "                break\n",
    "        else:    \n",
    "                print(i,end=\" \")"
   ]
  },
  {
   "cell_type": "code",
   "execution_count": 101,
   "metadata": {},
   "outputs": [
    {
     "name": "stdout",
     "output_type": "stream",
     "text": [
      "2 3 5 7 11 13 17 19 23 29 "
     ]
    }
   ],
   "source": [
    "start,end=2,29\n",
    "for i in range(start,end+1):\n",
    "        for j in range(2,i):\n",
    "            if i%j==0:\n",
    "                break\n",
    "        else:    \n",
    "                print(i,end=\" \")"
   ]
  },
  {
   "cell_type": "code",
   "execution_count": 6,
   "metadata": {},
   "outputs": [
    {
     "name": "stdout",
     "output_type": "stream",
     "text": [
      "Apple - 4.5 - 10\n",
      "orange - 6.2 - 5\n",
      "pinapple - 10.0 - 1\n",
      "mango - 7.5 - 2\n",
      "Banana - 3.8 - 10\n",
      "What?(n-nothing)orange\n",
      "How many6\n",
      "We don't have so much\n",
      "What?(n-nothing)n\n",
      "price: 0\n",
      "Apple - 4.5 - 10\n",
      "orange - 6.2 - 5\n",
      "pinapple - 10.0 - 1\n",
      "mango - 7.5 - 2\n",
      "Banana - 3.8 - 10\n"
     ]
    }
   ],
   "source": [
    "goods = {'Apple':[4.5,10],\n",
    "        'orange':[6.2,5],\n",
    "        'pinapple':[10.0,1],\n",
    "        'mango':[7.5,2],\n",
    "        'Banana':[3.8,10]}\n",
    "for key,value in goods.items():\n",
    "    print(key,'-',value[0],'-',value[1])\n",
    "    \n",
    "cost =0\n",
    "\n",
    "while True:\n",
    "    good =input(\"What?(n-nothing)\")\n",
    "    if good =='n':\n",
    "        break\n",
    "    qty =int(input(\"How many\"))\n",
    "    if qty > goods[good][1]:\n",
    "        print(\"We don't have so much\")\n",
    "        continue\n",
    "    cost+=goods[good][0]*qty\n",
    "    goods[good][1]-=qty\n",
    "print(\"price:\",cost)\n",
    "\n",
    "for key,value in goods.items():\n",
    "    print(key,'-',value[0],'-',value[1])"
   ]
  },
  {
   "cell_type": "code",
   "execution_count": 7,
   "metadata": {},
   "outputs": [
    {
     "name": "stdout",
     "output_type": "stream",
     "text": [
      "[6, 4, 9, 3, 7]\n",
      "[9, 8, 0, 6, 9]\n",
      "[0, 8, 5, 6, 6]\n",
      "[8, 9, 1, 9, 9]\n",
      "[7, 0, 5, 0, 6]\n",
      "3 - 36\n",
      "4 - 37\n"
     ]
    }
   ],
   "source": [
    "from random import random\n",
    "\n",
    "matrix=[]\n",
    "\n",
    "for i in range(5):\n",
    "    row=[]\n",
    "    for j in range(5):\n",
    "        row.append(int(random()*10))\n",
    "    matrix.append(row)\n",
    "    \n",
    "for row in matrix:\n",
    "    print(row)\n",
    "    \n",
    "maxrow =0\n",
    "idrow =0\n",
    "i=0\n",
    "\n",
    "for row in matrix:\n",
    "    if sum(row)>maxrow:\n",
    "        maxrow =sum(row)\n",
    "        idrow =i\n",
    "    i+=1\n",
    "\n",
    "print(idrow,'-',maxrow)\n",
    "\n",
    "maxcol =0\n",
    "idcol =0\n",
    "for i in range(5):\n",
    "    colsum =0\n",
    "    for j in range(5):\n",
    "        colsum +=matrix[j][i]\n",
    "    if colsum> maxcol:\n",
    "        maxcol = colsum\n",
    "        idcol =i\n",
    "print(idcol,'-',maxcol)        \n",
    "    "
   ]
  },
  {
   "cell_type": "code",
   "execution_count": 18,
   "metadata": {},
   "outputs": [
    {
     "name": "stdout",
     "output_type": "stream",
     "text": [
      "[7, 6, 3, 4, 8]\n",
      "[1, 3, 1, 4, 7]\n",
      "[9, 3, 7, 5, 8]\n",
      "[4, 9, 4, 3, 4]\n",
      "[3, 3, 6, 5, 3]\n",
      "23\n",
      "31\n"
     ]
    }
   ],
   "source": [
    "from random import random\n",
    "\n",
    "n=5\n",
    "matrix=[]\n",
    "for i in range(n):\n",
    "    row=[]\n",
    "    for j in range(n):\n",
    "        row.append(int(random()*10))\n",
    "    matrix.append(row)\n",
    "for row in matrix:\n",
    "    print(row)\n",
    "    \n",
    "summain=0\n",
    "sumsecondary=0\n",
    "for i in range(n):\n",
    "    summain +=matrix[i][i]\n",
    "    sumsecondary +=matrix[i][n-i-1]\n",
    "\n",
    "print(summain)\n",
    "print(sumsecondary)"
   ]
  },
  {
   "cell_type": "code",
   "execution_count": 24,
   "metadata": {},
   "outputs": [
    {
     "name": "stdout",
     "output_type": "stream",
     "text": [
      "23 31\n"
     ]
    }
   ],
   "source": [
    "matrix\n",
    "sum_1,sum_2=0,0\n",
    "for i in range(5):\n",
    "    sum_1 += matrix[i][i]\n",
    "    sum_2 +=matrix[i][4-i]\n",
    "print(sum_1,sum_2)    "
   ]
  },
  {
   "cell_type": "code",
   "execution_count": 28,
   "metadata": {},
   "outputs": [
    {
     "name": "stdout",
     "output_type": "stream",
     "text": [
      "[3, 4, 5, 6, 7, 1, 2]\n"
     ]
    }
   ],
   "source": [
    "### Array rotation\n",
    "\n",
    "def x(a,d):\n",
    "    for i in range(d):\n",
    "        a.append(a.pop(0))\n",
    "    print(a)\n",
    "a=[1,2,3,4,5,6,7] \n",
    "x(a,2)"
   ]
  },
  {
   "cell_type": "code",
   "execution_count": 42,
   "metadata": {},
   "outputs": [
    {
     "name": "stdout",
     "output_type": "stream",
     "text": [
      "2\n"
     ]
    }
   ],
   "source": [
    "def binary(a,q):\n",
    "    lower=0\n",
    "    upper=len(a)\n",
    "\n",
    "    while lower<upper:\n",
    "        mid=(lower+upper)//2\n",
    "        value =a[mid]\n",
    "        if q==value:\n",
    "            return mid\n",
    "   \n",
    "        elif q> value:\n",
    "            lower=mid\n",
    "        elif q<value:\n",
    "            upper=mid\n",
    "q = 3\n",
    "a=[1,2,3,4,5,6]\n",
    "print(binary(a,q))"
   ]
  },
  {
   "cell_type": "code",
   "execution_count": 30,
   "metadata": {},
   "outputs": [
    {
     "name": "stdout",
     "output_type": "stream",
     "text": [
      "Array Length: 14\n",
      "Middle Value: 7\n",
      "Middle Value: 10\n",
      "The Value Found at Index: 10\n"
     ]
    }
   ],
   "source": [
    "def binary_search_Ascending(array, target):\n",
    "    lower = 0\n",
    "    upper = len(array)\n",
    "    print('Array Length:',upper)\n",
    "    while lower < upper:\n",
    "        x = (lower + upper) // 2\n",
    "        print('Middle Value:',x)\n",
    "        value = array[x]\n",
    "        if target == value:\n",
    "            return x\n",
    "        elif target > value:\n",
    "            lower = x\n",
    "        elif target < value:\n",
    "            upper = x\n",
    "\n",
    "Array = [1,5,8,10,12,13,55,66,73,78,82,85,88,99]\n",
    "print('The Value Found at Index:',binary_search_Ascending(Array, 82))"
   ]
  },
  {
   "cell_type": "code",
   "execution_count": 47,
   "metadata": {},
   "outputs": [
    {
     "name": "stdout",
     "output_type": "stream",
     "text": [
      "PrAjWaL\n",
      "Not a valid string\n",
      "r Not a valid string\n",
      "j Not a valid string\n",
      "a Not a valid string\n"
     ]
    }
   ],
   "source": [
    "str_ = input()\n",
    "l =len(str_)\n",
    "\n",
    "for i in range(0,l):\n",
    "    if (str_[i].isalpha()):\n",
    "        if (str_[i].islower()):\n",
    "            print(str_[i].lower(),end=\" \")\n",
    "        else:\n",
    "            print(\"Not a valid string\")"
   ]
  },
  {
   "cell_type": "code",
   "execution_count": 46,
   "metadata": {},
   "outputs": [
    {
     "name": "stdout",
     "output_type": "stream",
     "text": [
      "PrAjWaL\n"
     ]
    },
    {
     "data": {
      "text/plain": [
       "'pRaJwAl'"
      ]
     },
     "execution_count": 46,
     "metadata": {},
     "output_type": "execute_result"
    }
   ],
   "source": [
    "s=input()\n",
    "s.swapcase()"
   ]
  },
  {
   "cell_type": "code",
   "execution_count": 58,
   "metadata": {},
   "outputs": [
    {
     "name": "stdout",
     "output_type": "stream",
     "text": [
      " \n",
      "*  \n",
      "* *  \n",
      "* * *  \n",
      "* * * *  \n",
      "* * * * *  \n",
      "* * * *  \n",
      "* * *  \n",
      "* *  \n",
      "*  \n"
     ]
    }
   ],
   "source": [
    "for j in range(5):\n",
    "    for i in range(j):\n",
    "        print(\"*\",end=\" \")\n",
    "    print(\" \")\n",
    "for j in range(5):\n",
    "    for i in range(5-j):\n",
    "        print(\"*\",end=\" \")\n",
    "    print(\" \")    "
   ]
  },
  {
   "cell_type": "code",
   "execution_count": 66,
   "metadata": {},
   "outputs": [
    {
     "name": "stdout",
     "output_type": "stream",
     "text": [
      "5 2\n"
     ]
    }
   ],
   "source": [
    "q ='dfghj23'\n",
    "a = sum(1 for i in q if i.isalpha())\n",
    "c = sum(1 for i in q if i.isnumeric())\n",
    "print(a,c)"
   ]
  },
  {
   "cell_type": "code",
   "execution_count": 1,
   "metadata": {},
   "outputs": [
    {
     "name": "stdout",
     "output_type": "stream",
     "text": [
      "0 50\n",
      "1 1 2 3 5 8 13 21 34 "
     ]
    }
   ],
   "source": [
    "x,y=0,1\n",
    "print(x,end=\" \")\n",
    "z = int(input())\n",
    "while y<z:\n",
    "    print(y,end=\" \")\n",
    "    x,y=y,x+y"
   ]
  },
  {
   "cell_type": "code",
   "execution_count": 5,
   "metadata": {},
   "outputs": [
    {
     "name": "stdout",
     "output_type": "stream",
     "text": [
      "Enter a number6\n",
      "too low\n",
      "Enter a number8\n",
      "too low\n",
      "Enter a number9\n",
      "too low\n",
      "Enter a number0\n",
      "too low\n",
      "Enter a number12\n",
      "too High\n",
      "Enter a number10\n",
      "correct\n"
     ]
    }
   ],
   "source": [
    "import random\n",
    "import math\n",
    "\n",
    "x =math.floor((random.random()*10)+1)\n",
    "guess = 0\n",
    "while guess!=x:\n",
    "    guess=int(input(\"Enter a number\"))\n",
    "    if guess==x:\n",
    "        print(\"correct\")\n",
    "    elif guess >x:\n",
    "        print(\"too High\")\n",
    "    else:\n",
    "        print(\"too low\")"
   ]
  },
  {
   "cell_type": "code",
   "execution_count": 24,
   "metadata": {
    "scrolled": true
   },
   "outputs": [
    {
     "name": "stdout",
     "output_type": "stream",
     "text": [
      "True\n",
      "False\n"
     ]
    }
   ],
   "source": [
    "def is_sublist(l,s):\n",
    "    sub_set = False\n",
    "    if s == []:\n",
    "        sub_set = True\n",
    "    elif s ==l:\n",
    "        sub_set = True\n",
    "    elif len(s) > len(l):\n",
    "        sub_set = False\n",
    "      \n",
    "    else:\n",
    "        for i in range(len(l)):\n",
    "            if l[i] ==s[0]:\n",
    "                n = 1\n",
    "                while (n<len(s)) and (l[i+n] == s[n]):\n",
    "                    n +=1\n",
    "                    if n == len(s):\n",
    "                        sub_set=True\n",
    "    return sub_set  \n",
    "\n",
    "a = [2,4,3,5,7]\n",
    "b = [4,3]\n",
    "c = [3,7]\n",
    "print(is_sublist(a,b))\n",
    "print(is_sublist(a,c))"
   ]
  },
  {
   "cell_type": "code",
   "execution_count": 60,
   "metadata": {},
   "outputs": [
    {
     "name": "stdout",
     "output_type": "stream",
     "text": [
      "1 2 3 4 5 6 12 18 17 16 15 14 13 7 7 8 9 10 11 "
     ]
    }
   ],
   "source": [
    "\n",
    "# Python3 program to print  \n",
    "# given matrix in spiral form \n",
    "def spiralPrint(m, n, a) : \n",
    "    k = 0; l = 0\n",
    "  \n",
    "    ''' k - starting row index \n",
    "        m - ending row index \n",
    "        l - starting column index \n",
    "        n - ending column index \n",
    "        i - iterator '''\n",
    "      \n",
    "  \n",
    "    while (k < m and l < n) : \n",
    "          \n",
    "        # Print the first row from \n",
    "        # the remaining rows  \n",
    "        for i in range(l, n) : \n",
    "            print(a[k][i], end = \" \") \n",
    "              \n",
    "        k += 1\n",
    "  \n",
    "        # Print the last column from \n",
    "        # the remaining columns  \n",
    "        for i in range(k, m) : \n",
    "            print(a[i][n - 1], end = \" \") \n",
    "              \n",
    "        n -= 1\n",
    "  \n",
    "        # Print the last row from \n",
    "        # the remaining rows  \n",
    "        if ( k < m) : \n",
    "              \n",
    "            for i in range(n - 1, (l - 1), -1) : \n",
    "                print(a[m - 1][i], end = \" \") \n",
    "              \n",
    "            m -= 1\n",
    "          \n",
    "        # Print the first column from \n",
    "        # the remaining columns  \n",
    "        if (l < n) : \n",
    "            for i in range(m - 1, k - 1, -1) : \n",
    "                print(a[i][l], end = \" \") \n",
    "              \n",
    "            l += 1\n",
    "  \n",
    "# Driver Code \n",
    "a = [ [1, 2, 3, 4, 5, 6], \n",
    "      [7, 8, 9, 10, 11, 12], \n",
    "      [13, 14, 15, 16, 17, 18] ] \n",
    "        \n",
    "R = 3; C = 6\n",
    "spiralPrint(R, C, a)"
   ]
  },
  {
   "cell_type": "code",
   "execution_count": 58,
   "metadata": {},
   "outputs": [
    {
     "name": "stdout",
     "output_type": "stream",
     "text": [
      "1 2 3 4 5 6 12 18 7 8 9 10 11 17 13 14 15 16 "
     ]
    }
   ],
   "source": [
    "def spiralPrint(m, n, a) : \n",
    "    k = 0; l = 0\n",
    "  \n",
    "    while (k < m and l < n) : \n",
    "        for i in range(l, n) : \n",
    "            print(a[k][i], end = \" \") \n",
    "              \n",
    "        k += 1\n",
    "        for i in range(k,m):\n",
    "            print(a[i][n-1],end=\" \")\n",
    "        n-=1   \n",
    "\n",
    "a = [ [1, 2, 3, 4, 5, 6], \n",
    "      [7, 8, 9, 10, 11, 12], \n",
    "      [13, 14, 15, 16, 17, 18] ]\n",
    "\n",
    "r=3\n",
    "c=6\n",
    "spiralPrint(r,c,a)\n"
   ]
  },
  {
   "cell_type": "code",
   "execution_count": 64,
   "metadata": {},
   "outputs": [
    {
     "data": {
      "text/plain": [
       "['sgsgg', 'gsdfgsd']"
      ]
     },
     "execution_count": 64,
     "metadata": {},
     "output_type": "execute_result"
    }
   ],
   "source": [
    "text ='sgsgg','gsdfgsd','praj345','dnfjd33'\n",
    "text = [word for word in text if not any(c.isdigit() for c in word)]\n",
    "text"
   ]
  },
  {
   "cell_type": "code",
   "execution_count": 70,
   "metadata": {},
   "outputs": [
    {
     "name": "stdout",
     "output_type": "stream",
     "text": [
      "praj345\n",
      "dnfjd33\n"
     ]
    }
   ],
   "source": [
    "text ='sgsgg','gsdfgsd','praj345','dnfjd33'\n",
    "for word in text:\n",
    "    if not any(c.isdigit() for c in word):\n",
    "        print(word)"
   ]
  },
  {
   "cell_type": "code",
   "execution_count": 56,
   "metadata": {},
   "outputs": [
    {
     "name": "stdout",
     "output_type": "stream",
     "text": [
      "praj345\n",
      "dnfjd33\n"
     ]
    }
   ],
   "source": [
    "text ='sgsgg','gsdfgsd','praj345','dnfjd33'\n",
    "for word in text:\n",
    "    if  any(c.isdigit() for c in word):\n",
    "        print(word)"
   ]
  },
  {
   "cell_type": "code",
   "execution_count": 73,
   "metadata": {},
   "outputs": [
    {
     "name": "stdout",
     "output_type": "stream",
     "text": [
      "['a', 'ab', 'abf', 'abfc', 'abfcd', 'abfcde', 'b', 'bf', 'bfc', 'bfcd', 'bfcde', 'f', 'fc', 'fcd', 'fcde', 'c', 'cd', 'cde', 'd', 'de', 'e']\n"
     ]
    }
   ],
   "source": [
    "def get_all_substrings(input_string):\n",
    "  length = len(input_string)\n",
    "  return [input_string[i:j+1] for i in range(length) for j in range(i,length)]\n",
    "\n",
    "print(get_all_substrings('abcde'))"
   ]
  },
  {
   "cell_type": "code",
   "execution_count": null,
   "metadata": {},
   "outputs": [],
   "source": [
    "[input_string[i:j+1] for i in range(length) for j in range(i,length)]"
   ]
  },
  {
   "cell_type": "code",
   "execution_count": 79,
   "metadata": {},
   "outputs": [
    {
     "name": "stdout",
     "output_type": "stream",
     "text": [
      "0 2 5 3\n",
      "NO\n"
     ]
    }
   ],
   "source": [
    "def kangaroo(x1, v1, x2, v2):\n",
    "    return 'YES' if (v1 > v2) and (x2 - x1) % (v2 - v1) == 0 else 'NO'\n",
    "\n",
    "\n",
    "x1, v1, x2, v2 = map(int, input().split())\n",
    "print(kangaroo(x1, v1, x2, v2))"
   ]
  },
  {
   "cell_type": "code",
   "execution_count": 103,
   "metadata": {},
   "outputs": [
    {
     "name": "stdout",
     "output_type": "stream",
     "text": [
      "NO\n"
     ]
    }
   ],
   "source": [
    "def kangaroo(x1, v1, x2, v2):\n",
    "    for n in range(10000):\n",
    "        if((x1+v1)==(x2+v2)):\n",
    "            return \"YES\"\n",
    "        x1+=v1\n",
    "        x2+=v2\n",
    "    return \"NO\"\n",
    "print(kangaroo(0,2,5,3))"
   ]
  },
  {
   "cell_type": "code",
   "execution_count": 99,
   "metadata": {},
   "outputs": [
    {
     "name": "stdout",
     "output_type": "stream",
     "text": [
      "PrAJwAL\n",
      "l\n",
      "L\n"
     ]
    }
   ],
   "source": [
    "l = 'pRajWal'\n",
    "print(l.swapcase())\n",
    "\"\".join([i.lower() if i.isupper() else i.lower() for i in l])\n",
    "print(*map(lambda ch : ch.lower() if ch.isupper() else ch.upper(), input()), sep=\"\")"
   ]
  },
  {
   "cell_type": "code",
   "execution_count": 100,
   "metadata": {},
   "outputs": [
    {
     "name": "stdout",
     "output_type": "stream",
     "text": [
      "5 7\n",
      "--.|.--\n",
      ".|..|..|.\n",
      "WELCOME\n",
      ".|..|..|.\n",
      "--.|.--\n"
     ]
    }
   ],
   "source": [
    "N, M = map(int,input().split())\n",
    "for i in range(1,N,2): \n",
    "    print((i * \".|.\").center(M, \"-\"))\n",
    "print(\"WELCOME\".center(M,\"-\"))\n",
    "for i in range(N-2,-1,-2): \n",
    "    print((i * \".|.\").center(M, \"-\"))"
   ]
  },
  {
   "cell_type": "code",
   "execution_count": 102,
   "metadata": {
    "scrolled": true
   },
   "outputs": [
    {
     "name": "stdout",
     "output_type": "stream",
     "text": [
      "dfghhjk\n",
      "5\n",
      "dfghh\n",
      "jk\n"
     ]
    }
   ],
   "source": [
    "import textwrap\n",
    "\n",
    "def wrap(string, max_width):\n",
    "    for i in range(0,len(string)+1,max_width):\n",
    "        result=string[i:i+max_width]\n",
    "        if len(result)==max_width:\n",
    "            print(result)\n",
    "        else:\n",
    "            return(result)\n",
    "\n",
    "if __name__ == '__main__':\n",
    "    string, max_width = input(), int(input())\n",
    "    result = wrap(string, max_width)\n",
    "    print(result)"
   ]
  },
  {
   "cell_type": "code",
   "execution_count": null,
   "metadata": {},
   "outputs": [],
   "source": [
    "## Between Two Sets\n",
    "#2 3\n",
    "#2 4\n",
    "#16 32 96\n",
    "\n",
    "#--3\n",
    "import sys\n",
    "from fractions import gcd\n",
    "\n",
    "n,m = int(input().strip().split(' '))\n",
    "A = map(int,input().strip().split(' '))\n",
    "B = map(int,input().strip().split(' '))\n",
    "\n",
    "def LCM(a, b):\n",
    "    return (a*b)//gcd(a,b)\n",
    "\n",
    "lcm = reduce(LCM, A, 1)\n",
    "gcd = reduce(gcd, B)\n",
    "\n",
    "lcm_copy = lcm\n",
    "\n",
    "count = 0\n",
    "while lcm <= gcd:\n",
    "    if(gcd % lcm) == 0:\n",
    "        count += 1\n",
    "    lcm = lcm + lcm_copy\n",
    "\n",
    "print(count)"
   ]
  }
 ],
 "metadata": {
  "kernelspec": {
   "display_name": "Python 3",
   "language": "python",
   "name": "python3"
  },
  "language_info": {
   "codemirror_mode": {
    "name": "ipython",
    "version": 3
   },
   "file_extension": ".py",
   "mimetype": "text/x-python",
   "name": "python",
   "nbconvert_exporter": "python",
   "pygments_lexer": "ipython3",
   "version": "3.7.6"
  }
 },
 "nbformat": 4,
 "nbformat_minor": 2
}
