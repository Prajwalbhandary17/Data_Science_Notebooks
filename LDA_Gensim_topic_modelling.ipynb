{
 "cells": [
  {
   "cell_type": "code",
   "execution_count": 2,
   "metadata": {},
   "outputs": [
    {
     "data": {
      "text/html": [
       "<div>\n",
       "<style scoped>\n",
       "    .dataframe tbody tr th:only-of-type {\n",
       "        vertical-align: middle;\n",
       "    }\n",
       "\n",
       "    .dataframe tbody tr th {\n",
       "        vertical-align: top;\n",
       "    }\n",
       "\n",
       "    .dataframe thead th {\n",
       "        text-align: right;\n",
       "    }\n",
       "</style>\n",
       "<table border=\"1\" class=\"dataframe\">\n",
       "  <thead>\n",
       "    <tr style=\"text-align: right;\">\n",
       "      <th></th>\n",
       "      <th>publish_date</th>\n",
       "      <th>headline_category</th>\n",
       "      <th>headline_text</th>\n",
       "    </tr>\n",
       "  </thead>\n",
       "  <tbody>\n",
       "    <tr>\n",
       "      <th>0</th>\n",
       "      <td>20010101</td>\n",
       "      <td>sports.wwe</td>\n",
       "      <td>win over cena satisfying but defeating underta...</td>\n",
       "    </tr>\n",
       "    <tr>\n",
       "      <th>1</th>\n",
       "      <td>20010102</td>\n",
       "      <td>unknown</td>\n",
       "      <td>Status quo will not be disturbed at Ayodhya; s...</td>\n",
       "    </tr>\n",
       "    <tr>\n",
       "      <th>2</th>\n",
       "      <td>20010102</td>\n",
       "      <td>unknown</td>\n",
       "      <td>Fissures in Hurriyat over Pak visit</td>\n",
       "    </tr>\n",
       "    <tr>\n",
       "      <th>3</th>\n",
       "      <td>20010102</td>\n",
       "      <td>unknown</td>\n",
       "      <td>America's unwanted heading for India?</td>\n",
       "    </tr>\n",
       "    <tr>\n",
       "      <th>4</th>\n",
       "      <td>20010102</td>\n",
       "      <td>unknown</td>\n",
       "      <td>For bigwigs; it is destination Goa</td>\n",
       "    </tr>\n",
       "  </tbody>\n",
       "</table>\n",
       "</div>"
      ],
      "text/plain": [
       "   publish_date headline_category  \\\n",
       "0      20010101        sports.wwe   \n",
       "1      20010102           unknown   \n",
       "2      20010102           unknown   \n",
       "3      20010102           unknown   \n",
       "4      20010102           unknown   \n",
       "\n",
       "                                       headline_text  \n",
       "0  win over cena satisfying but defeating underta...  \n",
       "1  Status quo will not be disturbed at Ayodhya; s...  \n",
       "2                Fissures in Hurriyat over Pak visit  \n",
       "3              America's unwanted heading for India?  \n",
       "4                 For bigwigs; it is destination Goa  "
      ]
     },
     "execution_count": 2,
     "metadata": {},
     "output_type": "execute_result"
    }
   ],
   "source": [
    "## Loading data sets\n",
    "import pandas as pd\n",
    "data = pd.read_csv('india-news-headlines.csv', error_bad_lines=False)\n",
    "\n",
    "data.head()"
   ]
  },
  {
   "cell_type": "code",
   "execution_count": 40,
   "metadata": {},
   "outputs": [
    {
     "data": {
      "text/html": [
       "<div>\n",
       "<style scoped>\n",
       "    .dataframe tbody tr th:only-of-type {\n",
       "        vertical-align: middle;\n",
       "    }\n",
       "\n",
       "    .dataframe tbody tr th {\n",
       "        vertical-align: top;\n",
       "    }\n",
       "\n",
       "    .dataframe thead th {\n",
       "        text-align: right;\n",
       "    }\n",
       "</style>\n",
       "<table border=\"1\" class=\"dataframe\">\n",
       "  <thead>\n",
       "    <tr style=\"text-align: right;\">\n",
       "      <th></th>\n",
       "      <th>headline_text</th>\n",
       "    </tr>\n",
       "  </thead>\n",
       "  <tbody>\n",
       "    <tr>\n",
       "      <th>0</th>\n",
       "      <td>win over cena satisfying but defeating underta...</td>\n",
       "    </tr>\n",
       "    <tr>\n",
       "      <th>1</th>\n",
       "      <td>Status quo will not be disturbed at Ayodhya; s...</td>\n",
       "    </tr>\n",
       "    <tr>\n",
       "      <th>2</th>\n",
       "      <td>Fissures in Hurriyat over Pak visit</td>\n",
       "    </tr>\n",
       "    <tr>\n",
       "      <th>3</th>\n",
       "      <td>America's unwanted heading for India?</td>\n",
       "    </tr>\n",
       "    <tr>\n",
       "      <th>4</th>\n",
       "      <td>For bigwigs; it is destination Goa</td>\n",
       "    </tr>\n",
       "  </tbody>\n",
       "</table>\n",
       "</div>"
      ],
      "text/plain": [
       "                                       headline_text\n",
       "0  win over cena satisfying but defeating underta...\n",
       "1  Status quo will not be disturbed at Ayodhya; s...\n",
       "2                Fissures in Hurriyat over Pak visit\n",
       "3              America's unwanted heading for India?\n",
       "4                 For bigwigs; it is destination Goa"
      ]
     },
     "execution_count": 40,
     "metadata": {},
     "output_type": "execute_result"
    }
   ],
   "source": [
    "## Its a huge data set we are considering a few sample of it\n",
    "data_text = data[:32971][['headline_text']]\n",
    "\n",
    "data_text.head()"
   ]
  },
  {
   "cell_type": "code",
   "execution_count": 41,
   "metadata": {},
   "outputs": [
    {
     "data": {
      "text/html": [
       "<div>\n",
       "<style scoped>\n",
       "    .dataframe tbody tr th:only-of-type {\n",
       "        vertical-align: middle;\n",
       "    }\n",
       "\n",
       "    .dataframe tbody tr th {\n",
       "        vertical-align: top;\n",
       "    }\n",
       "\n",
       "    .dataframe thead th {\n",
       "        text-align: right;\n",
       "    }\n",
       "</style>\n",
       "<table border=\"1\" class=\"dataframe\">\n",
       "  <thead>\n",
       "    <tr style=\"text-align: right;\">\n",
       "      <th></th>\n",
       "      <th>headline_text</th>\n",
       "      <th>index</th>\n",
       "    </tr>\n",
       "  </thead>\n",
       "  <tbody>\n",
       "    <tr>\n",
       "      <th>0</th>\n",
       "      <td>win over cena satisfying but defeating underta...</td>\n",
       "      <td>0</td>\n",
       "    </tr>\n",
       "    <tr>\n",
       "      <th>1</th>\n",
       "      <td>Status quo will not be disturbed at Ayodhya; s...</td>\n",
       "      <td>1</td>\n",
       "    </tr>\n",
       "    <tr>\n",
       "      <th>2</th>\n",
       "      <td>Fissures in Hurriyat over Pak visit</td>\n",
       "      <td>2</td>\n",
       "    </tr>\n",
       "    <tr>\n",
       "      <th>3</th>\n",
       "      <td>America's unwanted heading for India?</td>\n",
       "      <td>3</td>\n",
       "    </tr>\n",
       "    <tr>\n",
       "      <th>4</th>\n",
       "      <td>For bigwigs; it is destination Goa</td>\n",
       "      <td>4</td>\n",
       "    </tr>\n",
       "  </tbody>\n",
       "</table>\n",
       "</div>"
      ],
      "text/plain": [
       "                                       headline_text  index\n",
       "0  win over cena satisfying but defeating underta...      0\n",
       "1  Status quo will not be disturbed at Ayodhya; s...      1\n",
       "2                Fissures in Hurriyat over Pak visit      2\n",
       "3              America's unwanted heading for India?      3\n",
       "4                 For bigwigs; it is destination Goa      4"
      ]
     },
     "execution_count": 41,
     "metadata": {},
     "output_type": "execute_result"
    }
   ],
   "source": [
    "data_text['index'] = data_text.index\n",
    "\n",
    "documents = data_text\n",
    "documents.head()"
   ]
  },
  {
   "cell_type": "code",
   "execution_count": 42,
   "metadata": {},
   "outputs": [],
   "source": [
    "## Downloading desired Package\n",
    "\n",
    "import gensim\n",
    "from gensim.utils import simple_preprocess\n",
    "from nltk.corpus import stopwords\n",
    "from nltk.stem import WordNetLemmatizer\n",
    "from nltk.stem.porter import *\n",
    "import numpy as np\n",
    "from nltk.stem import PorterStemmer"
   ]
  },
  {
   "cell_type": "code",
   "execution_count": 36,
   "metadata": {},
   "outputs": [
    {
     "name": "stderr",
     "output_type": "stream",
     "text": [
      "[nltk_data] Downloading package wordnet to\n",
      "[nltk_data]     C:\\Users\\Administrator\\AppData\\Roaming\\nltk_data...\n",
      "[nltk_data]   Package wordnet is already up-to-date!\n"
     ]
    },
    {
     "data": {
      "text/plain": [
       "True"
      ]
     },
     "execution_count": 36,
     "metadata": {},
     "output_type": "execute_result"
    }
   ],
   "source": [
    "\n",
    "import nltk\n",
    "nltk.download('wordnet')"
   ]
  },
  {
   "cell_type": "code",
   "execution_count": 45,
   "metadata": {},
   "outputs": [],
   "source": [
    "def lemmatize_stemming(text):\n",
    "    res = WordNetLemmatizer().lemmatize(text, pos='v')\n",
    "    return PorterStemmer().stem(res)\n",
    "\n",
    "def preprocess(text):\n",
    "    result=[]\n",
    "    for token in gensim.utils.simple_preprocess(text) :\n",
    "\n",
    "        if token not in stopwords.words('english') and len(token) > 3:\n",
    "            \n",
    "            result.append(lemmatize_stemming(token))\n",
    "    return result"
   ]
  },
  {
   "cell_type": "code",
   "execution_count": 46,
   "metadata": {},
   "outputs": [
    {
     "name": "stdout",
     "output_type": "stream",
     "text": [
      "Original document: \n",
      "['Ceasefire', 'extension', 'was', 'for', 'talks:', 'Padmanabhaiah']\n",
      "\n",
      "\n",
      "Tokenized and lemmatized document: \n",
      "['ceasefir', 'extens', 'talk', 'padmanabhaiah']\n"
     ]
    }
   ],
   "source": [
    "document_num = 5731\n",
    "doc_sample = documents[documents['index'] == document_num].values[0][0]\n",
    "\n",
    "print(\"Original document: \")\n",
    "words = []\n",
    "for word in doc_sample.split(' '):\n",
    "    words.append(word)\n",
    "print(words)\n",
    "print(\"\\n\\nTokenized and lemmatized document: \")\n",
    "print(preprocess(doc_sample))"
   ]
  },
  {
   "cell_type": "code",
   "execution_count": 47,
   "metadata": {},
   "outputs": [],
   "source": [
    "processed_docs = documents['headline_text'].map(preprocess)"
   ]
  },
  {
   "cell_type": "code",
   "execution_count": 48,
   "metadata": {},
   "outputs": [
    {
     "data": {
      "text/plain": [
       "32971"
      ]
     },
     "execution_count": 48,
     "metadata": {},
     "output_type": "execute_result"
    }
   ],
   "source": [
    "len(processed_docs)"
   ]
  },
  {
   "cell_type": "markdown",
   "metadata": {},
   "source": [
    "## Get a BOW Dict from data"
   ]
  },
  {
   "cell_type": "code",
   "execution_count": 59,
   "metadata": {},
   "outputs": [
    {
     "name": "stdout",
     "output_type": "stream",
     "text": [
      "0 bigger\n",
      "1 cena\n",
      "2 defeat\n",
      "3 reign\n",
      "4 roman\n",
      "5 satisfi\n",
      "6 undertak\n",
      "7 ayodhya\n",
      "8 disturb\n",
      "9 say\n",
      "10 statu\n"
     ]
    }
   ],
   "source": [
    "\n",
    "dictionary = gensim.corpora.Dictionary(processed_docs)\n",
    "count = 0\n",
    "for k, v in dictionary.items():\n",
    "    print(k, v)\n",
    "    count += 1\n",
    "    if count > 10:\n",
    "        break"
   ]
  },
  {
   "cell_type": "code",
   "execution_count": 60,
   "metadata": {},
   "outputs": [],
   "source": [
    "### filter the dict"
   ]
  },
  {
   "cell_type": "code",
   "execution_count": null,
   "metadata": {},
   "outputs": [],
   "source": [
    "dictionary.filter_extremes(no_below=15, no_above=0.1, keep_n=100000)"
   ]
  },
  {
   "cell_type": "markdown",
   "metadata": {},
   "source": [
    "## Convert document into BOW format by doc2bow"
   ]
  },
  {
   "cell_type": "code",
   "execution_count": 61,
   "metadata": {},
   "outputs": [],
   "source": [
    "bow_corpus = [dictionary.doc2bow(doc) for doc in processed_docs]"
   ]
  },
  {
   "cell_type": "code",
   "execution_count": 62,
   "metadata": {},
   "outputs": [
    {
     "name": "stdout",
     "output_type": "stream",
     "text": [
      "Word 322 (\"talk\") appears 1 time.\n",
      "Word 1155 (\"ceasefir\") appears 1 time.\n",
      "Word 1671 (\"extens\") appears 1 time.\n",
      "Word 5793 (\"padmanabhaiah\") appears 1 time.\n"
     ]
    }
   ],
   "source": [
    "bow_doc_4310 = bow_corpus[document_num]\n",
    "\n",
    "for i in range(len(bow_doc_4310)):\n",
    "    print(\"Word {} (\\\"{}\\\") appears {} time.\".format(bow_doc_4310[i][0], \n",
    "                                                     dictionary[bow_doc_4310[i][0]], \n",
    "                                                     bow_doc_4310[i][1]))"
   ]
  },
  {
   "cell_type": "code",
   "execution_count": null,
   "metadata": {},
   "outputs": [],
   "source": [
    "## TF-IDF on our document set"
   ]
  },
  {
   "cell_type": "code",
   "execution_count": 64,
   "metadata": {},
   "outputs": [],
   "source": [
    "\n",
    "tfidf = gensim.models.TfidfModel(bow_corpus)"
   ]
  },
  {
   "cell_type": "code",
   "execution_count": 65,
   "metadata": {},
   "outputs": [],
   "source": [
    "corpus_tfidf = tfidf[bow_corpus]"
   ]
  },
  {
   "cell_type": "code",
   "execution_count": 66,
   "metadata": {},
   "outputs": [
    {
     "name": "stdout",
     "output_type": "stream",
     "text": [
      "[(0, 0.3752660975507376), (1, 0.45334504855773655), (2, 0.3206748311891461), (3, 0.36272986440877925), (4, 0.38321106792478454), (5, 0.3752660975507376), (6, 0.36272986440877925)]\n"
     ]
    }
   ],
   "source": [
    "for doc in corpus_tfidf:\n",
    "    print(doc)\n",
    "    break"
   ]
  },
  {
   "cell_type": "markdown",
   "metadata": {},
   "source": [
    "## Running LDA using Bag of Words data"
   ]
  },
  {
   "cell_type": "code",
   "execution_count": 87,
   "metadata": {},
   "outputs": [],
   "source": [
    "lda_model = gensim.models.LdaMulticore(bow_corpus, \n",
    "                                       num_topics=8, \n",
    "                                       id2word = dictionary, \n",
    "                                       passes = 2, \n",
    "                                       workers=2)"
   ]
  },
  {
   "cell_type": "code",
   "execution_count": 88,
   "metadata": {},
   "outputs": [
    {
     "name": "stdout",
     "output_type": "stream",
     "text": [
      "Topic: 0 \n",
      "Words: 0.011*\"student\" + 0.009*\"life\" + 0.008*\"year\" + 0.006*\"make\" + 0.006*\"kill\" + 0.006*\"girl\" + 0.005*\"take\" + 0.005*\"book\" + 0.005*\"get\" + 0.005*\"like\"\n",
      "\n",
      "\n",
      "Topic: 1 \n",
      "Words: 0.010*\"state\" + 0.010*\"govt\" + 0.009*\"servic\" + 0.008*\"plan\" + 0.007*\"polic\" + 0.007*\"help\" + 0.006*\"power\" + 0.006*\"women\" + 0.005*\"launch\" + 0.005*\"school\"\n",
      "\n",
      "\n",
      "Topic: 2 \n",
      "Words: 0.021*\"kill\" + 0.011*\"hold\" + 0.008*\"leader\" + 0.008*\"train\" + 0.007*\"india\" + 0.007*\"milit\" + 0.007*\"cong\" + 0.006*\"blast\" + 0.005*\"polic\" + 0.005*\"terror\"\n",
      "\n",
      "\n",
      "Topic: 3 \n",
      "Words: 0.011*\"take\" + 0.011*\"govt\" + 0.007*\"move\" + 0.007*\"come\" + 0.006*\"issu\" + 0.006*\"support\" + 0.005*\"india\" + 0.005*\"notic\" + 0.005*\"free\" + 0.005*\"power\"\n",
      "\n",
      "\n",
      "Topic: 4 \n",
      "Words: 0.008*\"drought\" + 0.007*\"water\" + 0.007*\"relief\" + 0.007*\"flood\" + 0.006*\"ask\" + 0.006*\"govt\" + 0.006*\"report\" + 0.006*\"seek\" + 0.005*\"congress\" + 0.005*\"fund\"\n",
      "\n",
      "\n",
      "Topic: 5 \n",
      "Words: 0.017*\"govt\" + 0.010*\"india\" + 0.007*\"offici\" + 0.007*\"strike\" + 0.007*\"arrest\" + 0.006*\"polic\" + 0.006*\"leav\" + 0.006*\"make\" + 0.005*\"unit\" + 0.005*\"attack\"\n",
      "\n",
      "\n",
      "Topic: 6 \n",
      "Words: 0.017*\"citi\" + 0.009*\"meet\" + 0.009*\"govt\" + 0.007*\"court\" + 0.005*\"oper\" + 0.005*\"tell\" + 0.005*\"ralli\" + 0.005*\"seek\" + 0.004*\"india\" + 0.004*\"face\"\n",
      "\n",
      "\n",
      "Topic: 7 \n",
      "Words: 0.012*\"time\" + 0.011*\"case\" + 0.009*\"minist\" + 0.008*\"chief\" + 0.007*\"plea\" + 0.007*\"talk\" + 0.006*\"india\" + 0.006*\"order\" + 0.006*\"meet\" + 0.005*\"rule\"\n",
      "\n",
      "\n"
     ]
    }
   ],
   "source": [
    "for idx, topic in lda_model.print_topics():\n",
    "    print(\"Topic: {} \\nWords: {}\".format(idx, topic))\n",
    "    print(\"\\n\")"
   ]
  },
  {
   "cell_type": "markdown",
   "metadata": {},
   "source": [
    "## Topic coherence"
   ]
  },
  {
   "cell_type": "code",
   "execution_count": 89,
   "metadata": {},
   "outputs": [
    {
     "name": "stdout",
     "output_type": "stream",
     "text": [
      "\n",
      "Coherence Score:  0.5102112554985643\n"
     ]
    }
   ],
   "source": [
    "from gensim.models import CoherenceModel\n",
    "\n",
    "coherence_model_lda = CoherenceModel(model=lda_model, texts=processed_docs, dictionary=dictionary, coherence='c_v')\n",
    "coherence_lda = coherence_model_lda.get_coherence()\n",
    "print('\\nCoherence Score: ', coherence_lda)"
   ]
  },
  {
   "cell_type": "markdown",
   "metadata": {},
   "source": [
    "#### lower the coherence better the result of topic modelling"
   ]
  },
  {
   "cell_type": "code",
   "execution_count": 90,
   "metadata": {},
   "outputs": [
    {
     "name": "stdout",
     "output_type": "stream",
     "text": [
      "\n",
      "Coherence Score:  -12.340827812533734\n"
     ]
    }
   ],
   "source": [
    "\n",
    "from gensim.models import CoherenceModel\n",
    "\n",
    "coherence_model_lda = CoherenceModel(model=lda_model, texts=processed_docs, dictionary=dictionary, coherence=\"u_mass\")\n",
    "coherence_lda = coherence_model_lda.get_coherence()\n",
    "print('\\nCoherence Score: ', coherence_lda)"
   ]
  },
  {
   "cell_type": "markdown",
   "metadata": {},
   "source": [
    "## find the optimal number of topics"
   ]
  },
  {
   "cell_type": "code",
   "execution_count": 72,
   "metadata": {},
   "outputs": [],
   "source": [
    "def compute_coherence_values(dictionary, corpus, texts, limit, start=2, step=3):\n",
    "\n",
    "    coherence_values = []\n",
    "    model_list = []\n",
    "    for num_topics in range(start, limit, step):\n",
    "        model=gensim.models.LdaMulticore(corpus=corpus, id2word=dictionary, num_topics=num_topics)\n",
    "        model_list.append(model)\n",
    "        coherencemodel = CoherenceModel(model=model, texts=texts, dictionary=dictionary, coherence='c_v')\n",
    "        coherence_values.append(coherencemodel.get_coherence())\n",
    "\n",
    "    return model_list, coherence_values"
   ]
  },
  {
   "cell_type": "code",
   "execution_count": 73,
   "metadata": {},
   "outputs": [],
   "source": [
    "model_list, coherence_values = compute_coherence_values(dictionary=dictionary,/\n",
    "                                                        corpus=bow_corpus, texts=processed_docs,/\n",
    "                                                        start=2, limit=40, step=6)"
   ]
  },
  {
   "cell_type": "code",
   "execution_count": 74,
   "metadata": {},
   "outputs": [
    {
     "data": {
      "image/png": "[encoded data removed]",
      "text/plain": [
       "<Figure size 432x288 with 1 Axes>"
      ]
     },
     "metadata": {
      "needs_background": "light"
     },
     "output_type": "display_data"
    }
   ],
   "source": [
    "import matplotlib.pyplot as plt\n",
    "limit=40; start=2; step=6;\n",
    "x = range(start, limit, step)\n",
    "plt.plot(x, coherence_values)\n",
    "plt.xlabel(\"Num Topics\")\n",
    "plt.ylabel(\"Coherence score\")\n",
    "plt.legend((\"coherence_values\"), loc='best')\n",
    "plt.show()"
   ]
  },
  {
   "cell_type": "markdown",
   "metadata": {},
   "source": [
    "## Running LDA using TF-IDF"
   ]
  },
  {
   "cell_type": "code",
   "execution_count": 75,
   "metadata": {},
   "outputs": [],
   "source": [
    "lda_model_tfidf = gensim.models.LdaMulticore(corpus_tfidf, \n",
    "                                             num_topics=8, \n",
    "                                             id2word = dictionary, \n",
    "                                             passes = 2, \n",
    "                                             workers=4)"
   ]
  },
  {
   "cell_type": "code",
   "execution_count": 76,
   "metadata": {},
   "outputs": [
    {
     "name": "stdout",
     "output_type": "stream",
     "text": [
      "Topic: 0 Word: 0.004*\"world\" + 0.003*\"stay\" + 0.003*\"india\" + 0.003*\"time\" + 0.003*\"govt\" + 0.003*\"meet\" + 0.003*\"secur\" + 0.003*\"women\" + 0.002*\"sacr\" + 0.002*\"go\"\n",
      "\n",
      "\n",
      "Topic: 1 Word: 0.004*\"india\" + 0.004*\"govt\" + 0.004*\"polic\" + 0.004*\"case\" + 0.004*\"call\" + 0.003*\"help\" + 0.003*\"fund\" + 0.003*\"leader\" + 0.003*\"student\" + 0.003*\"colleg\"\n",
      "\n",
      "\n",
      "Topic: 2 Word: 0.006*\"back\" + 0.004*\"govt\" + 0.003*\"question\" + 0.003*\"centr\" + 0.003*\"india\" + 0.003*\"kill\" + 0.003*\"lade\" + 0.003*\"resign\" + 0.002*\"book\" + 0.002*\"rule\"\n",
      "\n",
      "\n",
      "Topic: 3 Word: 0.004*\"road\" + 0.003*\"kashmir\" + 0.003*\"kill\" + 0.003*\"need\" + 0.003*\"good\" + 0.003*\"make\" + 0.002*\"india\" + 0.002*\"today\" + 0.002*\"indian\" + 0.002*\"chief\"\n",
      "\n",
      "\n",
      "Topic: 4 Word: 0.004*\"take\" + 0.004*\"govt\" + 0.004*\"india\" + 0.004*\"meet\" + 0.004*\"fire\" + 0.004*\"state\" + 0.003*\"right\" + 0.003*\"hike\" + 0.003*\"power\" + 0.003*\"miss\"\n",
      "\n",
      "\n",
      "Topic: 5 Word: 0.005*\"drought\" + 0.004*\"minist\" + 0.004*\"govt\" + 0.004*\"terror\" + 0.003*\"power\" + 0.003*\"poll\" + 0.003*\"love\" + 0.003*\"move\" + 0.003*\"demand\" + 0.003*\"situat\"\n",
      "\n",
      "\n",
      "Topic: 6 Word: 0.007*\"hold\" + 0.006*\"kill\" + 0.005*\"polic\" + 0.003*\"offic\" + 0.003*\"strike\" + 0.003*\"citi\" + 0.003*\"get\" + 0.003*\"govt\" + 0.003*\"murder\" + 0.003*\"state\"\n",
      "\n",
      "\n",
      "Topic: 7 Word: 0.004*\"continu\" + 0.003*\"govt\" + 0.003*\"sept\" + 0.003*\"make\" + 0.003*\"girl\" + 0.003*\"catch\" + 0.003*\"polici\" + 0.002*\"india\" + 0.002*\"terrorist\" + 0.002*\"hear\"\n",
      "\n",
      "\n"
     ]
    }
   ],
   "source": [
    "\n",
    "for idx, topic in lda_model_tfidf.print_topics(-1):\n",
    "    print(\"Topic: {} Word: {}\".format(idx, topic))\n",
    "    print(\"\\n\")"
   ]
  },
  {
   "cell_type": "code",
   "execution_count": 77,
   "metadata": {},
   "outputs": [
    {
     "name": "stdout",
     "output_type": "stream",
     "text": [
      "\n",
      "Coherence Score:  0.5594164659089098\n"
     ]
    }
   ],
   "source": [
    "from gensim.models import CoherenceModel\n",
    "\n",
    "coherence_model_lda_idf = CoherenceModel(model=lda_model_tfidf, texts=processed_docs, dictionary=dictionary, coherence='c_v')\n",
    "coherence_model_lda_idf = coherence_model_lda_idf.get_coherence()\n",
    "print('\\nCoherence Score: ', coherence_model_lda_idf)"
   ]
  },
  {
   "cell_type": "markdown",
   "metadata": {},
   "source": [
    "## classifying sample document using LDA Bag of Words model"
   ]
  },
  {
   "cell_type": "code",
   "execution_count": 78,
   "metadata": {},
   "outputs": [
    {
     "data": {
      "text/plain": [
       "['ceasefir', 'extens', 'talk', 'padmanabhaiah']"
      ]
     },
     "execution_count": 78,
     "metadata": {},
     "output_type": "execute_result"
    }
   ],
   "source": [
    "\n",
    "\n",
    "processed_docs[document_num]"
   ]
  },
  {
   "cell_type": "code",
   "execution_count": 79,
   "metadata": {},
   "outputs": [
    {
     "name": "stdout",
     "output_type": "stream",
     "text": [
      "\n",
      "Score: 0.541571319103241\t Topic: 0.016*\"govt\" + 0.010*\"board\" + 0.009*\"stay\" + 0.008*\"delhi\" + 0.008*\"mumbai\"\n",
      "\n",
      "Score: 0.29809123277664185\t Topic: 0.013*\"citi\" + 0.011*\"meet\" + 0.010*\"order\" + 0.009*\"take\" + 0.007*\"speak\"\n",
      "\n",
      "Score: 0.020057765766978264\t Topic: 0.015*\"time\" + 0.012*\"govt\" + 0.011*\"student\" + 0.011*\"teacher\" + 0.011*\"case\"\n",
      "\n",
      "Score: 0.020048171281814575\t Topic: 0.011*\"offici\" + 0.010*\"look\" + 0.009*\"keep\" + 0.008*\"action\" + 0.008*\"like\"\n",
      "\n",
      "Score: 0.020044030621647835\t Topic: 0.029*\"india\" + 0.009*\"world\" + 0.007*\"free\" + 0.007*\"scam\" + 0.007*\"tourism\"\n",
      "\n",
      "Score: 0.020042436197400093\t Topic: 0.016*\"kill\" + 0.014*\"arrest\" + 0.013*\"polic\" + 0.010*\"milit\" + 0.010*\"govt\"\n",
      "\n",
      "Score: 0.02003842033445835\t Topic: 0.017*\"indian\" + 0.009*\"fall\" + 0.009*\"make\" + 0.009*\"anti\" + 0.009*\"state\"\n",
      "\n",
      "Score: 0.02003667689859867\t Topic: 0.013*\"life\" + 0.008*\"want\" + 0.008*\"file\" + 0.007*\"villag\" + 0.007*\"fight\"\n",
      "\n",
      "Score: 0.020036563277244568\t Topic: 0.012*\"death\" + 0.007*\"servic\" + 0.007*\"come\" + 0.006*\"govt\" + 0.006*\"continu\"\n",
      "\n",
      "Score: 0.02003340795636177\t Topic: 0.015*\"cong\" + 0.013*\"award\" + 0.010*\"citi\" + 0.010*\"govt\" + 0.008*\"play\"\n"
     ]
    }
   ],
   "source": [
    "for index, score in sorted(lda_model[bow_corpus[document_num]], key=lambda tup: tup[1], reverse=True):\n",
    "    print(\"\\nScore: {}\\t Topic: {}\".format(score, lda_model.print_topic(index, 5)))"
   ]
  },
  {
   "cell_type": "code",
   "execution_count": 80,
   "metadata": {},
   "outputs": [
    {
     "data": {
      "text/plain": [
       "[(0, 0.02004869),\n",
       " (1, 0.020046176),\n",
       " (2, 0.31128255),\n",
       " (3, 0.36267686),\n",
       " (4, 0.020045634),\n",
       " (5, 0.020047462),\n",
       " (6, 0.020049449),\n",
       " (7, 0.0200501),\n",
       " (8, 0.18570548),\n",
       " (9, 0.020047596)]"
      ]
     },
     "execution_count": 80,
     "metadata": {},
     "output_type": "execute_result"
    }
   ],
   "source": [
    "\n",
    "lda_model[bow_corpus[document_num]]"
   ]
  },
  {
   "cell_type": "code",
   "execution_count": 81,
   "metadata": {},
   "outputs": [
    {
     "data": {
      "text/plain": [
       "[(2, 0.5411006),\n",
       " (3, 0.29856166),\n",
       " (8, 0.02005783),\n",
       " (7, 0.020048218),\n",
       " (0, 0.020044072),\n",
       " (6, 0.020042468),\n",
       " (5, 0.02003845),\n",
       " (1, 0.020036705),\n",
       " (9, 0.020036584),\n",
       " (4, 0.020033428)]"
      ]
     },
     "execution_count": 81,
     "metadata": {},
     "output_type": "execute_result"
    }
   ],
   "source": [
    "\n",
    "sorted(lda_model[bow_corpus[document_num]], key=lambda tup: tup[1], reverse=True)"
   ]
  },
  {
   "cell_type": "code",
   "execution_count": 82,
   "metadata": {},
   "outputs": [
    {
     "data": {
      "text/plain": [
       "'0.015*\"cong\" + 0.013*\"award\" + 0.010*\"citi\" + 0.010*\"govt\" + 0.008*\"play\" + 0.008*\"congress\" + 0.008*\"attack\" + 0.008*\"secur\"'"
      ]
     },
     "execution_count": 82,
     "metadata": {},
     "output_type": "execute_result"
    }
   ],
   "source": [
    "\n",
    "lda_model.print_topic(index, 8)"
   ]
  },
  {
   "cell_type": "markdown",
   "metadata": {},
   "source": [
    "## classifying sample document using LDA TF-IDF model"
   ]
  },
  {
   "cell_type": "code",
   "execution_count": 83,
   "metadata": {},
   "outputs": [
    {
     "name": "stdout",
     "output_type": "stream",
     "text": [
      "\n",
      "Score: 0.5615081191062927\t Topic: 0.005*\"drought\" + 0.004*\"minist\" + 0.004*\"govt\" + 0.004*\"terror\" + 0.003*\"power\"\n",
      "\n",
      "Score: 0.2881168723106384\t Topic: 0.004*\"take\" + 0.004*\"govt\" + 0.004*\"india\" + 0.004*\"meet\" + 0.004*\"fire\"\n",
      "\n",
      "Score: 0.02508978173136711\t Topic: 0.004*\"india\" + 0.004*\"govt\" + 0.004*\"polic\" + 0.004*\"case\" + 0.004*\"call\"\n",
      "\n",
      "Score: 0.02508961781859398\t Topic: 0.006*\"back\" + 0.004*\"govt\" + 0.003*\"question\" + 0.003*\"centr\" + 0.003*\"india\"\n",
      "\n",
      "Score: 0.02506328746676445\t Topic: 0.004*\"road\" + 0.003*\"kashmir\" + 0.003*\"kill\" + 0.003*\"need\" + 0.003*\"good\"\n",
      "\n",
      "Score: 0.025055360049009323\t Topic: 0.004*\"continu\" + 0.003*\"govt\" + 0.003*\"sept\" + 0.003*\"make\" + 0.003*\"girl\"\n",
      "\n",
      "Score: 0.02503972128033638\t Topic: 0.004*\"world\" + 0.003*\"stay\" + 0.003*\"india\" + 0.003*\"time\" + 0.003*\"govt\"\n",
      "\n",
      "Score: 0.025037208572030067\t Topic: 0.007*\"hold\" + 0.006*\"kill\" + 0.005*\"polic\" + 0.003*\"offic\" + 0.003*\"strike\"\n"
     ]
    }
   ],
   "source": [
    "for index, score in sorted(lda_model_tfidf[bow_corpus[document_num]], key=lambda tup: tup[1], reverse=True):\n",
    "    print(\"\\nScore: {}\\t Topic: {}\".format(score, lda_model_tfidf.print_topic(index, 5)))"
   ]
  },
  {
   "cell_type": "markdown",
   "metadata": {},
   "source": [
    "## Testing model on unseen document"
   ]
  },
  {
   "cell_type": "code",
   "execution_count": 86,
   "metadata": {},
   "outputs": [
    {
     "name": "stdout",
     "output_type": "stream",
     "text": [
      "Score: 0.5499895811080933\t Topic: 0.013*\"life\" + 0.008*\"want\" + 0.008*\"file\" + 0.007*\"villag\" + 0.007*\"fight\"\n",
      "Score: 0.05000144615769386\t Topic: 0.012*\"death\" + 0.007*\"servic\" + 0.007*\"come\" + 0.006*\"govt\" + 0.006*\"continu\"\n",
      "Score: 0.05000125244259834\t Topic: 0.015*\"cong\" + 0.013*\"award\" + 0.010*\"citi\" + 0.010*\"govt\" + 0.008*\"play\"\n",
      "Score: 0.05000114068388939\t Topic: 0.011*\"offici\" + 0.010*\"look\" + 0.009*\"keep\" + 0.008*\"action\" + 0.008*\"like\"\n",
      "Score: 0.0500011146068573\t Topic: 0.016*\"govt\" + 0.010*\"board\" + 0.009*\"stay\" + 0.008*\"delhi\" + 0.008*\"mumbai\"\n",
      "Score: 0.0500011146068573\t Topic: 0.016*\"kill\" + 0.014*\"arrest\" + 0.013*\"polic\" + 0.010*\"milit\" + 0.010*\"govt\"\n",
      "Score: 0.050001103430986404\t Topic: 0.013*\"citi\" + 0.011*\"meet\" + 0.010*\"order\" + 0.009*\"take\" + 0.007*\"speak\"\n",
      "Score: 0.05000109598040581\t Topic: 0.029*\"india\" + 0.009*\"world\" + 0.007*\"free\" + 0.007*\"scam\" + 0.007*\"tourism\"\n",
      "Score: 0.05000109598040581\t Topic: 0.017*\"indian\" + 0.009*\"fall\" + 0.009*\"make\" + 0.009*\"anti\" + 0.009*\"state\"\n",
      "Score: 0.05000109598040581\t Topic: 0.015*\"time\" + 0.012*\"govt\" + 0.011*\"student\" + 0.011*\"teacher\" + 0.011*\"case\"\n"
     ]
    }
   ],
   "source": [
    "unseen_document = \"my name is prajwal.\"\n",
    "\n",
    "bow_vector = dictionary.doc2bow(preprocess(unseen_document))\n",
    "\n",
    "for index, score in sorted(lda_model[bow_vector], key=lambda tup: tup[1], reverse=True):\n",
    "    print(\"Score: {}\\t Topic: {}\".format(score, lda_model.print_topic(index, 5)))"
   ]
  },
  {
   "cell_type": "markdown",
   "metadata": {},
   "source": [
    "## WE need to train on large data for more better accuracy due to System constraints it's done only one 15% of total size of data"
   ]
  },
  {
   "cell_type": "code",
   "execution_count": null,
   "metadata": {},
   "outputs": [],
   "source": []
  },
  {
   "cell_type": "code",
   "execution_count": null,
   "metadata": {},
   "outputs": [],
   "source": []
  }
 ],
 "metadata": {
  "kernelspec": {
   "display_name": "Python 3",
   "language": "python",
   "name": "python3"
  },
  "language_info": {
   "codemirror_mode": {
    "name": "ipython",
    "version": 3
   },
   "file_extension": ".py",
   "mimetype": "text/x-python",
   "name": "python",
   "nbconvert_exporter": "python",
   "pygments_lexer": "ipython3",
   "version": "3.7.6"
  }
 },
 "nbformat": 4,
 "nbformat_minor": 2
}
