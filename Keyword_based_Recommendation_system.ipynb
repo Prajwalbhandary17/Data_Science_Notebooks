{
 "cells": [
  {
   "cell_type": "code",
   "execution_count": 1,
   "metadata": {},
   "outputs": [],
   "source": [
    "# Import libraries\n",
    "import pandas as pd\n",
    "import numpy as np"
   ]
  },
  {
   "cell_type": "code",
   "execution_count": 2,
   "metadata": {},
   "outputs": [
    {
     "name": "stderr",
     "output_type": "stream",
     "text": [
      "C:\\Users\\Administrator\\.conda\\envs\\tf3.7\\lib\\site-packages\\IPython\\core\\interactiveshell.py:3051: DtypeWarning: Columns (5) have mixed types. Specify dtype option on import or set low_memory=False.\n",
      "  interactivity=interactivity, compiler=compiler, result=result)\n"
     ]
    }
   ],
   "source": [
    "# Import 2 tables from IMDb datasets that we need\n",
    "title_basics = pd.read_csv('title.basics.tsv.gz', sep='\\t', header=0)\n",
    "title_ratings = pd.read_csv('title.ratings.tsv.gz', sep='\\t', header=0)"
   ]
  },
  {
   "cell_type": "code",
   "execution_count": 3,
   "metadata": {},
   "outputs": [
    {
     "data": {
      "text/html": [
       "<div>\n",
       "<style scoped>\n",
       "    .dataframe tbody tr th:only-of-type {\n",
       "        vertical-align: middle;\n",
       "    }\n",
       "\n",
       "    .dataframe tbody tr th {\n",
       "        vertical-align: top;\n",
       "    }\n",
       "\n",
       "    .dataframe thead th {\n",
       "        text-align: right;\n",
       "    }\n",
       "</style>\n",
       "<table border=\"1\" class=\"dataframe\">\n",
       "  <thead>\n",
       "    <tr style=\"text-align: right;\">\n",
       "      <th></th>\n",
       "      <th>tconst</th>\n",
       "      <th>titleType</th>\n",
       "      <th>primaryTitle</th>\n",
       "      <th>originalTitle</th>\n",
       "      <th>isAdult</th>\n",
       "      <th>startYear</th>\n",
       "      <th>endYear</th>\n",
       "      <th>runtimeMinutes</th>\n",
       "      <th>genres</th>\n",
       "    </tr>\n",
       "  </thead>\n",
       "  <tbody>\n",
       "    <tr>\n",
       "      <th>0</th>\n",
       "      <td>tt0000001</td>\n",
       "      <td>short</td>\n",
       "      <td>Carmencita</td>\n",
       "      <td>Carmencita</td>\n",
       "      <td>0</td>\n",
       "      <td>1894</td>\n",
       "      <td>\\N</td>\n",
       "      <td>1</td>\n",
       "      <td>Documentary,Short</td>\n",
       "    </tr>\n",
       "    <tr>\n",
       "      <th>1</th>\n",
       "      <td>tt0000002</td>\n",
       "      <td>short</td>\n",
       "      <td>Le clown et ses chiens</td>\n",
       "      <td>Le clown et ses chiens</td>\n",
       "      <td>0</td>\n",
       "      <td>1892</td>\n",
       "      <td>\\N</td>\n",
       "      <td>5</td>\n",
       "      <td>Animation,Short</td>\n",
       "    </tr>\n",
       "    <tr>\n",
       "      <th>2</th>\n",
       "      <td>tt0000003</td>\n",
       "      <td>short</td>\n",
       "      <td>Pauvre Pierrot</td>\n",
       "      <td>Pauvre Pierrot</td>\n",
       "      <td>0</td>\n",
       "      <td>1892</td>\n",
       "      <td>\\N</td>\n",
       "      <td>4</td>\n",
       "      <td>Animation,Comedy,Romance</td>\n",
       "    </tr>\n",
       "  </tbody>\n",
       "</table>\n",
       "</div>"
      ],
      "text/plain": [
       "      tconst titleType            primaryTitle           originalTitle  \\\n",
       "0  tt0000001     short              Carmencita              Carmencita   \n",
       "1  tt0000002     short  Le clown et ses chiens  Le clown et ses chiens   \n",
       "2  tt0000003     short          Pauvre Pierrot          Pauvre Pierrot   \n",
       "\n",
       "   isAdult startYear endYear runtimeMinutes                    genres  \n",
       "0        0      1894      \\N              1         Documentary,Short  \n",
       "1        0      1892      \\N              5           Animation,Short  \n",
       "2        0      1892      \\N              4  Animation,Comedy,Romance  "
      ]
     },
     "execution_count": 3,
     "metadata": {},
     "output_type": "execute_result"
    }
   ],
   "source": [
    "title_basics.head(3)"
   ]
  },
  {
   "cell_type": "code",
   "execution_count": 4,
   "metadata": {},
   "outputs": [
    {
     "data": {
      "text/html": [
       "<div>\n",
       "<style scoped>\n",
       "    .dataframe tbody tr th:only-of-type {\n",
       "        vertical-align: middle;\n",
       "    }\n",
       "\n",
       "    .dataframe tbody tr th {\n",
       "        vertical-align: top;\n",
       "    }\n",
       "\n",
       "    .dataframe thead th {\n",
       "        text-align: right;\n",
       "    }\n",
       "</style>\n",
       "<table border=\"1\" class=\"dataframe\">\n",
       "  <thead>\n",
       "    <tr style=\"text-align: right;\">\n",
       "      <th></th>\n",
       "      <th>tconst</th>\n",
       "      <th>averageRating</th>\n",
       "      <th>numVotes</th>\n",
       "    </tr>\n",
       "  </thead>\n",
       "  <tbody>\n",
       "    <tr>\n",
       "      <th>0</th>\n",
       "      <td>tt0000001</td>\n",
       "      <td>5.6</td>\n",
       "      <td>1648</td>\n",
       "    </tr>\n",
       "    <tr>\n",
       "      <th>1</th>\n",
       "      <td>tt0000002</td>\n",
       "      <td>6.1</td>\n",
       "      <td>198</td>\n",
       "    </tr>\n",
       "    <tr>\n",
       "      <th>2</th>\n",
       "      <td>tt0000003</td>\n",
       "      <td>6.5</td>\n",
       "      <td>1346</td>\n",
       "    </tr>\n",
       "  </tbody>\n",
       "</table>\n",
       "</div>"
      ],
      "text/plain": [
       "      tconst  averageRating  numVotes\n",
       "0  tt0000001            5.6      1648\n",
       "1  tt0000002            6.1       198\n",
       "2  tt0000003            6.5      1346"
      ]
     },
     "execution_count": 4,
     "metadata": {},
     "output_type": "execute_result"
    }
   ],
   "source": [
    "title_ratings.head(3)"
   ]
  },
  {
   "cell_type": "code",
   "execution_count": 5,
   "metadata": {},
   "outputs": [],
   "source": [
    "# Select only movies from the title_basics table\n",
    "movies = title_basics[(title_basics.titleType == 'movie')].copy()"
   ]
  },
  {
   "cell_type": "code",
   "execution_count": 6,
   "metadata": {},
   "outputs": [],
   "source": [
    "\n",
    "# Set the indicies for our 2 tables to the IMDb key for movies\n",
    "movies.set_index('tconst', inplace=True)\n",
    "title_ratings.set_index('tconst', inplace=True)\n",
    "# Joint the 2 tables by tconst, the IMDb key for all movies\n",
    "movies_with_rating = movies.join(title_ratings, how='inner')"
   ]
  },
  {
   "cell_type": "code",
   "execution_count": 7,
   "metadata": {},
   "outputs": [],
   "source": [
    "# Take only the top 10,000 movies, where we rank movies by the number of votes they have received\n",
    "top_10000_movies = movies_with_rating.sort_values(by='numVotes', ascending=False)[:10000]\n",
    "movies_index = top_10000_movies.index"
   ]
  },
  {
   "cell_type": "code",
   "execution_count": 8,
   "metadata": {},
   "outputs": [
    {
     "data": {
      "text/plain": [
       "(10000, 10)"
      ]
     },
     "execution_count": 8,
     "metadata": {},
     "output_type": "execute_result"
    }
   ],
   "source": [
    "top_10000_movies.shape"
   ]
  },
  {
   "cell_type": "code",
   "execution_count": 9,
   "metadata": {},
   "outputs": [
    {
     "data": {
      "text/html": [
       "<div>\n",
       "<style scoped>\n",
       "    .dataframe tbody tr th:only-of-type {\n",
       "        vertical-align: middle;\n",
       "    }\n",
       "\n",
       "    .dataframe tbody tr th {\n",
       "        vertical-align: top;\n",
       "    }\n",
       "\n",
       "    .dataframe thead th {\n",
       "        text-align: right;\n",
       "    }\n",
       "</style>\n",
       "<table border=\"1\" class=\"dataframe\">\n",
       "  <thead>\n",
       "    <tr style=\"text-align: right;\">\n",
       "      <th></th>\n",
       "      <th>titleType</th>\n",
       "      <th>primaryTitle</th>\n",
       "      <th>originalTitle</th>\n",
       "      <th>isAdult</th>\n",
       "      <th>startYear</th>\n",
       "      <th>endYear</th>\n",
       "      <th>runtimeMinutes</th>\n",
       "      <th>genres</th>\n",
       "      <th>averageRating</th>\n",
       "      <th>numVotes</th>\n",
       "    </tr>\n",
       "    <tr>\n",
       "      <th>tconst</th>\n",
       "      <th></th>\n",
       "      <th></th>\n",
       "      <th></th>\n",
       "      <th></th>\n",
       "      <th></th>\n",
       "      <th></th>\n",
       "      <th></th>\n",
       "      <th></th>\n",
       "      <th></th>\n",
       "      <th></th>\n",
       "    </tr>\n",
       "  </thead>\n",
       "  <tbody>\n",
       "    <tr>\n",
       "      <th>tt0111161</th>\n",
       "      <td>movie</td>\n",
       "      <td>The Shawshank Redemption</td>\n",
       "      <td>The Shawshank Redemption</td>\n",
       "      <td>0</td>\n",
       "      <td>1994</td>\n",
       "      <td>\\N</td>\n",
       "      <td>142</td>\n",
       "      <td>Drama</td>\n",
       "      <td>9.3</td>\n",
       "      <td>2283767</td>\n",
       "    </tr>\n",
       "    <tr>\n",
       "      <th>tt0468569</th>\n",
       "      <td>movie</td>\n",
       "      <td>The Dark Knight</td>\n",
       "      <td>The Dark Knight</td>\n",
       "      <td>0</td>\n",
       "      <td>2008</td>\n",
       "      <td>\\N</td>\n",
       "      <td>152</td>\n",
       "      <td>Action,Crime,Drama</td>\n",
       "      <td>9.0</td>\n",
       "      <td>2247962</td>\n",
       "    </tr>\n",
       "    <tr>\n",
       "      <th>tt1375666</th>\n",
       "      <td>movie</td>\n",
       "      <td>Inception</td>\n",
       "      <td>Inception</td>\n",
       "      <td>0</td>\n",
       "      <td>2010</td>\n",
       "      <td>\\N</td>\n",
       "      <td>148</td>\n",
       "      <td>Action,Adventure,Sci-Fi</td>\n",
       "      <td>8.8</td>\n",
       "      <td>2009727</td>\n",
       "    </tr>\n",
       "  </tbody>\n",
       "</table>\n",
       "</div>"
      ],
      "text/plain": [
       "          titleType              primaryTitle             originalTitle  \\\n",
       "tconst                                                                    \n",
       "tt0111161     movie  The Shawshank Redemption  The Shawshank Redemption   \n",
       "tt0468569     movie           The Dark Knight           The Dark Knight   \n",
       "tt1375666     movie                 Inception                 Inception   \n",
       "\n",
       "           isAdult startYear endYear runtimeMinutes                   genres  \\\n",
       "tconst                                                                         \n",
       "tt0111161        0      1994      \\N            142                    Drama   \n",
       "tt0468569        0      2008      \\N            152       Action,Crime,Drama   \n",
       "tt1375666        0      2010      \\N            148  Action,Adventure,Sci-Fi   \n",
       "\n",
       "           averageRating  numVotes  \n",
       "tconst                              \n",
       "tt0111161            9.3   2283767  \n",
       "tt0468569            9.0   2247962  \n",
       "tt1375666            8.8   2009727  "
      ]
     },
     "execution_count": 9,
     "metadata": {},
     "output_type": "execute_result"
    }
   ],
   "source": [
    "top_10000_movies.head(3)"
   ]
  },
  {
   "cell_type": "code",
   "execution_count": 10,
   "metadata": {},
   "outputs": [],
   "source": [
    "#!pip install IMDbPY\n",
    "from tqdm import tqdm\n",
    "from time import sleep\n",
    "from imdb import IMDb\n",
    "\n",
    "ia = IMDb()"
   ]
  },
  {
   "cell_type": "code",
   "execution_count": 11,
   "metadata": {},
   "outputs": [
    {
     "name": "stderr",
     "output_type": "stream",
     "text": [
      " 31%|███▏      | 3130/10000 [1:36:42<3:23:29,  1.78s/it]2020-09-19 11:08:40,804 CRITICAL [imdbpy] C:\\Users\\Administrator\\.conda\\envs\\tf3.7\\lib\\site-packages\\imdb\\_exceptions.py:34: IMDbDataAccessError exception raised; args: ({'errcode': None, 'errmsg': 'None', 'url': 'https://www.imdb.com/title/tt0082158/keywords', 'proxy': '', 'exception type': 'IOError', 'original exception': URLError(TimeoutError(10060, 'A connection attempt failed because the connected party did not properly respond after a period of time, or established connection failed because connected host has failed to respond', None, 10060, None))},); kwds: {}\n",
      "Traceback (most recent call last):\n",
      "  File \"C:\\Users\\Administrator\\.conda\\envs\\tf3.7\\lib\\urllib\\request.py\", line 1319, in do_open\n",
      "    encode_chunked=req.has_header('Transfer-encoding'))\n",
      "  File \"C:\\Users\\Administrator\\.conda\\envs\\tf3.7\\lib\\http\\client.py\", line 1252, in request\n",
      "    self._send_request(method, url, body, headers, encode_chunked)\n",
      "  File \"C:\\Users\\Administrator\\.conda\\envs\\tf3.7\\lib\\http\\client.py\", line 1298, in _send_request\n",
      "    self.endheaders(body, encode_chunked=encode_chunked)\n",
      "  File \"C:\\Users\\Administrator\\.conda\\envs\\tf3.7\\lib\\http\\client.py\", line 1247, in endheaders\n",
      "    self._send_output(message_body, encode_chunked=encode_chunked)\n",
      "  File \"C:\\Users\\Administrator\\.conda\\envs\\tf3.7\\lib\\http\\client.py\", line 1026, in _send_output\n",
      "    self.send(msg)\n",
      "  File \"C:\\Users\\Administrator\\.conda\\envs\\tf3.7\\lib\\http\\client.py\", line 966, in send\n",
      "    self.connect()\n",
      "  File \"C:\\Users\\Administrator\\.conda\\envs\\tf3.7\\lib\\http\\client.py\", line 1414, in connect\n",
      "    super().connect()\n",
      "  File \"C:\\Users\\Administrator\\.conda\\envs\\tf3.7\\lib\\http\\client.py\", line 938, in connect\n",
      "    (self.host,self.port), self.timeout, self.source_address)\n",
      "  File \"C:\\Users\\Administrator\\.conda\\envs\\tf3.7\\lib\\socket.py\", line 728, in create_connection\n",
      "    raise err\n",
      "  File \"C:\\Users\\Administrator\\.conda\\envs\\tf3.7\\lib\\socket.py\", line 716, in create_connection\n",
      "    sock.connect(sa)\n",
      "TimeoutError: [WinError 10060] A connection attempt failed because the connected party did not properly respond after a period of time, or established connection failed because connected host has failed to respond\n",
      "\n",
      "During handling of the above exception, another exception occurred:\n",
      "\n",
      "Traceback (most recent call last):\n",
      "  File \"C:\\Users\\Administrator\\.conda\\envs\\tf3.7\\lib\\site-packages\\imdb\\parser\\http\\__init__.py\", line 219, in retrieve_unicode\n",
      "    response = uopener.open(url)\n",
      "  File \"C:\\Users\\Administrator\\.conda\\envs\\tf3.7\\lib\\urllib\\request.py\", line 525, in open\n",
      "    response = self._open(req, data)\n",
      "  File \"C:\\Users\\Administrator\\.conda\\envs\\tf3.7\\lib\\urllib\\request.py\", line 543, in _open\n",
      "    '_open', req)\n",
      "  File \"C:\\Users\\Administrator\\.conda\\envs\\tf3.7\\lib\\urllib\\request.py\", line 503, in _call_chain\n",
      "    result = func(*args)\n",
      "  File \"C:\\Users\\Administrator\\.conda\\envs\\tf3.7\\lib\\urllib\\request.py\", line 1362, in https_open\n",
      "    context=self._context, check_hostname=self._check_hostname)\n",
      "  File \"C:\\Users\\Administrator\\.conda\\envs\\tf3.7\\lib\\urllib\\request.py\", line 1321, in do_open\n",
      "    raise URLError(err)\n",
      "urllib.error.URLError: <urlopen error [WinError 10060] A connection attempt failed because the connected party did not properly respond after a period of time, or established connection failed because connected host has failed to respond>\n",
      "100%|██████████| 10000/10000 [5:32:25<00:00,  1.99s/it]  \n"
     ]
    }
   ],
   "source": [
    "keywords_dict = {}\n",
    "for movie_index in tqdm(movies_index):\n",
    "    #sleep(1)\n",
    "    try:\n",
    "        keywords_dict[movie_index] = ia.get_movie_keywords(movie_index[2:])['data']['keywords']\n",
    "    except:\n",
    "        keywords_dict[movie_index] = ''   \n",
    "        \n",
    "keywords = pd.DataFrame(dict([ (k,pd.Series(v)) for k,v in keywords_dict.items() ])).transpose()\n",
    "keywords = keywords.apply(lambda x: ','.join(x.dropna()), axis=1)\n",
    "keywords = pd.DataFrame(keywords)\n",
    "keywords.rename(columns={0:'keywords'}, inplace=True)"
   ]
  },
  {
   "cell_type": "code",
   "execution_count": 14,
   "metadata": {},
   "outputs": [],
   "source": [
    "# Save the plots to a CSV\n",
    "keywords.to_csv(path_or_buf='keywords.csv')"
   ]
  },
  {
   "cell_type": "code",
   "execution_count": 15,
   "metadata": {},
   "outputs": [],
   "source": [
    "\n",
    "# Load our keywords for the CSV\n",
    "keywords = pd.read_csv('keywords.csv')\n",
    "keywords.rename(columns={'Unnamed: 0':'tconst'}, inplace=True)\n",
    "keywords.set_index('tconst', inplace=True)"
   ]
  },
  {
   "cell_type": "code",
   "execution_count": 16,
   "metadata": {},
   "outputs": [],
   "source": [
    " #Join to our table\n",
    "movies = top_10000_movies.join(keywords, how='inner')"
   ]
  },
  {
   "cell_type": "code",
   "execution_count": 17,
   "metadata": {},
   "outputs": [],
   "source": [
    "\n",
    "# Save our dataframe to a CSV if you don't want to re-run the loop\n",
    "movies.to_csv(path_or_buf='movies_keywords.csv')"
   ]
  },
  {
   "cell_type": "code",
   "execution_count": null,
   "metadata": {},
   "outputs": [],
   "source": []
  },
  {
   "cell_type": "code",
   "execution_count": 18,
   "metadata": {},
   "outputs": [],
   "source": [
    "movies = movies[movies.keywords.notnull()]"
   ]
  },
  {
   "cell_type": "code",
   "execution_count": 19,
   "metadata": {},
   "outputs": [],
   "source": [
    "\n",
    "import matplotlib.pyplot as plt\n",
    "import seaborn as sns\n",
    "sns.set()"
   ]
  },
  {
   "cell_type": "code",
   "execution_count": 20,
   "metadata": {},
   "outputs": [
    {
     "data": {
      "image/png": "[encoded data removed]",
      "text/plain": [
       "<Figure size 432x288 with 1 Axes>"
      ]
     },
     "metadata": {},
     "output_type": "display_data"
    }
   ],
   "source": [
    "number_of_keyword_chars = []\n",
    "for keywords in movies['keywords']:#[:10000]:\n",
    "    n_chars = len(keywords)\n",
    "    number_of_keyword_chars.append(n_chars)\n",
    "\n",
    "\n",
    "plt.hist(number_of_keyword_chars)\n",
    "plt.xlabel('number of characters in keywords column')\n",
    "plt.ylabel('number of movies')\n",
    "plt.show()"
   ]
  },
  {
   "cell_type": "code",
   "execution_count": 21,
   "metadata": {},
   "outputs": [
    {
     "name": "stdout",
     "output_type": "stream",
     "text": [
      "keywords: 1796.741\n"
     ]
    }
   ],
   "source": [
    "print(\"keywords: %.3f\" %(np.mean(movies['keywords'].str.len())) )"
   ]
  },
  {
   "cell_type": "code",
   "execution_count": 22,
   "metadata": {},
   "outputs": [
    {
     "data": {
      "image/png": "[encoded data removed]",
      "text/plain": [
       "<Figure size 432x288 with 1 Axes>"
      ]
     },
     "metadata": {},
     "output_type": "display_data"
    }
   ],
   "source": [
    "\n",
    "number_of_keywords = []\n",
    "for keywords in movies['keywords']:\n",
    "    n_keywords = len(keywords.split(','))\n",
    "    number_of_keywords.append(n_keywords)\n",
    "\n",
    "plt.hist(number_of_keywords)\n",
    "plt.xlabel('number of words in keywords column')\n",
    "plt.ylabel('number of movies')\n",
    "plt.show()"
   ]
  },
  {
   "cell_type": "code",
   "execution_count": 23,
   "metadata": {},
   "outputs": [
    {
     "data": {
      "image/png": "[encoded data removed]",
      "text/plain": [
       "<Figure size 432x288 with 1 Axes>"
      ]
     },
     "metadata": {},
     "output_type": "display_data"
    }
   ],
   "source": [
    "keyword_lengths = []\n",
    "for keywords in movies['keywords']:\n",
    "    keywords = keywords.split(',')\n",
    "    for keyword in keywords:\n",
    "        keyword_lengths.append(len(keyword))\n",
    "        \n",
    "plt.hist(keyword_lengths)\n",
    "plt.xlabel('length of words in keywords by number of characters')\n",
    "plt.ylabel('number of words')\n",
    "plt.show()"
   ]
  },
  {
   "cell_type": "code",
   "execution_count": null,
   "metadata": {},
   "outputs": [],
   "source": [
    "## Modelling"
   ]
  },
  {
   "cell_type": "code",
   "execution_count": 24,
   "metadata": {},
   "outputs": [],
   "source": [
    "movies.reset_index(inplace=True)\n",
    "movies = movies[['primaryTitle', 'keywords']]"
   ]
  },
  {
   "cell_type": "code",
   "execution_count": 25,
   "metadata": {},
   "outputs": [],
   "source": [
    "\n",
    "# Processing Keywords\n",
    "keywords = movies['keywords'].tolist()\n",
    "\n",
    "from nltk.tokenize import word_tokenize\n",
    "keywords = [word_tokenize(keyword.lower()) for keyword in keywords]\n",
    "\n",
    "def no_commas(doc):\n",
    "    no_commas = [t for t in doc if t!=',']\n",
    "    return(no_commas)\n",
    "\n",
    "keywords = [no_commas(kw) for kw in keywords]\n",
    "processed_keywords = keywords"
   ]
  },
  {
   "cell_type": "code",
   "execution_count": 44,
   "metadata": {},
   "outputs": [
    {
     "data": {
      "text/plain": [
       "9989"
      ]
     },
     "execution_count": 44,
     "metadata": {},
     "output_type": "execute_result"
    }
   ],
   "source": [
    "len(processed_keywords)"
   ]
  },
  {
   "cell_type": "markdown",
   "metadata": {},
   "source": [
    "## 1st Mode: tf-idf with cosine similarity"
   ]
  },
  {
   "cell_type": "code",
   "execution_count": 38,
   "metadata": {},
   "outputs": [],
   "source": [
    "\n",
    "from gensim.corpora.dictionary import Dictionary\n",
    "dictionary = Dictionary(processed_keywords) # create a dictionary of words from our keywords\n",
    "\n",
    "corpus = [dictionary.doc2bow(doc) for doc in processed_keywords] \n",
    "#create corpus where the corpus is a bag of words for each document\n",
    "\n",
    "from gensim.models.tfidfmodel import TfidfModel\n",
    "tfidf = TfidfModel(corpus) #create tfidf model of the corpus\n",
    "\n",
    "from gensim.similarities import MatrixSimilarity\n",
    "# Create the similarity data structure. This is the most important part where we get the similarities between the movies.\n",
    "sims = MatrixSimilarity(tfidf[corpus], num_features=len(dictionary))"
   ]
  },
  {
   "cell_type": "code",
   "execution_count": null,
   "metadata": {},
   "outputs": [],
   "source": []
  },
  {
   "cell_type": "code",
   "execution_count": 39,
   "metadata": {},
   "outputs": [],
   "source": [
    "def movie_recommendation(movie_title, number_of_hits=5):\n",
    "    movie = movies.loc[movies.primaryTitle==movie_title] # get the movie row\n",
    "    keywords = movie['keywords'].iloc[0].split(',') #get the keywords as a Series (movie['keywords']),\n",
    "    # get just the keywords string ([0]), and then convert to a list of keywords (.split(',') )\n",
    "    query_doc = keywords #set the query_doc to the list of keywords\n",
    "    \n",
    "    query_doc_bow = dictionary.doc2bow(query_doc) # get a bag of words from the query_doc\n",
    "    query_doc_tfidf = tfidf[query_doc_bow] #convert the regular bag of words model to a tf-idf model where we have tuples\n",
    "    # of the movie ID and it's tf-idf value for the movie\n",
    "\n",
    "    similarity_array = sims[query_doc_tfidf] # get the array of similarity values between our movie and every other movie. \n",
    "    #So the length is the number of movies we have. To do this, we pass our list of tf-idf tuples to sims.\n",
    "\n",
    "    similarity_series = pd.Series(similarity_array.tolist(), index=movies.primaryTitle.values) #Convert to a Series\n",
    "    top_hits = similarity_series.sort_values(ascending=False)[1:number_of_hits+1] \n",
    "    #get the top matching results, i.e. most similar movies; start from index 1 because every movie is most similar to itself\n",
    "\n",
    "    #print the words with the highest tf-idf values for the provided movie:\n",
    "    sorted_tfidf_weights = sorted(tfidf[corpus[movie.index.values.tolist()[0]]], key=lambda w: w[1], reverse=True)\n",
    "    print('The top 5 words associated with this movie by tf-idf are: ')\n",
    "    for term_id, weight in sorted_tfidf_weights[:5]:\n",
    "        print(\" '%s' with a tf-idf score of %.3f\" %(dictionary.get(term_id), weight))\n",
    "    \n",
    "    # Print the top matching movies\n",
    "    print(\"Our top %s most similar movies for movie %s are:\" %(number_of_hits, movie_title))\n",
    "    for idx, (movie,score) in enumerate(zip(top_hits.index, top_hits)):\n",
    "        print(\"%d %s with a similarity score of %.3f\" %(idx+1, movie, score))"
   ]
  },
  {
   "cell_type": "code",
   "execution_count": 29,
   "metadata": {},
   "outputs": [
    {
     "name": "stdout",
     "output_type": "stream",
     "text": [
      "The top 5 words associated with this movie by tf-idf are: \n",
      " 'boom-shot' with a tf-idf score of 0.085\n",
      " 'fresh-fish' with a tf-idf score of 0.085\n",
      " 'gay-rape,1950s' with a tf-idf score of 0.085\n",
      " 'killed-by-prison-guard' with a tf-idf score of 0.085\n",
      " 'library-cart' with a tf-idf score of 0.085\n",
      "Our top 5 most similar movies for movie The Shawshank Redemption are:\n",
      "1 Stir Crazy with a similarity score of 0.073\n",
      "2 Life with a similarity score of 0.071\n",
      "3 Escape from Alcatraz with a similarity score of 0.069\n",
      "4 Lock Up with a similarity score of 0.063\n",
      "5 Birdman of Alcatraz with a similarity score of 0.061\n"
     ]
    }
   ],
   "source": [
    "\n",
    "movie_recommendation('The Shawshank Redemption', 5)"
   ]
  },
  {
   "cell_type": "code",
   "execution_count": 40,
   "metadata": {},
   "outputs": [],
   "source": [
    "def keywords_recommendation(keywords, number_of_hits):\n",
    "    query_doc_bow = dictionary.doc2bow(keywords) # get a bag of words from the query_doc\n",
    "    query_doc_tfidf = tfidf[query_doc_bow] #convert the regular bag of words model to a tf-idf model where we have tuples\n",
    "    # of the movie ID and it's tf-idf value for the movie\n",
    "\n",
    "    similarity_array = sims[query_doc_tfidf] # get the array of similarity values between our movie and every other movie. \n",
    "    #So the length is the number of movies we have. To do this, we pass our list of tf-idf tuples to sims.\n",
    "\n",
    "    similarity_series = pd.Series(similarity_array.tolist(), index=movies.primaryTitle.values) #Convert to a Series\n",
    "    top_hits = similarity_series.sort_values(ascending=False)[:number_of_hits] #get the top matching results, \n",
    "    # i.e. most similar movies\n",
    "\n",
    "    # Print the top matching movies\n",
    "    print(\"Our top %s most similar movies for the keywords %s are:\" %(number_of_hits, keywords))\n",
    "    for idx, (movie,score) in enumerate(zip(top_hits.index, top_hits)):\n",
    "        print(\"%d '%s' with a similarity score of %.3f\" %(idx+1, movie, score))"
   ]
  },
  {
   "cell_type": "code",
   "execution_count": 31,
   "metadata": {},
   "outputs": [
    {
     "name": "stdout",
     "output_type": "stream",
     "text": [
      "Our top 5 most similar movies for the keywords ['wrongful-imprisonment', 'escape-from-prison', 'based-on-the-works-of-stephen-king', 'prison', 'voice-over-narration', 'caged-bird', 'reference-to-fort-hancock-texas', 'aria'] are:\n",
      "1 'The Shawshank Redemption' with a similarity score of 0.148\n",
      "2 'Down by Law' with a similarity score of 0.127\n",
      "3 'I Am a Fugitive from a Chain Gang' with a similarity score of 0.097\n",
      "4 'Diva' with a similarity score of 0.095\n",
      "5 'Old Men in New Cars: In China They Eat Dogs II' with a similarity score of 0.090\n"
     ]
    }
   ],
   "source": [
    "keywords_recommendation(['wrongful-imprisonment','escape-from-prison','based-on-the-works-of-stephen-king',\n",
    "                         'prison', 'voice-over-narration', 'caged-bird','reference-to-fort-hancock-texas','aria'], 5)"
   ]
  },
  {
   "cell_type": "code",
   "execution_count": 32,
   "metadata": {},
   "outputs": [],
   "source": [
    "## 2nd Model: Word counts with cosine similarity"
   ]
  },
  {
   "cell_type": "code",
   "execution_count": 33,
   "metadata": {},
   "outputs": [
    {
     "name": "stderr",
     "output_type": "stream",
     "text": [
      "IOPub data rate exceeded.\n",
      "The notebook server will temporarily stop sending output\n",
      "to the client in order to avoid crashing it.\n",
      "To change this limit, set the config variable\n",
      "`--NotebookApp.iopub_data_rate_limit`.\n",
      "\n",
      "Current values:\n",
      "NotebookApp.iopub_data_rate_limit=1000000.0 (bytes/sec)\n",
      "NotebookApp.rate_limit_window=3.0 (secs)\n",
      "\n"
     ]
    }
   ],
   "source": [
    "\n",
    "from sklearn.feature_extraction.text import CountVectorizer\n",
    "def get_vectors(text):\n",
    "    vectorizer = CountVectorizer(text)\n",
    "    X = vectorizer.fit_transform(text).toarray()\n",
    "    return(X)\n",
    "vectors = get_vectors(movies.keywords.tolist())"
   ]
  },
  {
   "cell_type": "code",
   "execution_count": 41,
   "metadata": {},
   "outputs": [],
   "source": [
    "from sklearn.metrics.pairwise import cosine_similarity\n",
    "\n",
    "def cosine_recommender(movie_title, number_of_hits=5):\n",
    "    movie_index = movies[movies.primaryTitle == movie_title].index.values[0]\n",
    "\n",
    "    cosines = []\n",
    "    for i in range(len(vectors)):\n",
    "        vector_list = [vectors[movie_index], vectors[i]]\n",
    "        cosines.append(cosine_similarity(vector_list)[0,1])\n",
    "\n",
    "    cosines = pd.Series(cosines)\n",
    "    index = cosines.nlargest(number_of_hits+1).index\n",
    "\n",
    "    matches = movies.loc[index]\n",
    "    for match,score in zip(matches['primaryTitle'][1:],cosines[index][1:]):\n",
    "        print(match,score )"
   ]
  },
  {
   "cell_type": "code",
   "execution_count": 35,
   "metadata": {},
   "outputs": [
    {
     "name": "stdout",
     "output_type": "stream",
     "text": [
      "Kill Your Friends 0.7480938267870737\n",
      "T2 Trainspotting 0.7371977490764956\n",
      "Operation Finale 0.734964314950712\n",
      "A Private War 0.7317388613422842\n",
      "Hot Summer Nights 0.7310568037930341\n"
     ]
    }
   ],
   "source": [
    "cosine_recommender('The Shawshank Redemption')"
   ]
  },
  {
   "cell_type": "markdown",
   "metadata": {},
   "source": [
    "## 3rd Model: Jaccard Similarity"
   ]
  },
  {
   "cell_type": "code",
   "execution_count": 42,
   "metadata": {},
   "outputs": [],
   "source": [
    "def get_jaccard_sim(str1, str2):\n",
    "    a = set(str1.split(','))\n",
    "    b = set(str2.split(','))\n",
    "    c = a.intersection(b)\n",
    "    return(float(len(c)) / (len(a) + len(b) - len(c)))\n",
    "\n",
    "def jaccard_recommender(movie_title, number_of_hits=5):\n",
    "    movie = movies[movies.primaryTitle==movie_title]\n",
    "    keyword_string = movie.keywords.iloc[0]\n",
    "\n",
    "    jaccards = []\n",
    "    for movie in movies['keywords']:\n",
    "        jaccards.append(get_jaccard_sim(keyword_string, movie))\n",
    "    jaccards = pd.Series(jaccards)\n",
    "    jaccards_index = jaccards.nlargest(number_of_hits+1).index\n",
    "    matches = movies.loc[jaccards_index]\n",
    "    for match,score in zip(matches['primaryTitle'][1:],jaccards[jaccards_index][1:]) :\n",
    "        print(match,score )"
   ]
  },
  {
   "cell_type": "code",
   "execution_count": 37,
   "metadata": {},
   "outputs": [
    {
     "name": "stdout",
     "output_type": "stream",
     "text": [
      "Lock Up 0.06766917293233082\n",
      "Boy A 0.06765676567656766\n",
      "The Green Mile 0.06582633053221289\n",
      "The Getaway 0.06440071556350627\n",
      "The Fugitive 0.06269113149847094\n"
     ]
    }
   ],
   "source": [
    "jaccard_recommender('The Shawshank Redemption')"
   ]
  },
  {
   "cell_type": "code",
   "execution_count": 53,
   "metadata": {},
   "outputs": [],
   "source": [
    "\n",
    "#movies[movies.primaryTitle=='The Shawshank Redemption'].keywords.iloc[0]"
   ]
  },
  {
   "cell_type": "code",
   "execution_count": null,
   "metadata": {},
   "outputs": [],
   "source": []
  },
  {
   "cell_type": "code",
   "execution_count": null,
   "metadata": {},
   "outputs": [],
   "source": []
  },
  {
   "cell_type": "code",
   "execution_count": null,
   "metadata": {},
   "outputs": [],
   "source": []
  }
 ],
 "metadata": {
  "kernelspec": {
   "display_name": "Python 3",
   "language": "python",
   "name": "python3"
  },
  "language_info": {
   "codemirror_mode": {
    "name": "ipython",
    "version": 3
   },
   "file_extension": ".py",
   "mimetype": "text/x-python",
   "name": "python",
   "nbconvert_exporter": "python",
   "pygments_lexer": "ipython3",
   "version": "3.7.6"
  }
 },
 "nbformat": 4,
 "nbformat_minor": 2
}
